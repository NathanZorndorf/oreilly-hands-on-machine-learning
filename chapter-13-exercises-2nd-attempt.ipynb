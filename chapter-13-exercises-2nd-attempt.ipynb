{
 "cells": [
  {
   "cell_type": "markdown",
   "id": "c123611c",
   "metadata": {},
   "source": [
    "# To do:\n",
    "1. Experiment with `output_mode`, `ngrams`\n",
    "2. Tune `EMBEDDING_DIM` hyperparameter\n",
    "3. https://www.tensorflow.org/text/tutorials/classify_text_with_bert\n"
   ]
  },
  {
   "cell_type": "markdown",
   "id": "22272bb7",
   "metadata": {},
   "source": [
    "from: https://www.tensorflow.org/tutorials/keras/text_classification#prepare_the_dataset_for_training"
   ]
  },
  {
   "cell_type": "markdown",
   "id": "67d20b60",
   "metadata": {},
   "source": [
    "# imports"
   ]
  },
  {
   "cell_type": "code",
   "execution_count": 160,
   "id": "518ebe04",
   "metadata": {},
   "outputs": [],
   "source": [
    "import matplotlib.pyplot as plt\n",
    "import os\n",
    "import re\n",
    "import shutil\n",
    "import string\n",
    "import tensorflow as tf\n",
    "\n",
    "from tensorflow import keras\n",
    "from tensorflow.keras import layers\n",
    "from tensorflow.keras import losses\n",
    "\n",
    "import pandas as pd\n",
    "\n",
    "import re\n",
    "import string"
   ]
  },
  {
   "cell_type": "markdown",
   "id": "22bd738f",
   "metadata": {},
   "source": [
    "# Download the IMDB movie database"
   ]
  },
  {
   "cell_type": "code",
   "execution_count": 6,
   "id": "7dc3eac0",
   "metadata": {},
   "outputs": [],
   "source": [
    "import tensorflow_datasets as tfds"
   ]
  },
  {
   "cell_type": "code",
   "execution_count": 13,
   "id": "c9ea4b5e",
   "metadata": {},
   "outputs": [],
   "source": [
    "url = \"https://ai.stanford.edu/~amaas/data/sentiment/aclImdb_v1.tar.gz\"\n",
    "\n",
    "dataset = tf.keras.utils.get_file(\"aclImdb_v1\", url, untar=True)\n",
    "\n",
    "dataset_dir = os.path.join(os.path.dirname(dataset), 'aclImdb')"
   ]
  },
  {
   "cell_type": "code",
   "execution_count": 8,
   "id": "6d859ae1",
   "metadata": {},
   "outputs": [
    {
     "data": {
      "text/plain": [
       "['imdbEr.txt', 'test', 'imdb.vocab', 'README', 'train']"
      ]
     },
     "execution_count": 8,
     "metadata": {},
     "output_type": "execute_result"
    }
   ],
   "source": [
    "os.listdir(dataset_dir)"
   ]
  },
  {
   "cell_type": "code",
   "execution_count": 10,
   "id": "58a967bf",
   "metadata": {},
   "outputs": [
    {
     "data": {
      "text/plain": [
       "['urls_unsup.txt',\n",
       " 'neg',\n",
       " 'urls_pos.txt',\n",
       " 'unsup',\n",
       " 'urls_neg.txt',\n",
       " 'pos',\n",
       " 'unsupBow.feat',\n",
       " 'labeledBow.feat']"
      ]
     },
     "execution_count": 10,
     "metadata": {},
     "output_type": "execute_result"
    }
   ],
   "source": [
    "train_dir = os.path.join(dataset_dir, 'train')\n",
    "os.listdir(train_dir)"
   ]
  },
  {
   "cell_type": "code",
   "execution_count": 43,
   "id": "bdc173cf",
   "metadata": {},
   "outputs": [
    {
     "data": {
      "text/plain": [
       "['neg', 'urls_pos.txt', 'urls_neg.txt', 'pos', 'labeledBow.feat']"
      ]
     },
     "execution_count": 43,
     "metadata": {},
     "output_type": "execute_result"
    }
   ],
   "source": [
    "test_dir = os.path.join(dataset_dir, 'test')\n",
    "os.listdir(test_dir)"
   ]
  },
  {
   "cell_type": "code",
   "execution_count": 14,
   "id": "79d575ed",
   "metadata": {},
   "outputs": [],
   "source": [
    "remove_dir = os.path.join(train_dir, 'unsup')\n",
    "shutil.rmtree(remove_dir)"
   ]
  },
  {
   "cell_type": "markdown",
   "id": "6f140f4c",
   "metadata": {},
   "source": [
    "# Create train, validation, test datasets"
   ]
  },
  {
   "cell_type": "code",
   "execution_count": null,
   "id": "91548ff6",
   "metadata": {},
   "outputs": [],
   "source": [
    "batch_size = 32\n",
    "seed = 42\n",
    "\n",
    "raw_train_ds = tf.keras.utils.text_dataset_from_directory(\n",
    "    train_dir,\n",
    "    batch_size=batch_size, \n",
    "    validation_split=0.2, \n",
    "    subset='training', \n",
    "    seed=seed)\n",
    "\n",
    "raw_val_ds = tf.keras.utils.text_dataset_from_directory(\n",
    "    train_dir,\n",
    "    batch_size=batch_size, \n",
    "    validation_split=0.2, \n",
    "    subset='validation', \n",
    "    seed=seed)\n",
    "\n",
    "raw_test_ds = tf.keras.utils.text_dataset_from_directory(\n",
    "    train_dir, \n",
    "    batch_size=batch_size)"
   ]
  },
  {
   "cell_type": "markdown",
   "id": "99886c7c",
   "metadata": {},
   "source": [
    "Look at one batch"
   ]
  },
  {
   "cell_type": "code",
   "execution_count": 103,
   "id": "e461f55b",
   "metadata": {},
   "outputs": [
    {
     "data": {
      "text/plain": [
       "[(<tf.Tensor: shape=(32,), dtype=string, numpy=\n",
       "  array([b\"As far as parody films go, there are few that are worth time and energy. but with a recent resurgence of horrid parodies such as Date Movie and The Comebacks, it is a breath of fresh air to come back and rediscover a truly funny farce like Johnny Dangerously.<br /><br />After his mother has no end of medical problems, little Johnny goes to work for the mob. What fallows is a series of gags, most of which work, there are, however, the occasional flops. But a foreign gangster who can't master the American language (profanity wise, at least), a rival gangster with a penchant for shooting his mouth off (...once!), a younger brother with the D.A. who is out to get Johhny Dangerously, and a hot young starlet hot for his affections have Johnny busy.<br /><br />And the viewer will be busy laughing, for the most part, as every gangster-movie clich\\xc3\\xa9 is skewered by a talented cast and decent writing.<br /><br />Not perfect by a long shot, but definitely good for a smile on a bad day.\",\n",
       "         b\"As drunken millionaire playboy Arthur Bach, Dudley Moore is perfect as a grown man trapped in childhood. As it turned out, the role fit Moore so perfectly, it trapped him as an actor as well. Many disappointments soon followed (including this film's pale sequel), yet that doesn't diminish the charm or appeal of this picture, which is cleverly written and directed. Some of Moore's drunk scenes are forced, parts of the film are wobbly, but the cast performs with so much relish it's a difficult movie to resist. It has a very big heart and gives Oscar-winner John Gielgud a sly, dryly amusing role as Arthur's valet, Hobson; his relationship with Arthur is delicious and they have a miraculous rapport. Liza Minnelli (as a blue-collar love-interest) is sassy in a low-key and Moore is brash, but deft and lively; he never shook off the shadow of Arthur, but at least we have this document of a career high-point to cherish. *** from ****\",\n",
       "         b\"From what I've read a lot of people were disappointed by this film, compared to Part 1. Initially I could understand this but after a bit of thought I think they are wrong to be. Soderbergh continues his fact based telling of Che's life that he started in Part 1. Part 1 told a story of a revolution moving from unpromising beginnings to an ultimately successful conclusion. Part 2 tells a story of a revolution that moves from unpromising beginnings to a completely unsuccessful conclusion. It is not Soderbergh's fault that these 2 parts of Che's life had completely different outcomes. He bravely chooses to tell both in a fairly straightforward way. The viewer may feel a lot better coming out of the cinema after Part 1 than Part 2 but that is the reality of Che's life and not in my opinion any fault of the director. The film is far from perfect. It is probably too long. At least in Part 1 we saw different aspects of the war as the guerrillas had successes. In Part 2 they can't catch a break and we see their numbers constantly being reduced by death and capture. Che's capture and death are dealt with well. The film is greatly enhanced by the dialogue being in Spanish. Benicio Del Toro is again excellent as the charismatic Argentinian. So if you've seen Part 1 you will see a very similar telling of a very different story in Part 2.\",\n",
       "         b'Recipe for one of the worst movies of all time: a she-male villain who looks like it escaped from the WWF, has terrible aim with a gun that has inconsistent effects (the first guy she shoots catches on fire but when she shoots anyone else they just disappear) and takes time out to pet a deer. Then you got the unlikable characters, 30 year old college students, a lame attempt at a surprise ending and lots, lots more. Avoid at all costs.',\n",
       "         b\"Children love dinosaurs. It's somewhat part of their culture. But they've got The Land Before Time. The original. At least that movie had heart. This. This movie is just plain pathetic. Just because kids love dinosaurs doesn't mean you can just slap together any old story and show it to the children. This movie has no plot, the whole premise is stupid, and it's more by the numbers stuff. Not as soul sucking as Theodore Rex, but it's lightyears away from being a Land Before Time.\",\n",
       "         b\"Because that's all she does through out this whole movie,is get naked for no good reason.When Tarzan is bitten by a snake,she suddenly removes her clothes.Since when is a boa constrictor poisonous?How did Tarzan get poisoned by the way ? This whole movie is screwed up.They couldn't get the species of animals for this movie right.Whats an Orangutang doing hanging around those chimpanzees?He must have wandered off the set of a much better film.The group of cannibal tribe's men look caucasin.Why?And why was Bo and her dad painted,if they were going to be eaten later?It was probably just a lame excuse to show her breasts and curves again.Her dad while hunting, approaches and acts stupidly around a bull elephant while standing too close to it.Any real African bull elephant that wasn't from the circus,would've stomped this moron's butt.Any smart hunter would've started shooting the minute he saw it.And I can't help but wonder if the camera was on LSD,because it kept showing various scenes that went in slow motion, for no good reason.It didn't make good sense at all.The boa constrictor that Tarzan wrestled with in the water,looks like one of those 12 Ft rubber snakes you can buy at a local Spencer Gifts.Tarzan was strangly speechless in this film,maybe from Bo flashing herself so much.I'm sorry,but this is a rip off of a classic Black and White Tarzan movie,with a similar but better story.Not To mention plotting .There's one scene in that I saw that everyone forgot to mention.*(SPOILERS ALERT)*The scene where he is trying to rescue Jane and her dad,has him standing too close to a running water spout.It made it seem like he's urinating on someone below him.Eww!Also, him and Jane are fooling around on a beach,with perverted monkeys jumping and clapping.She sure did take her dad's death real well.*(END OF SPOILERS)*There should be a Surgeon General's Warning on this film.That seeing Bo naked too much in this movie,will make you go blind.\",\n",
       "         b\"This is a terrible movie, terrible script, bad direction and nonsensical ending. Also, bad performances, except from Clancy Brown who is criminally underused here, and Michael Pollard. Watching this movie was purgatory--you do it to unload enough bad movie karma to actually see a good one further down the line.<br /><br />The movie presents a father and son who look like they couldn't every possibly have been related. The part of the male lead is not well written and seems uncharismatic in this role. You can see the plot points a mile away. The actions of the female lead and that of her brother, the cop, also make no sense. So, a major action on her part at the end of the movie makes no sense script-wise.\",\n",
       "         b'The thing that really gets me about this movie (that is, the thing about this movie that makes me physically ill) is that someone actually paid to have it made. There is absolutely no purpose for the existence of this movie. It is not frightening, it is not thought provoking, it is not entertaining, it is not good. It is a sleeping pill made of cyanide. The DVD case compares it to Blair Witch, Evil Dead, and a few other decent movies, making the filmmaker\\'s desperation glaringly obvious. It is nothing like any other movie ever made; it is far, far worse. The claims of an \"extremely shocking ending you will never forget\" are the equivalent of one ton of stinking horse droppings. Please do not ever waste your time watching this piece of trash, because it may make you sterile. The man who wrote this movie should be wiped off the Writer\\'s Guild membership list, and never allowed to film anything again. Because if he thought THIS was a movie worth making, he probably does not have much of anything to offer in the future. Zero stars. May Grod have mercy on the soul of anyone unfortunate enough to see this. I am going to go vomit now.',\n",
       "         b'SPOILERS<br /><br />Tom and Jerry is a classic cartoon, with a flawless idea, and almost every single short is a gem. While I must say that this is definitely an inferior short compared such other classic Tom and Jerry shorts, there is not way you can hate this cartoon. Sure, it is understandable to say that this is one of the worst of the first Tom and Jerry episodes, and I can say that I agree, but the fact of the matter is that all Tom and Jerry episodes are great, but some are just better than others. Well, this would fit into \"others.\" <br /><br />Here is the plot of Fraidy Cat. Tom is listening to an old scary radio broadcast, and becomes easily frightened. Jerry observes how scared he is, and tries to scare him even more than he already is. He creates scary dilemmas for Tom, and Tom becomes scared out of his wits, and his lives. Jerry then puts a sheet over a vacuum cleaner and controls it, thus making it look like the vacuum is a ghost. Tom finds out that Jerry did all of this, and chases him. Tom then accidentally bites the house maid. However, at the end Jerry ends up the one becoming scared after he sees his reflection in a flour cup.<br /><br />Overall, this is far from the best Tom and Jerry short out there, but this is still a fun and entertaining piece of time. It makes me wish that there was more cartoons like this. The slapstick and gags in this that make Tom and Jerry famous are as good as ever in this short, but it felt like something was missing in this. It felt slower than most Tom and Jerry shorts. Anyway, this is a good short that does not quite live up to some other Tom and Jerry cartoons, but it is still nice.<br /><br />7/10',\n",
       "         b'The movie \"Atlantis: The Lost Empire\" is a shining gem in the rubble of films produced by the Disney Studios recently. Parents who have had to sit through \"The Jungle Book 2\" or even a Pokemon movie will surely appreciate this one.<br /><br />The film is one of few to attempt at an original story; previous feature films were merely re tellings of existing stories. Films such as \"Toy Story\", \"Finding Nemo\", and \"Monsters Inc.\" all do the same, but it must be noted that all were made by Pixar and only distributed by Disney. Recent films from the Disney Studios are mostly released direct to video, and are sequels to an existing successful film. The quality of those films is given way to the profitability. A new era started with \"Atlantis\" following it were \"Mulan\", \"Lilo & Stitch\", and most recently \"Open Range\". The writers have created all original story lines instead of the fairy tales of the past.<br /><br />A good portion of the movie is devoted to the quest to find Atlantis, a task that has captured the imagination of many for hundreds of years. Including that of young Milo Thatch, voiced by Michael J. Fox. Milo is employed by a museum in Washington D.C.. His grandfather was a renowned archaeologist, who had devoted his life to discovering Atlantis. This was seen as a waste by his peers, and they wish Milo to not follow in his footsteps. After failing to convince the museum board of directors to sponsor his expedition, Milo comes home to find a woman in his darkened apartment. She takes him to her employer, a Mr. Whitmore. Whitmore was a close friend of Milo\\'s grandfather, and wishes to send Milo with a team to locate Atlantis. Mr. Whitmore is very wealth and has paid for the best of everything. The crew that is to accompany him is the same as his grandfathers. The journey is filled with many great obstacles to overcome and is great fun to watch. The viewer finds themselves caught up in if they will reach Atlantis. The plot takes an unexpected turn after the discovery Atlantis, not just the discovery of people. It is enough to keep the interest of the older audience.<br /><br />The animators have done a wonderful job in then depth of the animation. The movie is very successful in blending traditional animation with Computer Generated Images. A feat not easily achieved, most audiences are quick to notice the difference in the two. The characters are believably human. There are some nice chase type scenes, with lots of action going on. A few lulls are filled with jokes that the children just may not get.<br /><br />The creativity of the writers really shines through. The culture of Atlantis is richly developed, including an entire language. The film uses references to Atlantis from historical sources, such as Plato. The disappearance of Atlantis from the world is explained. Believable, if by a younger audience, that magic really does exist. The powers of the people of Atlantis are not exactly presented as magic, but can best be described in this way.<br /><br />Although set in 1914 the level of technology used is unrealistic. The voyage is in a submarine very reminiscent of Captain Nemo\\'s nautilus, complete with sub pods that fire torpedoes. The giant diggers are driven by steam boilers so they did try for some era technology. The female characters are empowered in a way that women of the age would not have been, even holding roles in leadership. This is not a bad thing. It gives a good role model for my daughter to look to, rather than an all male cast.<br /><br />One reason this film is a favorite of mine over other Disney films is that there is not one single song, ever. A tradition that began with the first feature film, \"Snow White\", and carried on through to \"The Lion King\", almost every Disney film is full of upbeat songs. This is great and all, what would the Seven Dwarfs be without \"Hi HO!\"? After the millionth time through it\\'d almost be better without, but this one spares the parent. Not once does every single person on the screen suddenly know the words to a song that no one has ever heard before and break out in song. I for one am grateful.<br /><br />The storyline and depth of animation is sure to keep the attention of both parent and child alike. It is a film I am willing to watch again and again with my children.',\n",
       "         b\"Genie (Zoe Trilling) arrives in Egypt to visit her hypocritical, bible-quoting archeologist father (William Finley) and attracts the attention of a group of cultists led by a descendant of the Marquis de Sade (Robert Englund). Englund also plays de Sade in flashbacks, ranting in his cell. Genie is led astray by Mohammed (Juliano Merr), who rides around naked on a horse and Sabina (Alona Kamhi), a bisexual who introduces her to opium smoking, which leads to a wild hallucination featuring topless harem dancers, a woman simulating oral sex on a snake, an orgy and her father preaching in the background! Meanwhile, black hooded cult members decapitate, gouge out eyeballs and slit throats. When Genie is slipped drugs in her tea, she imagines de Sade hanging from a cross, a gold-painted woman in a leafy g-string and herself bloody on a bed covered in snakes. It's all because she's the reincarnation of de Sade's lost love.<br /><br />This typically sleazy Harry Alan Towers production is redundant, seedy and pretty senseless, but the sets, costumes, cinematography and location work are all excellent and at least there's always something going on.<br /><br />Score: 3 out of 10\",\n",
       "         b'This fantastic whodunit is an early prototype of what soon became a very popular film genre. I was happy to see William Powell handling a detective story with charisma and charm, and without the silly attitude of his Nick Charles character (from the \"Thin Man\" series). While the story is good on its own, I think what really makes this movie fun to watch is Michael Curtiz\\' fantastically imaginative direction. From a visual point of view, this is a richly textured movie, with Curtiz showing an incredible command of the medium; from split screen images, to weird camera angles and imaginative flashbacks, Curtiz demonstrates that he was one of the best Hollywood directors. Highly recommended if you are fan of this type of movie.',\n",
       "         b\"And a rather Unexpected plot line too-for the era: there is Plague in the City of New Orleans-and only Richard Widmark can stop it! Elia Kazan's trademark subjects: waterfronts, working men, crowds, fugitives, blue collar folk, violence on a backstreet-are all showcased here.<br /><br />Jack Palance is quite effective as the ice-cold mobster out for a big score, Zero Mostel as Dom Delouise somewhat miscast but certainly watchable as his go-fer. I enjoyed Barbara Bel Geddes as the stalwart, cool wife-I thought she and Widmark were a believable couple.<br /><br />He himself always reminds me somewhat of Sinatra-in the face and in the intense quiet manner-and that is meant as a compliment if anything. I'd never even heard of this movie, and yes, you have to admire Widmark's performance. I also enjoyed Paul Douglas-he seemed to play this role many times, they make an unlikely but effective team.<br /><br />The plague itself is a McGuffin-and you gotta know it's not exactly done the way it would have been in Real Life-rather small-scale at the least no?-but I found it carried the plot along nicely.<br /><br />Check this out. It's good. *** outta ****\",\n",
       "         b'Ah, noir. My favourite genre. Otto Preminger\\'s follow-up to \"Laura\" is a film noir set in a postwar New York, where corruption and violence run rampant. It stars Dana Andrews as Sergeant Mark Dixon, a detective whose brutal tactics have landed him in hot water with his superiors. <br /><br />When he accidentally kills a murder suspect, Dixon tries to pin the blame on crime boss Tommy Scalese. Dixon is close to achieving his goal when he becomes involved with the dead man\\'s wife, the beautiful Morgan Taylor. Of course, in typical noir fashion, things quickly go down hill.<br /><br />While the film does nothing interesting camera or narrative wise, it does have a constant tone of dread and gloom. Like most great noirs, it is also wonderfully paced, sucking the viewer in right from the start.<br /><br />Still, like most of Preminger\\'s workmanlike films, it\\'s not something I\\'d watch again. It lacks the verbal wit of Wilder, the visual flamboyance of Hitchcock or the spatial experimentation of Welles. Like Lang\\'s later work, \"Sidewalk\" feels very much a \"clone\" of what a noir should be, instead of something really artistically genuine. <br /><br />Thematically the film is nothing special. It\\'s about a cop who finds himself slowly becoming a criminal. In one scene Dixon explains that his father himself was a small time crook, the film flirting with the notion of predestination, but this one scene is as far as Otto goes, or dares to take his ideas.<br /><br />The camera work is likewise disappointing. There\\'s no intelligence in Otto\\'s camera. No effort is made to assign the camera to anything. It doesn\\'t play with space or architecture or empahsise the step-by-step police procedural. It\\'s just tripod set ups with the occasional dolly in and out. Meaningless, though most people don\\'t care about these things. <br /><br />There is, however, one good shot where our hero is trapped in a car full of gangsters (noir cage) which itself enters a vehicle-lift (another cage) and is taken up into the chief gangster\\'s lair. Like Lynch\\'s \"Blue Velvet\", Otto retopologizes the film, constantly likens \"upstairs\" to hell. This works well, but the set design fails to reinforce it. <br /><br />7/10 - Otto seems content to follow the Hawksian mould of what a noir is, rather than toy with the possibilities of where noir can go. Like \"Detour\", \"Night in the City\", \"Scarlet Street\", \"In A Lonely Place\", \"Act of Violence\", \"Bomberang\" and \"Johnny Eager\", \"Where the Sidewalk Ends\" is one of those well made second tier film noirs. It\\'s competent and engaging, but lacks that extra special magic.',\n",
       "         b\"Rob Estes, Josie Bisset and a crap load of kids that look nothing like either of them.<br /><br />Basically, Rob and Josie have a shotgun wedding on a drunken night during a Vegas vacation. They each come home to find that their respective children already know of the nuptials due to tabloid-like not-so-fodder. They, Rob and Josie, move both of them and their eight kids into one or the other's house.<br /><br />Rob builds furniture, I think, which is close enough to Frank Lambert's (Patrick Duffy) construction job on the much similar Step by Step to warrant eternal mockage.<br /><br />Josie is some sort of cookie-making queen, though it doesn't look like she makes any of the cookies. Not close enough to Carol Foster's (Suzanne Somers)hairdressing job to warrant likeness mockage, but hilariously preposterous enough to warrant atrocity mockage.<br /><br />Unlike Step by Step, they were a couple before the vacation and actually knew one another's last names, or so one assumes if their serious enough about a relationship to take a trip together.<br /><br />Anyhow, there are eight kids; Moira, Sandy, Jeff, Lily, Daisy, Nathan, Andrew L. and Andrew B. I, personally, think they should've just called the younger Andrew 'Andy'.<br /><br />There's a lot of product placement, particularly for Soup at Hand (Which is disgusting) and Listerine Pocket Packs. There are also some stupid, senseless moments. It's also not a great film to promote happy families.<br /><br />But, hey! Rob Estes! This concludes my review of 'Step By Step... on some really bad drugs.' Watch it for Rob Estes and his pretty!eyes. There are some great pretty!eyes shots.\",\n",
       "         b\"To get in touch with the beauty of this film pay close attention to the sound track, not only the music, but the way all sounds help to weave the imagery. How beautifully the opening scene leading to the expulsion of Gino establishes the theme of moral ambiguity! Note the way music introduces the characters as we are led inside Giovanna's marriage. Don't expect to find much here of the political life of Italy in 1943. That's not what this is about. On the other hand, if you are susceptible to the music of images and sounds, you will be led into a word that reaches beyond neo-realism. By the end of the film we there are moments Antonioni-like landscape that has more to do with the inner life of the characters than with real places. This is one of my favorite Visconti films.\",\n",
       "         b'The Dukes of Hazzard will academy awards!! Best actor and actress 4 the persons who can say with a straight face that this was a great movie.<br /><br />This \"movie\" was a torture to watch. So sad how an weekly half hour entertainment was destroyed by these amateurs.The only good thing about this crap was the car! I remember when Daisy was a real threat to look 4ward 2. Who\\'s the moron that decided that Jessica Simpson is hot?! We know she can\\'t act but come on. In the TV show Daisy was a fox and brunette.<br /><br />All members who contributed in these waste of time please please please don\\'t even think about makin a sequel, a prequel or anything that\\'s got 2 do with a former TV show.<br /><br />I gave a empty DVD so this \"movie\" could be burned 4 me. I sat trough it and i want my money back!',\n",
       "         b'\"A total waste of time\" Just throw in a few explosions, non stop fighting, exotic cars a deranged millionaire, slow motion computer generated car crashes and last but not least a Hugh Hefner like character with wall to wall hot babes, and mix in a blender and you will have this sorry excuse for a movie. I really got a laugh out of the \"Dr. Evil\" like heavily fortified compound. The plot was somewhere between preposterous and non existent. How many millionaires are willing to make a 25 million dollar bet on a car race? Answer: 4 but, didn\\'t they become millionaires through fiscal responsibility? This was written for pubescent males, it plays like a video game. I did enjoy the Gulfstream II landing in the desert though.',\n",
       "         b\"'They All Laughed' is a superb Peter Bogdanovich that is finally getting the recognition it deserves, and why? their are many reasons the fact that it's set in new york which truly sets the tone, the fantastic soundtrack, the appealing star turns from Ben Gazzara, and the late John Ritter who is superb. and of course no classic is complete without Audrey Hepburn. the film is a light and breezy romantic comedy that is very much in the vein of screwball comedy from the thirties, film is essentially about the Odyssey detective agency which is run by Gazzara who with his fellow detectives pot smoking and roller skating eccentric Blaine Novak(the films co-producer) and John Ritter, basically the Gazzara falls for a rich tycoon magnate's wife(Hepburn) and Ritter falls for beautiful Dorothy Stratten who sadly murdered infamously after production, 'They All Laughed is essential viewing for Bogdanovich fans.\",\n",
       "         b'\"October Sky\" is a film that will steal your heart, fill your mind with vivid imagery, and lift your spirit. The tale of Homer Hickham and his dream of creating a rocket seem so simple at first, especially when the film is set in a mining town, where the future is as clear cut as the lumps of coal in the mine. But Homer cannot follow in his father\\'s footsteps. With the encouragement of Miss Riley,(a friendly teacher), members of his father\\'s staff, and his friends, Homer attempts to make his dream a reality.<br /><br />Yet as in any true to life story, there are many stops along the way. Director Joe Johnston lowers us into the coal mines, where we witness the chilling plight of miners stooped beneath a ceiling of rock. With lit helmets and bent posture, they resembled alien insectoids more than humans in the darkness. The hacking coughs of the miners and the blackened faces were a constant reminder of the danger the miners faced in their work.<br /><br />Contrasting the mine shaft\\'s lugubrious load are the images of Homer and his friend\\'s rocket launches. Underneath the blue bowl of sky, rockets are placed upon a pad and launched into the stratosphere...And nothing can match the scene when Homer sees Sputnik for the first time.<br /><br />Yet what makes the film so endearing is the relationship between the characters. Homer\\'s father is a classic hardened man...but he has a soft side as well. We see that he does love his son, despite their many arguments. The love and support of Miss Riley is evident as well. Best of all, the film is uncomfortable. It doesn\\'t tie everything up in a nice bow. It tears at you, lifts you up. It keeps an air of reality, which is important in a film like this.<br /><br />This film can be considered a complete work. At first, I was disappointed that the film did not continue with Homer\\'s life. I didn\\'t want it to end. Then I realized...that\\'s what a good film does to a person. If it has done its job, you won\\'t want it to end. And \"October Sky\" accomplishes just that.',\n",
       "         b'Caution: May contain spoilers...<br /><br />I\\'ve seen this movie 3 times & I\\'ve liked it every time. Upon seeing it again, I\\'m always reminded of how good it is. An HBO TV movie- very well done like most of their movies are- this would\\'ve gotten Oscars for it\\'s performances had it been released for general distribution instead of made for TV.<br /><br />As I\\'m sure anyone knows from reading other reviews here, this is the story of serial murderer, Andrei Chikatilo. He murdered 56 people over 8 years in the former Soviet Union. (3 victims were buried & couldn\\'t be found so he was only convicted of 52 out of 53 of his murders.) The story actually focuses more on the forensic analyst, Victor Burakov played to perfection by Stephen Rea. A man that becomes tortured and obsessed with finding this killer despite the additional obstacles placed by party hacks, his part is essential to be sure. There is a very touching scene towards the end of the movie that mentions how in America, investigators are routinely taken off serial killer cases after 18 months whether they want to or not due to the mental strain & frustration. According to this acct, Burakov worked for over 5 years before getting his first break from it. He followed the case to its conclusion, 3 years later. In this scene, his superior, General Fetisov, played by Donald Sutherland, actually tells him he admires his dedication and apologizes for not knowing he should\\'ve given him a break sooner.<br /><br />Rea\\'s performance is so well done, he doesn\\'t overact, chew up the scenery or do anything that distracts from his portrayal of a man who is hell bent on finding his killer. He is a man with passion, but doesn\\'t show it in the same manner as is so usually portrayed in detective movies. He only occasionally gives outbursts after quietly putting up with more than most could stand under such circumstances. Rea does so much with his face, his eyes, he doesn\\'t need to overact. He just *is* - His character, so frustrated after so long, at one point, driven to frustration, he actually says he\\'d rather find 3 at one time than none in a year. Of course what he means is not that he wants more people to die, he just wants some clues to catch this man. Rea makes us feel for this man. He makes us understand but a glimpse of what it is to live with such horror and futility.<br /><br />A mutant to be sure, Chikatilo\\'s childhood was one which produces such \"monsters.\" The character of Chikatilo is very well done by Jeffrey DeMunn. He somehow (impossible though it may seem) elicits some modicum of sympathy for himself. Perhaps he is the worst of us gone terribly wrong? Either way, his performance is very well done.<br /><br />Donald Sutherland as Colonel Fetisov (later promoted to General) also does a great job. He starts out seeming to be a cynical worldly official that doesn\\'t seem much more interested in helping the investigation than anyone else blocking Burakov. But he eventually becomes more than just an assistant, he actually actively participates in helping Burakov. There is also a very nice turn by Max Von Sydow as the psychiatrist brought in to help profile and figure out what kind of deviant they are looking for.<br /><br />Although this movie deals with a morbid, grotesque and violent story, it really is more about what it takes to catch a killer than the killer himself. All around a very well done movie with fine performances and a great screenplay. The screenplay manages to do what the best of this type of movie does: give factual events & place them meaningfully inside a dramatic framework that makes you feel like you know the people *behind* the facts.<br /><br />9 out of 10 stars',\n",
       "         b\"This is a very engrossing BBC-TV mini-series which is loosely based upon a mysterious disappearance of a young mother, but the series is really more of a study of the assorted characters in the story, which lasts for five hours. It is thus very much an ensemble piece, where the wide variety of brilliant British actors and actresses can show off their talents. The actual characters portrayed are really 'the kind of people one does not normally meet', people so boring and nondescript that it is difficult to admire them. For instance, the lead character is a young husband (the one whose wife disappears) who has no job and no apparent interest in finding any. He lives off handouts from his parents-in-law. He was once in the Army but does not appear to have the slightest flicker of any ambition or any interests in life apart from doting on his small family. He is played by David Oyelowo, who is brilliant at the part, coming across as a totally sympathetic person, although his only activities for five hours are loving and grieving, which he does superbly, so that one wants to comfort him, as he is so obviously a nice guy. The standout performance of the whole series is unquestionably Penelope Wilton, who acts circles round everyone else in the story. She is simply incredible. She portrays a very unsympathetic woman, indeed the only character in the story who is all too familiar to everyone, namely an irrational, hysterical, self-centred, dense, querulous, blindly loving and blindly hating, elderly idiot-woman. Alas, alas, we know them too well. Wilton is one of Britain's finest actresses (see my review of her in 'Half Broken Things'). She takes a character who could have been two-dimensional and makes her four-dimensional. She is wonderfully supported by old pro Patrick Malahide, who plays her exasperated husband, and the pair of them set a high standard indeed for all the younger players. Janet McTeer, a spectacular actress when younger, has become a much less sympathetic type of person now that she is older, has coarsened in some way, and puts one off, but she redeems herself in the latter stages of the story by showing how brilliant an actress she can be when she has a chance by pulling off one of the most convincing and original drunk scenes I have ever seen on film. The big surprise is the enigmatic character Sarah, played with great depth and originality by actress Sarah Smart. She takes a character who could have been insufferably tedious and by sheer acting magic turns her into a deeply mysterious and intriguing person, about whom we wonder tirelessly for the entire five hours. She is so good at it that we end up wondering about Sarah Smart, frankly. I guess that's what happens when you really do your job properly, that people wonder where the character ends and the actress begins, if she knows herself, that is, and many do not. She has some deeply unnerving tricks with her eyes, which wobble and let us know she is unhinged, but we are not sure how or why, though we eventually learn that she had an extremely violent and traumatic childhood. Her mastery of ambiguous facial expressions is extraordinary. Rory Kinnear is amazingly convincing as an apparently hopeless fellow who lives with his mum and isn't up to much, but who turns out to have hidden depths. (I suppose most people have hidden depths, but do we want to plumb them, that is the question.) His mum is played very well indeed by Margot Leicester. A superb performance is given by Lucinda Dryzek, who plays a snotty, revolting teenage girl of the sort we all dread to meet, but who at crucial moments collapses in helpless tears and turns out to be pathetic, with all her arrogance just a pose. Three other children are also very good, Lucinda's friend, and her younger half-brother and half-sister. The younger siblings may be very dim indeed as characters in the story (they seem unable to say anything particularly articulate, being hopeless witnesses to the disappearance), with little to recommend them but their sweet natures, but that is conveyed to wonderful effect by Lee Massey as the boy and Tyler Anthony as the girl. Harriet Walter has a small role, but we do not get to see much of her, which is a shame, as she is such a fine actress that she was wasted here. One could go on, but one must draw a line somewhere. The series manages to be strangely fascinating because of the depth of portrayal of all these essentially uninteresting people caught up in a web of intense anxiety and suspense.\",\n",
       "         b'I know, I know: it\\'s childish. But I just love this type of movie. A bird that suffered a lot of \"mishaps\" and still hasn\\'t lost his faith in humanity and his sense of humor. What\\'s special about this film is the fact that the main character is Paulie -the parrot- and he\\'s not used as a boost to some hotshot human actor. Furthermore I like the storyline: Paulie tells his lifestory to a cleaner at the point he hit rock bottom. (By the way: Jay Mohr\\'s voice almost sounds like Joe Pesci\\'s!). And Cheech Marin of course, the man IS humor to me. Ever since I saw \"Up in Smoke\" I have appreciated his naive way of performing, making a simple situation a hilarious one.. can\\'t help myself.',\n",
       "         b\"Running Man isn't a great movie, in fact it's kinda silly. But it delivers what you want in an Arnie movie and that is action and entertainment. I don't see how anyone couldn't enjoy this picture, it's so silly and over the top, that it almost makes fun of itself. By the way, this is probably one of the most quotable Arnie movies out there.\",\n",
       "         b'A lawyer is drawn into a deadly game of cat and mouse when he becomes involved with a femme fatale in this adaptation of a Grisham novel. Altman creates a suspenseful, Gothic atmosphere but the script is weak. Sporting a Southern drawl, Branagh is convincing as the lawyer, and Davidtz is alluring as the object of his desire. Downey is likable as a private detective. Duvall has a small role, which does not allow him to do much with his weird character. Hannah and Berenger round out the impressive cast. After an interesting setup, the film bogs down and does not really deliver on its initial promise, but Altman is always worth a look.',\n",
       "         b'I was looking through the movie listings in my area on yahoo and seen a movie that had not been advertised. I looked closer and noticed that Peter Falk and Paul Reiser were in it. Having watched \"Mad about you\", once, I was not a fan of Paul Reiser. However, I am a big fan of Peter Falk. So the spouse and I took a chance. We were both swept into this story. The beautiful scenery, the heartfelt acting and the sense of family and moral values that are seldom seen in movies and the world today. Not that sappy emoted junk, but real life situations from real life-like people. I even have to say, Paul Reiser was excellent, although, I still won\\'t watch \"Mad about you\". I don\\'t know where this movie has gone. I heard it was put out in limited release. It should be shared with the world. It is one of the finest movies I have seen. M.',\n",
       "         b'This effort is based on the true story of Jim Morris, a high school science teacher/baseball coach, who is inspired by his players to try out for the pros and fulfill his life-long dream of playing in the majors. Dennis Quaid, no stranger to sports films, plays Morris with enough conviction to make the part work and the producers do a credible job of recreating the real-world events that led to Morris brief stint as a relief pitcher for the woefull Tampa Bay Devil Rays. The first half of the film, dealing with his rag tag bunch of High School Baseball players (all of whom look way too old to actualy be in High School) is less effective and probably a bit too long. Overall the film does suffer from some pacing issues and a few extra subplots that we probably could have done without. However, it is still a fairly involving movie with an inspirational theme that proves once again that baseball is the national pastime for a reason. GRADE: B-',\n",
       "         b\"Being a fan of silent films, I looked forward to seeing this picture for the first time. I was pretty disappointed. <br /><br />As has been mentioned, the film seems to be one long, long, commercial for the Maxwell automobile. <br /><br />Perhaps if the chase scene was about half the length that it is, I may have enjoyed the film more. But it got old very fast. And while I recognize that reality is stretched many times in films, without lessening a viewer's enjoyment, what was with the Mexican bandits? I mean, they are chasing a car through the mountains, a car that most of the time is moving at about one mile per hour, yet they can't catch up to it?\",\n",
       "         b'I had numerous problems with this film.<br /><br />It contains some basic factual information concerning quantum mechanics, which is fine. Although quantum physics has been around for over 50 years, the film presents this information in a grandiose way that seems to be saying: \"Aren\\'t you just blown away by this!\" Well, not really. These aren\\'t earth shattering revelations anymore. At any rate, I was already familiar with quantum theory, and the fact that particles have to be described by wave equations, etc. is not new.<br /><br />The main problem I have with this movie, however, is the way these people use quantum theory as a way of providing a scientific basis for mysticism and spiritualism. I don\\'t have any serious problem with mysticism and spiritualism, but quantum mechanics doesn\\'t really have anything to do with these things, and it should be kept separate. The people they interviewed for this movie start with the ideas of quantum theory and then make the leap to say that simply by thinking about something you can alter the matter around you, hence we should think positively so as to have a positive impact on the world and make our lives better. The reasoning is completely ridiculous, and the conclusions do not logically follow from quantum theory. For every so called \"expert\" that they interviewed for this film, there are scores of theoretically physicists who would completely disagree. They would point out, quite rightly, that the unpredictability of the subatomic world does not lend support to mystical notions about our spiritual connectedness.<br /><br />It disturbs me that people are going to see this film and completely eat it up because it leaves them with a nice positive feeling. The main thrust of the film is based on a total misinterpretation of quantum theory, and it is as bad in its reasoning as any attempt to justify organized religion with similar pseudo-scientific arguments.<br /><br />Avoid this film.<br /><br />Oh yeah. At one point, one of the \"experts\" says that since throughout history most of the assumptions people have made about the world turned out to be false, therefore the assumptions we currently hold about the world are also likely to be false. Huh? That totally does not follow. And even if it did, I don\\'t see how that helps his argument. I mean, if his ideas ever became common assumptions then I guess we would have to assume that they are false too, based on his own reasoning.',\n",
       "         b'The beginning of this movie is excellent with tremendous sound and some nice humor, but once the film changes into animation it quickly loses its appeal.<br /><br />One of the reasons that was so, at least for me, was that the colors in much of the animation are too muted, with too little contrast. It doesn\\'t look good, at least on VHS. Once in a while it breaks out and looks great, but not often Also, the characters come and go too quickly. For example, I would have liked to have seen more of \"Moby Dick.\" When the film starts to drag, however, it picks up again with the entrance of the dragon and then the film finishes strong. <br /><br />Overall, just not memorable enough or able to compete with the great animated films of the last dozen years.',\n",
       "         b\"I'm a huge Steven Seagal fan. Hell, I probably weigh as much as he does although I don't have the street cred to sport the frizzy-mullet-ponytail. Having stated my own bias and affection for America's favorite corpulent stage and screen hero, it is with a heavy heart that I must declare this to be his worst movie ever. I'm not sure he could make a movie any worse than this.<br /><br />In his defense the major problems with this film seem to occur in post-production. It's painfully obvious that this movie was supposed to have a different storyline. That results in woeful voiceovers in which Steve's voice doesn't nearly sync up with that of the dubbed voice. The editing is pisspoor and overall this starts bad, gets even worse, and by the end you'll wish you had rewatched The Da Vinci Code instead. Yes, it's that bad.<br /><br />After this I don't know what to expect from Steve. My friends still laugh at me for listening to his CDs. Is it time I start checking out some of the Van Damme direct to DVD nutty logs? If you are tempted to watch this movie, rip your eyeballs out and flush them down the toilet. A lifetime of darkness is better than 89 minutes of this.\",\n",
       "         b'Was this based on a comic-book? A video-game? A drawing by a 3 year-old? <br /><br />There is nothing in this movie to be taken seriously at all; not the characters, not the dialog, not the plot, not the action. Nothing. We have high-tech international terrorists/criminals who bicker like pre-school kids, Stallone\\'s man-of-steel-type resilience towards ice-cold weather, dialog so dumb that it\\'s sometimes almost hilarious, and so on. Even the codename that the bad guys use is dumb (\"tango-tango\"). A film that entertains through some suspense, good action-sequences, and a nice snowy mountainous setting. Oh, yes: and the unintentional humour.<br /><br />The film opens with some truly bad and unconvincing gay banter between our go-lucky and happy characters who are obviously having a \"swell\" time. Then comes a sweat-inducing failed-rescue part, which should make anyone with fear-of-heights problems want to pull their hair out. And then we have some more bad dialog, and after that some more great action. This is the rhythm of the film in a nutshell. <br /><br />Stallone\\'s melodramatic exchange with Turner, when they meet after a long time, is so soapy, so clich\\xc3\\xa9d, so fake, and so bad that it should force a chuckle out of any self-respecting viewer. Soon after this display of awful dialog-writing, we are witnesses to a spectacular and excellently shot hijack of an airplane. The entire action is one big absurdity, but it\\'s mindless fun at its best. Although the rest of the action is exciting and fun, the airplane scenes are truly the highlight of the film. After the landing, our master-criminals seek for a guide and end up with Stallone and Rooker. They send Stallone to fetch the first case of money, but somehow they do everything to make it as difficult as possible for him to reach it; they take most of his clothes off (so he can freeze) and they won\\'t give him the equipment he needs (so he can fall off). DO THESE GANGSTERS WANT THEIR MONEY FETCHED OR NOT??? Very silly. Apparently they don\\'t trust Stallone, but surely they know that they can always black-mail him by using Rooker as a hostage. Nevertheless, our gangsters make Stallone\\'s climb difficult, if for no logical reasons then to at least show us how truly evil they are - lest there be any doubts. And for those who might still doubt how evil the bad guys are, they overact, brag, and snicker in a truly evil manner. Everyone convinced? Good. You\\'d better be. Otherwise the writers will throw in a mass execution of twenty school children, just to make sure that the evilness of the bad guys is crystal-clear to everyone.<br /><br />The old guy who flies the chopper... How the hell did he fall for the trap? Firstly, he must have been warned by the MTV airhead about the criminals, and secondly, he must have heard Stallone\\'s and Rooker\\'s voices on the walkie-talkies. A whole bunch of idiotic verbal exchanges take place, with Lithgow having the questionable honour of getting most of the silly lines. \"Get off my back!\" Lithgow: \"I haven\\'t even started climbing on your back.\" Or, Lithgow to Stallone: \"We had a deal, but now we only have each other!\" And as for Lithgow\\'s gang of murderers: these guys never seem to want to kill immediately. They are very creative about it; they philosophize, pretend that they are playing football with your body, and so on. <br /><br />Stallone co-wrote this thing. I have no idea what drugs he was on when he did it. I\\'d hate to think the script is this bad because of a low I.Q.'],\n",
       "        dtype=object)>,\n",
       "  <tf.Tensor: shape=(32,), dtype=int32, numpy=\n",
       "  array([1, 1, 1, 0, 0, 0, 0, 0, 1, 1, 0, 1, 1, 1, 1, 1, 0, 0, 1, 1, 1, 1,\n",
       "         1, 1, 1, 1, 1, 0, 0, 0, 0, 1], dtype=int32)>)]"
      ]
     },
     "execution_count": 103,
     "metadata": {},
     "output_type": "execute_result"
    }
   ],
   "source": [
    "# look at one element in raw_train_df dataset\n",
    "# view raw data and tensor metadata\n",
    "list(raw_train_ds.take(1))"
   ]
  },
  {
   "cell_type": "code",
   "execution_count": 102,
   "id": "7bb4cb5f",
   "metadata": {},
   "outputs": [
    {
     "data": {
      "text/plain": [
       "[(array([b\"It's boggles the mind how this movie was nominated for seven Oscars and won one. Not because it's abysmal or because given the collective credentials of the creative team behind it really ought to deserve them but because in every category it was nominated Prizzi's Honor disappoints. Some would argue that old Hollywood pioneer John Huston had lost it by this point in his career but I don't buy it. Only the previous year he signed the superb UNDER THE VOLCANO, a dark character study set in Mexico, that ranks among the finest he ever did. Prizzi's Honor on the other hand, a film loaded with star power, good intentions and a decent script, proves to be a major letdown.<br /><br />The overall tone and plot of a gangster falling in love with a female hit-man prefigures the quirky crimedies that caught Hollywood by storm in the early 90's but the script is too convoluted for its own sake, the motivations are off and on the whole the story seems unsure of what exactly it's trying to be: a romantic comedy, a crime drama, a gangster saga etc. Jack Nicholson (doing a Brooklyn accent that works perfectly for De Niro but sounds unconvincing coming from Jack) and Kathleen Turner in the leading roles seem to be in paycheck mode, just going through the motions almost sleepwalking their way through some parts. Anjelica Huston on the other hand fares better but her performance is sabotaged by her character's motivations: she starts out the victim of her bigot father's disdain, she proves to be supportive to her ex-husband, then becomes a vindictive bitch that wants his head on a plate.<br /><br />The colours of the movie have a washed-up quality like it was made in the early 70's and Huston's direction is as uninteresting as everything else. There's promise behind the story and perhaps in the hands of a director hungry to be recognized it could've been morphed to something better but what's left looks like a film nobody was really interested in making.\",\n",
       "         b'It is rare that one comes across a movie as flawless as this. It\\'s truly one of the best acted, most tightly structured films I\\'ve ever seen. Every line of dialogue can be interpreted in several ways, relating to each of the three main characters differently. The film weaves an intrinsic web of motivations and double crosses that snare you and refuse to let go. Add to this that the slow-burning romance between Kevin and Faye is as moving as anything that\\'s ever been committed to celluloid and you have the ingredients for a perfect film. It exposes the romance of movies such as \"Titanic\" as the trite cliches they are. If you\\'re looking for a movie to watch while you fold laundry, this isn\\'t it. You have to commit yourself to this film. You can\\'t have a conversation while running in and out of the room. This movie demands your attention. Treat it with the respect you deserve and you\\'ll get a lot out of it. Unless you think \"Titanic\" is the greatest film ever.',\n",
       "         b\"As drunken millionaire playboy Arthur Bach, Dudley Moore is perfect as a grown man trapped in childhood. As it turned out, the role fit Moore so perfectly, it trapped him as an actor as well. Many disappointments soon followed (including this film's pale sequel), yet that doesn't diminish the charm or appeal of this picture, which is cleverly written and directed. Some of Moore's drunk scenes are forced, parts of the film are wobbly, but the cast performs with so much relish it's a difficult movie to resist. It has a very big heart and gives Oscar-winner John Gielgud a sly, dryly amusing role as Arthur's valet, Hobson; his relationship with Arthur is delicious and they have a miraculous rapport. Liza Minnelli (as a blue-collar love-interest) is sassy in a low-key and Moore is brash, but deft and lively; he never shook off the shadow of Arthur, but at least we have this document of a career high-point to cherish. *** from ****\",\n",
       "         b\"At first, I thought the Ring would be a more than normal movie with it's ordinary plot. How surprised was I! Of course, the plot is simple - one girl is in love with two men - but Hitchcock brings it to us on a silver platter, with laughter and fear, with compassion and anguish. The way he depicts the popular crowds of the fair, the strength of the attraction of the girl to both men, the tragic elements that come together with techniques that open the mind to most of his greatest movies(North by Northwest, the Rope, etc.). The master did it great even before his thirties!\",\n",
       "         b'There is so much that is wrong with this film, but to sum it up: Terrible acting- so bad it must have been on purpose. poor script - they may have had some good ideas but this was not the best way to present the story. ridiculously bad ending- in some cases the ending manages to save the film-not in this case. if you manage to sit through the entire film you will want to kick yourself at the end because the ending is not even worth waiting for. This is the worst film i have seen in a long time. It was complete torture sitting through this film, i would have appreciated someone warning me in advance. So do yourself a favor. Watch this film only if you have absolutely nothing better to do. Even then you will regret having put yourself through the unspeakable torture.',\n",
       "         b'Suggesting nothing less than a movie-length version of the 1970s TV hit \"Love, American Style,\" decked out with flashes of nudity, \"Superchick\" (1973) is a lighthearted piece of fluff that somehow still manages to entertain. And the lead character here, Tara B. True, really IS some kind of superchick. A stewardess (not flight attendant) who\\'s so good-looking that even her plane\\'s autopilot has made a pass at her (!), and with a hunky boyfriend in every port, this wingin\\', swingin\\' gal really does put the \"lay\" in \"layover.\" What with her germaphobe surgeon beau in New York, her playboy with gangster problems in Miami, and her creatively challenged rock star dude in L.A., Tara sure does keep busy. And when she\\'s not draining these guys of all their manly energies, as the viewer learns, she\\'s liable to be taking a karate class, mile-high clubbing, fending off flashers and rapists, attending groovy pot parties AND stopping a hijacking attempt on her airplane. As I said, lighthearted fun, and surely good for a night when you\\'re feeling somewhat brain-dead and just want to veg out in front of the tube. Future astrologist Joyce Jillson does bring some vacuous charm to her role as Tara, and the film looks handsome enough to please. Disappointingly, buxom \\'70s faves Uschi Digard and Mary Gavin (aka Candy Samples) are wasted here in very small roles, but still get to do what they do best--show off their chesticles! Though the picture is never laff-out-loud funny and doesn\\'t really have many thoughts in its metaphorical head, it does succeed in being consistently amusing, and I suppose that is something. Strange that the end credits should call attention to Ms. Jillson\\'s body double, however; don\\'t think I\\'ve ever seen THAT before!',\n",
       "         b\"This is a very engrossing BBC-TV mini-series which is loosely based upon a mysterious disappearance of a young mother, but the series is really more of a study of the assorted characters in the story, which lasts for five hours. It is thus very much an ensemble piece, where the wide variety of brilliant British actors and actresses can show off their talents. The actual characters portrayed are really 'the kind of people one does not normally meet', people so boring and nondescript that it is difficult to admire them. For instance, the lead character is a young husband (the one whose wife disappears) who has no job and no apparent interest in finding any. He lives off handouts from his parents-in-law. He was once in the Army but does not appear to have the slightest flicker of any ambition or any interests in life apart from doting on his small family. He is played by David Oyelowo, who is brilliant at the part, coming across as a totally sympathetic person, although his only activities for five hours are loving and grieving, which he does superbly, so that one wants to comfort him, as he is so obviously a nice guy. The standout performance of the whole series is unquestionably Penelope Wilton, who acts circles round everyone else in the story. She is simply incredible. She portrays a very unsympathetic woman, indeed the only character in the story who is all too familiar to everyone, namely an irrational, hysterical, self-centred, dense, querulous, blindly loving and blindly hating, elderly idiot-woman. Alas, alas, we know them too well. Wilton is one of Britain's finest actresses (see my review of her in 'Half Broken Things'). She takes a character who could have been two-dimensional and makes her four-dimensional. She is wonderfully supported by old pro Patrick Malahide, who plays her exasperated husband, and the pair of them set a high standard indeed for all the younger players. Janet McTeer, a spectacular actress when younger, has become a much less sympathetic type of person now that she is older, has coarsened in some way, and puts one off, but she redeems herself in the latter stages of the story by showing how brilliant an actress she can be when she has a chance by pulling off one of the most convincing and original drunk scenes I have ever seen on film. The big surprise is the enigmatic character Sarah, played with great depth and originality by actress Sarah Smart. She takes a character who could have been insufferably tedious and by sheer acting magic turns her into a deeply mysterious and intriguing person, about whom we wonder tirelessly for the entire five hours. She is so good at it that we end up wondering about Sarah Smart, frankly. I guess that's what happens when you really do your job properly, that people wonder where the character ends and the actress begins, if she knows herself, that is, and many do not. She has some deeply unnerving tricks with her eyes, which wobble and let us know she is unhinged, but we are not sure how or why, though we eventually learn that she had an extremely violent and traumatic childhood. Her mastery of ambiguous facial expressions is extraordinary. Rory Kinnear is amazingly convincing as an apparently hopeless fellow who lives with his mum and isn't up to much, but who turns out to have hidden depths. (I suppose most people have hidden depths, but do we want to plumb them, that is the question.) His mum is played very well indeed by Margot Leicester. A superb performance is given by Lucinda Dryzek, who plays a snotty, revolting teenage girl of the sort we all dread to meet, but who at crucial moments collapses in helpless tears and turns out to be pathetic, with all her arrogance just a pose. Three other children are also very good, Lucinda's friend, and her younger half-brother and half-sister. The younger siblings may be very dim indeed as characters in the story (they seem unable to say anything particularly articulate, being hopeless witnesses to the disappearance), with little to recommend them but their sweet natures, but that is conveyed to wonderful effect by Lee Massey as the boy and Tyler Anthony as the girl. Harriet Walter has a small role, but we do not get to see much of her, which is a shame, as she is such a fine actress that she was wasted here. One could go on, but one must draw a line somewhere. The series manages to be strangely fascinating because of the depth of portrayal of all these essentially uninteresting people caught up in a web of intense anxiety and suspense.\",\n",
       "         b\"A young cat tries to steal back his brothers soul from death but only gets half of it and then has to go adventuring to get the other half... or maybe not. <br /><br />Frankly I'm not sure what happens in this film which is full of very strange, very surreal images some of which parents might find disturbing, (ie.the cats slicing off part of a pig who is traveling with them and the frying it like bacon which all three eat).<br /><br />This is a very strange film that some have likened to Hello Kitty on acid, I think its more like Hello Kitty as done by Dali. (Certainly this is more alive than Destino which was directly based on his work).<br /><br />If your up for a very off beat film that will challenge your perceptions of things then see this movie. Just be ready for some very strange images that will be burned into your memory forever.<br /><br />\",\n",
       "         b'I honestly had no idea that the Notorious B.I.G. (Bert I. Gordon the director; not the murdered rapper) was still active in the 80\\'s! I always presumed the deliciously inept \"Empire of the Ants\" stood as his last masterful accomplishment in the horror genre, but that was before my dirty little hands stumbled upon an ancient and dusty VHS copy of \"The Coming\", a totally obscure and unheard of witchery-movie that actually turned out a more or less pleasant surprise! What starts out as a seemingly atmospheric tale of late Dark Ages soon takes a silly turn when a villager of year 1692 inexplicably becomes transferred to present day Salum, Massachusetts and promptly attacks a girl in the history museum. For you see, this particular girl is the reincarnation of Ann Putman who was a bona fide evil girl in 1692 and falsely accused over twenty people of practicing witchcraft which led to their executions at the state. The man who attacked Loreen lost his wife and daughter this and wants his overdue revenge. But poor and three centuries older Loreen is just an innocent schoolgirl, \\xc2\\x85 or is she? \"Burned at the Stake\" unfolds like a mixture between \"The Exorcist\" and \"Witchfinder General\" with a tad bit of \"The Time Machine\" thrown in for good measure. Way to go, Bert! The plot becomes sillier and more senseless with every new twist but at least it never transcends into complete boredom, like too often the case in other contemporary witchcraft movies like \"The Dunwich Horror\" and \"The Devonsville Terror\". The film jumps back and forth between the events in present day and flashbacks of 1692; which keeps it rather amusing and fast-paced. The Ann Putman girl is quite a fascinating character, reminiscent of the Abigail Williams character in the more commonly known stage play \"The Crucible\" (also depicted by Winona Ryder in the 1996 motion picture). There are a couple of cool death sequences, like the teacher in the graveyard or the journalist in the library, that are committed by the ghost of malignant reverend who made a pact with Ann Putman and perhaps even the Devil himself. The film gets pretty spastic and completely absurd near the end, but overall there\\'s some good cheesy fun to be had. Plus, the least you can say about Bert I. Gordon is that he definitely build up some directorial competences over the years.',\n",
       "         b'This effort is based on the true story of Jim Morris, a high school science teacher/baseball coach, who is inspired by his players to try out for the pros and fulfill his life-long dream of playing in the majors. Dennis Quaid, no stranger to sports films, plays Morris with enough conviction to make the part work and the producers do a credible job of recreating the real-world events that led to Morris brief stint as a relief pitcher for the woefull Tampa Bay Devil Rays. The first half of the film, dealing with his rag tag bunch of High School Baseball players (all of whom look way too old to actualy be in High School) is less effective and probably a bit too long. Overall the film does suffer from some pacing issues and a few extra subplots that we probably could have done without. However, it is still a fairly involving movie with an inspirational theme that proves once again that baseball is the national pastime for a reason. GRADE: B-',\n",
       "         b'Been lurking for a couple of years or so. I have never been moved to post on here before, so perhaps this movie is worth a star for that, but I doubt it. I just watched it on DVD, having missed it in the movies due to illness and never got around to watching it till now. I had not read extensively about it, certainly not even thought about the movie in some months. It was just what the buddy picked up in the store, so it got watched.<br /><br />Bad mistake.<br /><br />The shot I spoke of in the the summary up top is in the trailer and on the poster. Right from the off, Jason Statham has hair. Like in no other GR movie. Or any JS movie that I\\'ve seen. At least not in the quantities on display here. And Ray Liotta in underpants SHOULD be advance warned. It\\'s scary and funny but not in a ha-ha-humour way. Its more in an almost-TheOffice-but-slightly-mutated-and-so-failing-sort-of-humour way. They each say the same thing: \"This movie is not like anything you expect this movie to be.\"<br /><br />Now, based on previous, extensive, movie-watching experience, I expected this movie to be a few things. Like:<br /><br />() Coherent,<br /><br />() Interesting or engaging,<br /><br />() Not a complete and utter farrago of navel-gazing,<br /><br />() Something more substantive than a motley bunch of badly-realised fables from what is just a standard eastern mystic ideology dressed up as a \"cool, modern, self-aware art-form\",<br /><br />() Hopefully better than \"The Idiots\".<br /><br />As you may have guessed by my tone, it thoroughly failed to check any box above. Instead it was:<br /><br />(x) Badly edited {pace all over the shop, 70s-amateur high-8 style jump cuts, incomprehensible \"plot\" \"twists!!!\" delivered through hackneyed flash-back montages, I could go on...},<br /><br />(x) Shot as if by a depressed 14yr-old goth who\\'d just spent the weekend watching Truffaut and Godard with the drapes drawn<br /><br />(x) So up its own behind with the whole \"I\\'m really smart, me\" motif/ message, that it feels determined to repeat it every 20 minutes or so, just to make sure the dumb people (ie: everyone who doesn\\'t like it) in the audience make sure they get the point,<br /><br />(x) A genuine waste of my time.<br /><br />As for the undoubted ability of some people to \"get\" something from this, fine. I\\'m glad you enjoyed it. One poster said something that caught my attention: under-25s probably understood it better because of the editing. Maybe, but editing is supposed to make your work more accessible, not less. As for the \"Genius is only recognised by the enlightened\" brigade out there, go suck an onion and grow up. There is nothing more presumptuous and self-serving than people who say the reason another person doesn\\'t know great art is because they don\\'t understand the \\'craft /materials /moon cycle /filaments of supreme rational thought\\' which the \\'auteur /poet/ artist/ palm reader/ idiot savant\\' is using to explain his or her \\'vision /grand scheme /oneness with Gaea /great big bucket of dog-sick\\'.<br /><br />For me and many, many more people, its garbage. <br /><br />Movies, art, stories, poetry, anything designed to be viewed by another human is supposed to be engaging and moving. In some direction be it metaphorical, spiritual, emotional or whatever you\\'re having yourself.<br /><br />The only way this moved me was forward in time, two hours closer to my own inevitable demise. \"The greatest trick He ever pulled was making You believe Any Part of this movie meant Anything at All\"<br /><br />And now, please, by all means, toast my buns for me.',\n",
       "         b'His first movie after longtime friend John Belushi\\'s death, Aykroyd shows much fatigue trying to pull off a character that would have been a snap for Belushi.<br /><br />Instead, \"Doctor Detroit\" gives us bookish professor Aykroyd masquerading as a weird, violent pimp to ward off a rival known only as Mom. That\\'s bad enough, but he also has classes to teach, a school dinner to host, four ladies of the evening to protect and a Pimp\\'s Dinner (or something like that) to attend. No wonder Aykroyd seems stupefied most of the time. Why should the viewer be alone?<br /><br />It was on this film that Aykroyd met future wife Donna Dixon. At least some good came out of this chaotic mess.<br /><br />One and a half stars. You want good Aykroyd, see \"The Blues Brothers\". You want bad, see \"Doctor Detroit\".',\n",
       "         b\"Great movie when I saw it. Have to say one of my favorite movies of all time. I saw it like 8 times in the theater and got the DVD. As I got older and saw it again I realized that the movie is average. Compared to movies that are known ad good comedys, this is nothing. I mean Rock was hilarious in the movie and the whole switching with the racial stuff breaks a little barriers which is great. Also the thought of how the movie goes is a nice way of thinking. It's like most thought of a movie but also a little twist which is a very nice touch. I like the movie overall so i give it a...<br /><br />Still a good 7/10 for me.\",\n",
       "         b\"This is one of those cheaply made TV Movies were the characters seem to lose all sense. The premise of the story, the kidnapping of a son by the boy's father,is very good. But the story just seems to beggar belief. Whenever the mother is advised not to do anything you know fine well she is going to do it. It is a bit far fetched and not worthy of a viewing.\",\n",
       "         b'I try to be very objective when I view a low budget movie. I also apply a lower weight to independent and low budget productions versus the big budget productions. I expect near flawlessness from big budget productions and their studios. Therefore I apply tougher criteria to the major studio releases. But this movie was just a dud. Period. The premise was terrible. The main character, Mary Gordano (Alicia Silverstone), was unbelievable as a high school senior with an unquenchable desire to solve crimes. There was not enough depth in her character or her acting that pulled you into her world. Also, to make this movie more mysterious, the lighting in certain scenes did not set the mood, especially in the warehouse.<br /><br />Once again another disappointing movie that I could only give three points to.',\n",
       "         b\"I'm a huge Steven Seagal fan. Hell, I probably weigh as much as he does although I don't have the street cred to sport the frizzy-mullet-ponytail. Having stated my own bias and affection for America's favorite corpulent stage and screen hero, it is with a heavy heart that I must declare this to be his worst movie ever. I'm not sure he could make a movie any worse than this.<br /><br />In his defense the major problems with this film seem to occur in post-production. It's painfully obvious that this movie was supposed to have a different storyline. That results in woeful voiceovers in which Steve's voice doesn't nearly sync up with that of the dubbed voice. The editing is pisspoor and overall this starts bad, gets even worse, and by the end you'll wish you had rewatched The Da Vinci Code instead. Yes, it's that bad.<br /><br />After this I don't know what to expect from Steve. My friends still laugh at me for listening to his CDs. Is it time I start checking out some of the Van Damme direct to DVD nutty logs? If you are tempted to watch this movie, rip your eyeballs out and flush them down the toilet. A lifetime of darkness is better than 89 minutes of this.\",\n",
       "         b\"This flick reminds me some really bad science-fiction movies from 50's and 60's.It is not scary or interesting,but it's dull,cheesy and stupid.Special effects are laughable,all actors are ludicrous and the ending is simply awful.Don't waste your money,rent or buy something better.I give it 3.5 out of 10( I found this turkey quite amusing because of its stupidity).\",\n",
       "         b\"Mild Spoilers<br /><br />In the near future, Arnold stars as Ben Richards, a wrongly convicted man coerced into playing 'The Running Man', a deadly TV game show where people have to keep moving to try and escape brutal deaths at the hands of the 'Stalkers'. Of course, people are expected to die eventually and its up to Arnold to prove the system wrong.<br /><br />I haven't read the Stephen King book, but this is a great film regardless, one of Arnold's best. He does what he does best in the action man role, delivering death with unforgettable one-liners. Classics are probably the 'He was a real pain in the neck' after strangling a guy with barb wire, and 'He had to split!', referring to whereabouts he just chain sawed someone vertically. Dawson is perfectly irritating as the TV presenter, and all the 'Stalkers' are suitably camp. The action is violent, but its an action film. That's the point. The film is fast paced, and at 90 minutes it doesn't overstay its welcome. <br /><br />With Starsky and Hutch's Paul Michael Glaser at the helm, and made in the wake of the success of The Terminator, previously this film was probably seen as just another mindless action vehicle for Arnold, and very far fetched. But today, anyone who watches a lot of TV could see how the film is getting closer to reality. I wouldn't be surprised if I turn on the TV in the 'near future' and see a show not to far from this.<br /><br />On that depressing note, I must however recommend 'The Running Man' to anyone who likes the 80s, Arnold, ridiculous acts or violence or just a good action film. 9. 5 / 10\",\n",
       "         b\"From what I've read a lot of people were disappointed by this film, compared to Part 1. Initially I could understand this but after a bit of thought I think they are wrong to be. Soderbergh continues his fact based telling of Che's life that he started in Part 1. Part 1 told a story of a revolution moving from unpromising beginnings to an ultimately successful conclusion. Part 2 tells a story of a revolution that moves from unpromising beginnings to a completely unsuccessful conclusion. It is not Soderbergh's fault that these 2 parts of Che's life had completely different outcomes. He bravely chooses to tell both in a fairly straightforward way. The viewer may feel a lot better coming out of the cinema after Part 1 than Part 2 but that is the reality of Che's life and not in my opinion any fault of the director. The film is far from perfect. It is probably too long. At least in Part 1 we saw different aspects of the war as the guerrillas had successes. In Part 2 they can't catch a break and we see their numbers constantly being reduced by death and capture. Che's capture and death are dealt with well. The film is greatly enhanced by the dialogue being in Spanish. Benicio Del Toro is again excellent as the charismatic Argentinian. So if you've seen Part 1 you will see a very similar telling of a very different story in Part 2.\",\n",
       "         b'speaking solely as a movie, i didn\\'t really liked it. not because there were no FX or because we had a single cabin as the scenario for the whole film, actually that was what kept me watching it.<br /><br />i didn\\'t like it because the acting was shady, his \"friends\" are all happy and then they\\'re mad, but you have no idea why; then they take distinct roles, one is the believer, other is the antagonist, but they never really make the point! also, the lighting was terrible and i\\'m just mentioning technical issues.<br /><br />in a few words, i thing the movie could have just had a \"ok i\\'m outta here!\" from some characters. like the lady who doesn\\'t want to hear his version of the bible.<br /><br />about the story itself, everyone is free to write about what they want, and the story is proof of some good writing and imagination. i credit the book author for that, hence, my 4/10.<br /><br />so, in the end, hear the man\\'s story believe it or not, just don\\'t spend the whole time acting like you believe him and being shocked at what he says, and at the same time moving around and making jokes like you don\\'t believe him.<br /><br />Coherence.<br /><br />thanks for reading ;)',\n",
       "         b'I saw this movie way back at the first theatrical release, in a justifiably empty theater. Believe it or not, after decades of watching movies, this one still sticks clearly in my mind as the worst movie of all time; or at least the worst that I would allow myself to watch.<br /><br />The acting is far beneath the standard set by any random group of drunken high-school students yanked off the street and forced to learn their lines in 5 minutes or less.<br /><br />After the first shock of disbelief, we laughed for a while as each scene hit new lows. But after a while, even that dubious pleasure wore off and it just got to be really sad.',\n",
       "         b'This is a really heart-warming family movie. It has absolutely brilliant animal training and \"acting\" (if you can call it like that) as well (just think about the dog in \"How the Grinch stole Christmas\"... it was plain bad training). The Paulie story is extremely well done, well reproduced and in general the characters are really elaborated too. Not more to say except that this is a GREAT MOVIE!<br /><br />My ratings: story 8.5/10, acting 7.5/10, animals+fx 8.5/10, cinematography 8/10.<br /><br />My overall rating: 8/10 - BIG FAMILY MOVIE AND VERY WORTH WATCHING!',\n",
       "         b'Finally a thriller which omits the car chases, explosions and other eye catching effects. The movie combines a simple plot (assasination of a french president) with an excellent background. It takes a look behind mans behavior with authorities, and explains why we would obey almost every order (even murder) which would be given to us.<br /><br />Furthermore it shows us how secret services can manipulate the run of history and how hardly they can be controlled. The best thing on this movie is, that there is no classic \"Hollywood end\" which can easily be predicted.',\n",
       "         b\"Billy Crystal normally brings the crowd to laughter, but in this movie he and all the rest of them cannot bring any smile on my face.... or perhaps just one. They call it comedy, I say it's a waste of my time.\",\n",
       "         b\"It starts slowly, showing the dreary lives of the two housewives who decide to rent a castle in Italy for the month of April, but don't give up on it. Nothing much happens, but the time passes exquisitely, and there are numerous sly jokes (my favorite is the carriage ride in the storm, which I find hilarious). The movie is wonderfully romantic in many senses of the word, the scenery is beautiful (as is Polly Walker), and the resolutions in the movie are very satisfying.<br /><br />The movie takes a couple of liberties with the book, the biggest being with the Arbuthnot/Briggs/Dester business, but I actually preferred the movie's version of this (it may be more sentimental, but I felt that it was more consistent with the tone of the story, and anyway I like sentiment when it's well done).<br /><br />An excellent movie, especially as a date movie during lousy weather.\",\n",
       "         b\"Because that's all she does through out this whole movie,is get naked for no good reason.When Tarzan is bitten by a snake,she suddenly removes her clothes.Since when is a boa constrictor poisonous?How did Tarzan get poisoned by the way ? This whole movie is screwed up.They couldn't get the species of animals for this movie right.Whats an Orangutang doing hanging around those chimpanzees?He must have wandered off the set of a much better film.The group of cannibal tribe's men look caucasin.Why?And why was Bo and her dad painted,if they were going to be eaten later?It was probably just a lame excuse to show her breasts and curves again.Her dad while hunting, approaches and acts stupidly around a bull elephant while standing too close to it.Any real African bull elephant that wasn't from the circus,would've stomped this moron's butt.Any smart hunter would've started shooting the minute he saw it.And I can't help but wonder if the camera was on LSD,because it kept showing various scenes that went in slow motion, for no good reason.It didn't make good sense at all.The boa constrictor that Tarzan wrestled with in the water,looks like one of those 12 Ft rubber snakes you can buy at a local Spencer Gifts.Tarzan was strangly speechless in this film,maybe from Bo flashing herself so much.I'm sorry,but this is a rip off of a classic Black and White Tarzan movie,with a similar but better story.Not To mention plotting .There's one scene in that I saw that everyone forgot to mention.*(SPOILERS ALERT)*The scene where he is trying to rescue Jane and her dad,has him standing too close to a running water spout.It made it seem like he's urinating on someone below him.Eww!Also, him and Jane are fooling around on a beach,with perverted monkeys jumping and clapping.She sure did take her dad's death real well.*(END OF SPOILERS)*There should be a Surgeon General's Warning on this film.That seeing Bo naked too much in this movie,will make you go blind.\",\n",
       "         b'The Forest isn\\'t just your everyday standard slasher/backwoods cannibal fare, it also has an interesting mix of supernatural elements as well. The story is about two couples that hike into the forest on a camping trip. A cave dwelling, cannibalistic woodsmen and the ghosts of his dead wife and two children soon terrorize them. There is something you don\\'t see every slasher. Director Don Jones gets an \"A\" for effort although the film itself falls flat on just about every level, the acting is just simply average except for Jeanette Kelly who plays the dead wife of the woodsman (Michael Brody aka Gary Kent).<br /><br />The film opens with some beautiful shots of a couple hiking through a valley and into a forest. They realize too late that someone is stalking them. They are both dispatched in typical slasher fare. Our killer uses a trusty hunting knife throughout the entire film, except during a flashback when he implements a handsaw, pitchfork and rusty saw blade to dispatch his cheating wife\\'s lover.<br /><br />The Forest has a good story line but the movie just doesn\\'t work along with it I found it pretty boring with simply crappy acting. 4/10',\n",
       "         b\"During the whole Pirates of The Caribbean Trilogy Craze Paramount Pictures really dropped the ball in restoring this Anthony Quinn directed Cecil B. DeMille supervised movie and getting it on DVD and Blu Ray with all the extras included. It is obvious to me that Paramount Pictures Execs are blind as bats and ignorant of the fact that they have a really good pirate movie in their vault about a real pirate who actually lived in New Orleans, Louisiana which would have helped make The Crescent City once again famous for it's Pirate Connections. When the Execs at Paramount finally get with the program and release this movie in digital format then I will be a happy camper. Paramount Pictures it is up to you to get off your duff and get this film restored now !\",\n",
       "         b'The thing that really gets me about this movie (that is, the thing about this movie that makes me physically ill) is that someone actually paid to have it made. There is absolutely no purpose for the existence of this movie. It is not frightening, it is not thought provoking, it is not entertaining, it is not good. It is a sleeping pill made of cyanide. The DVD case compares it to Blair Witch, Evil Dead, and a few other decent movies, making the filmmaker\\'s desperation glaringly obvious. It is nothing like any other movie ever made; it is far, far worse. The claims of an \"extremely shocking ending you will never forget\" are the equivalent of one ton of stinking horse droppings. Please do not ever waste your time watching this piece of trash, because it may make you sterile. The man who wrote this movie should be wiped off the Writer\\'s Guild membership list, and never allowed to film anything again. Because if he thought THIS was a movie worth making, he probably does not have much of anything to offer in the future. Zero stars. May Grod have mercy on the soul of anyone unfortunate enough to see this. I am going to go vomit now.',\n",
       "         b'The Last Hunt is the forgotten Hollywood classic western. The theme of genocide via buffalo slaughter is present in other films but never so savagely. Robert Taylor\\'s against-type role as the possessed buffalo and Indian killer is his finest performance.<br /><br />In the 1950s, your mom dropped you and your friends off at the Saterday matin\\xc3\\xa9e, usually featuring a western or comedy. But it was wrong then and now to let a youngster watch psycho-dramas like The Searchers and The Last Hunt. Let the kids wait a few years before exposing them to films with repressed sexual sadism and intense racial hatred.<br /><br />Why did Mom fail to censor these films? Because they featured \"safe\" Hollywood stars like Taylor and John Wayne. But the climatic scene in The Last Hunt is as horrifying as Vincent Price\\'s mutation in The Fly.<br /><br />The mythology of the white buffalo, part of the texture of this movie, was later ripped-off by other movies including The White Buffalo, starring Charles Bronson as Wild Bill Hickock. The laugh here is that Bronson used to play Indians.<br /><br />Today a large remnant bison herd resides in Yellowstone National Park in Wyoming. In the winter, hunger forces surplus animals out of the park into Montana, where they are sometimes harvested by Idaho\\'s Nez Perce Indians under a US treaty right that pre-dates the Lincoln Presidency. Linclon signed the Congressional act which authorized the continental railroad and started the buffalo slaughter.',\n",
       "         b'First, this was a BRAVE film. I\\'ve seen Irreversible and can understand the comparisons. However, I cannot begin to understand the people who\\'ve trashed this film. I can see how the end may have come off extreme but I\\'d be lying if I didn\\'t say I wished that every guy who\\'s ever forced a woman into sex deserved exactly what Jared got. Conversely, it didn\\'t solve anything or make anything better and the fact that the film doesn\\'t pretend to is what made me appreciate it.<br /><br />The comment prior to this one called the film pathetic and claimed no adult would stick with. I certainly did and intently. I\\'m 24 years old. The way the film drags made it realistic to me. People have become so used to eye candy and fast paced plots on screen that if you ask them to concentrate too long on one brick in the foundation of a film, not only do they lose interest, they demolish whatever has been built, and call it rubbish. When in actuality it\\'s their lack of patience and comprehension that needs fine tuning and not the product of a creative mind such as Talia Lugacy\\'s.<br /><br />Rosario Dawson displayed the numbness of self-destruction flawlessly. I think she portrayed Maya pre and post assault with great ease and the transition between the two is an act I rarely ever see done well. Often times, much like the films \"aimed at teens\" mentioned in the prior comment, the effects of rape are displayed as either extremely manic and impulsive or terribly depressed, isolated and lifeless. Dawson, in my opinion, manages to perform the balancing act so many survivors fall prey to: drone-like existence in the waking hours, working some dead end job to survive (and distract) and then overindulging in vices in order to lose themselves in the haze of substance abuse rather than face what sobriety brings.<br /><br />I thought this film told the truth and I appreciated it for finally showing people a different side of rape. So many people let the end of this film devour the middle and the beginning...I believe that Maya\\'s face during the act was the end...not the act itself...not the vengeance or the meaning behind it...just her face...<br /><br />thank you',\n",
       "         b\"The idea ia a very short film with a lot of information. Interesting, entertaining and leaves the viewer wanting more. The producer has produced a short film of excellent quality that cannot be compared to any other short film that I have seen. I have rated this film at the highest possible rating. I also recommend that it is shown to office managers and business people in any establishment. What comes out of it is the fact that people with ideas are never listened to, their voice is never heard. It is a lesson to be learned by any office that wants to go forward. I hope that the produced will produce a second part to this 'idea'. I look forward to viewing the sequence. Once again congrats to Halaqah media in producing a film of excellence and quality with a lesson in mind.\"],\n",
       "        dtype=object),\n",
       "  array([0, 1, 1, 1, 0, 0, 1, 1, 0, 1, 0, 0, 1, 0, 0, 0, 0, 1, 1, 0, 0, 1,\n",
       "         1, 0, 1, 0, 0, 1, 0, 1, 1, 1], dtype=int32))]"
      ]
     },
     "execution_count": 102,
     "metadata": {},
     "output_type": "execute_result"
    }
   ],
   "source": [
    "# take one element and then convert to numpy iterable - view only raw data and not tensor metadata\n",
    "list(raw_train_ds.take(1).as_numpy_iterator())"
   ]
  },
  {
   "cell_type": "markdown",
   "id": "992f7cfc",
   "metadata": {},
   "source": [
    "# Apply TextVectorization to data"
   ]
  },
  {
   "cell_type": "markdown",
   "id": "28728ddc",
   "metadata": {},
   "source": [
    "https://keras.io/guides/preprocessing_layers/"
   ]
  },
  {
   "cell_type": "code",
   "execution_count": 141,
   "id": "ff87be40",
   "metadata": {},
   "outputs": [],
   "source": [
    "MAX_FEATURES = 10000\n",
    "SEQUENCE_LENGTH = 250"
   ]
  },
  {
   "cell_type": "markdown",
   "id": "a15cfb0b",
   "metadata": {},
   "source": [
    "`\\s = whitespace (spaces, tabs, newlines)`\n",
    "\n",
    "`* = one or more preceeding characters`\n",
    "\n",
    "`\\\\s* = one or more white spaces`\n",
    "\n",
    "`/? = match ? 0 or 1 times or shortest match.`\n",
    "\n",
    "`<br\\\\s*/?> = <br /> tags`\n",
    "\n",
    "`[^something]\tmatches any character except those that [something] denotes; that is, immediately after the leading “[”, the circumflex “^” means “not” applied to all of the rest`\n",
    "\n",
    "`[x-y]\tmatches any of the characters from x to y (inclusively) in the ASCII code`\n",
    "\n",
    "need `\\\\s` because of this: `.` means any character in regex, but we want to match literal `\".\"` - how do we do this? We introduce an escape character `\\` that goes with `.` like so `\\.` -  `\\.` means literaly \".\". However regex is written using strings, where \\ itself is an escape character. So we have to escape twice - \"\\\\.\" means \"\\.\" in regex. So whenever you use \"\\\" in regex, you need to actually use \"\\\\\". Replacing literal \"\\\" would mean writing \"\\\\\\\" I think. `\\` \"ecsapes\" the normal function of whatever comes after it. So in Python when you have `\\t`, it is interpreted to mean a tab indent, not the letter t. The normal `t` interpretation is \"escaped\". "
   ]
  },
  {
   "cell_type": "code",
   "execution_count": 184,
   "id": "8623c94d",
   "metadata": {},
   "outputs": [],
   "source": [
    "def custom_standardization(input_data):\n",
    "    Z = tf.strings.substr(input_data, 0, 300)\n",
    "    Z = tf.strings.lower(Z)\n",
    "    Z = tf.strings.regex_replace(Z, b\"<br\\\\s*/?>\", b\" \") # replaces all <br /> tags with spaces\n",
    "    Z = tf.strings.regex_replace(Z, b\"[^a-zA-Z']\", b\" \") #  replaces everything except letters and quotes with spaces\n",
    "#     Z = tf.strings.regex_replace(Z,'[%s]' % re.escape(string.punctuation), b\" \") # redundant\n",
    "    return final_string"
   ]
  },
  {
   "cell_type": "code",
   "execution_count": 185,
   "id": "78d30904",
   "metadata": {},
   "outputs": [
    {
     "data": {
      "text/plain": [
       "<keras.layers.preprocessing.text_vectorization.TextVectorization at 0x7f9ba90b86d0>"
      ]
     },
     "execution_count": 185,
     "metadata": {},
     "output_type": "execute_result"
    }
   ],
   "source": [
    "tf.keras.layers.TextVectorization(\n",
    "    max_tokens=MAX_FEATURES,\n",
    "    standardize=custom_standardization,\n",
    "    split='whitespace',\n",
    "    output_mode='int',\n",
    "    output_sequence_length=SEQUENCE_LENGTH, # Only valid in INT mode. Output has shape (batch_size, output_sequence_length) \n",
    ")"
   ]
  },
  {
   "cell_type": "code",
   "execution_count": 186,
   "id": "fcf026c2",
   "metadata": {},
   "outputs": [],
   "source": [
    "# Make a text-only dataset (without labels), then call adapt\n",
    "train_text = raw_train_ds.map(lambda x, y: x)\n",
    "vectorize_layer.adapt(train_text)"
   ]
  },
  {
   "cell_type": "markdown",
   "id": "6ba5408b",
   "metadata": {},
   "source": [
    "## Look at the result of textVectorization layer"
   ]
  },
  {
   "cell_type": "code",
   "execution_count": 187,
   "id": "7ed677a9",
   "metadata": {},
   "outputs": [
    {
     "name": "stdout",
     "output_type": "stream",
     "text": [
      "Review tf.Tensor(b\"Billy Crystal normally brings the crowd to laughter, but in this movie he and all the rest of them cannot bring any smile on my face.... or perhaps just one. They call it comedy, I say it's a waste of my time.\", shape=(), dtype=string)\n",
      "Label neg\n",
      "Vectorized review (<tf.Tensor: shape=(1, 250), dtype=int64, numpy=\n",
      "array([[1518, 5282, 1659,  907,    2, 2264,    6, 2040,   18,    8,   11,\n",
      "          17,   27,    3,   30,    2,  351,    5,   93,  541,  717,   97,\n",
      "        1706,   20,   54,  398,   41,  373,   40,   28,   34,  675,    9,\n",
      "         220,   10,  131,   29,    4,  408,    5,   54,   58,    0,    0,\n",
      "           0,    0,    0,    0,    0,    0,    0,    0,    0,    0,    0,\n",
      "           0,    0,    0,    0,    0,    0,    0,    0,    0,    0,    0,\n",
      "           0,    0,    0,    0,    0,    0,    0,    0,    0,    0,    0,\n",
      "           0,    0,    0,    0,    0,    0,    0,    0,    0,    0,    0,\n",
      "           0,    0,    0,    0,    0,    0,    0,    0,    0,    0,    0,\n",
      "           0,    0,    0,    0,    0,    0,    0,    0,    0,    0,    0,\n",
      "           0,    0,    0,    0,    0,    0,    0,    0,    0,    0,    0,\n",
      "           0,    0,    0,    0,    0,    0,    0,    0,    0,    0,    0,\n",
      "           0,    0,    0,    0,    0,    0,    0,    0,    0,    0,    0,\n",
      "           0,    0,    0,    0,    0,    0,    0,    0,    0,    0,    0,\n",
      "           0,    0,    0,    0,    0,    0,    0,    0,    0,    0,    0,\n",
      "           0,    0,    0,    0,    0,    0,    0,    0,    0,    0,    0,\n",
      "           0,    0,    0,    0,    0,    0,    0,    0,    0,    0,    0,\n",
      "           0,    0,    0,    0,    0,    0,    0,    0,    0,    0,    0,\n",
      "           0,    0,    0,    0,    0,    0,    0,    0,    0,    0,    0,\n",
      "           0,    0,    0,    0,    0,    0,    0,    0,    0,    0,    0,\n",
      "           0,    0,    0,    0,    0,    0,    0,    0,    0,    0,    0,\n",
      "           0,    0,    0,    0,    0,    0,    0,    0,    0,    0,    0,\n",
      "           0,    0,    0,    0,    0,    0,    0,    0]])>, <tf.Tensor: shape=(), dtype=int32, numpy=0>)\n"
     ]
    }
   ],
   "source": [
    "def vectorize_text(text, label):\n",
    "    text = tf.expand_dims(text, -1)\n",
    "    return vectorize_layer(text), label\n",
    "\n",
    "# retrieve a batch (of 32 reviews and labels) from the dataset\n",
    "text_batch, label_batch = next(iter(raw_train_ds))\n",
    "first_review, first_label = text_batch[0], label_batch[0]\n",
    "print(\"Review\", first_review)\n",
    "print(\"Label\", raw_train_ds.class_names[first_label])\n",
    "print(\"Vectorized review\", vectorize_text(first_review, first_label))"
   ]
  },
  {
   "cell_type": "markdown",
   "id": "7221d610",
   "metadata": {},
   "source": [
    "Look at an example output. "
   ]
  },
  {
   "cell_type": "code",
   "execution_count": 188,
   "id": "368ed71a",
   "metadata": {},
   "outputs": [
    {
     "data": {
      "text/plain": [
       "TensorShape([1, 250])"
      ]
     },
     "execution_count": 188,
     "metadata": {},
     "output_type": "execute_result"
    }
   ],
   "source": [
    "vectorize_text(first_review, first_label)[0].shape"
   ]
  },
  {
   "cell_type": "code",
   "execution_count": 189,
   "id": "fdaa58e3",
   "metadata": {
    "scrolled": true
   },
   "outputs": [
    {
     "data": {
      "text/plain": [
       "['billy',\n",
       " 'crystal',\n",
       " 'normally',\n",
       " 'brings',\n",
       " 'the',\n",
       " 'crowd',\n",
       " 'to',\n",
       " 'laughter',\n",
       " 'but',\n",
       " 'in',\n",
       " 'this',\n",
       " 'movie',\n",
       " 'he',\n",
       " 'and',\n",
       " 'all',\n",
       " 'the',\n",
       " 'rest',\n",
       " 'of',\n",
       " 'them',\n",
       " 'cannot',\n",
       " 'bring',\n",
       " 'any',\n",
       " 'smile',\n",
       " 'on',\n",
       " 'my',\n",
       " 'face',\n",
       " 'or',\n",
       " 'perhaps',\n",
       " 'just',\n",
       " 'one',\n",
       " 'they',\n",
       " 'call',\n",
       " 'it',\n",
       " 'comedy',\n",
       " 'i',\n",
       " 'say',\n",
       " 'its',\n",
       " 'a',\n",
       " 'waste',\n",
       " 'of',\n",
       " 'my',\n",
       " 'time',\n",
       " '',\n",
       " '',\n",
       " '',\n",
       " '',\n",
       " '',\n",
       " '',\n",
       " '',\n",
       " '',\n",
       " '',\n",
       " '',\n",
       " '',\n",
       " '',\n",
       " '',\n",
       " '',\n",
       " '',\n",
       " '',\n",
       " '',\n",
       " '',\n",
       " '',\n",
       " '',\n",
       " '',\n",
       " '',\n",
       " '',\n",
       " '',\n",
       " '',\n",
       " '',\n",
       " '',\n",
       " '',\n",
       " '',\n",
       " '',\n",
       " '',\n",
       " '',\n",
       " '',\n",
       " '',\n",
       " '',\n",
       " '',\n",
       " '',\n",
       " '',\n",
       " '',\n",
       " '',\n",
       " '',\n",
       " '',\n",
       " '',\n",
       " '',\n",
       " '',\n",
       " '',\n",
       " '',\n",
       " '',\n",
       " '',\n",
       " '',\n",
       " '',\n",
       " '',\n",
       " '',\n",
       " '',\n",
       " '',\n",
       " '',\n",
       " '',\n",
       " '',\n",
       " '',\n",
       " '',\n",
       " '',\n",
       " '',\n",
       " '',\n",
       " '',\n",
       " '',\n",
       " '',\n",
       " '',\n",
       " '',\n",
       " '',\n",
       " '',\n",
       " '',\n",
       " '',\n",
       " '',\n",
       " '',\n",
       " '',\n",
       " '',\n",
       " '',\n",
       " '',\n",
       " '',\n",
       " '',\n",
       " '',\n",
       " '',\n",
       " '',\n",
       " '',\n",
       " '',\n",
       " '',\n",
       " '',\n",
       " '',\n",
       " '',\n",
       " '',\n",
       " '',\n",
       " '',\n",
       " '',\n",
       " '',\n",
       " '',\n",
       " '',\n",
       " '',\n",
       " '',\n",
       " '',\n",
       " '',\n",
       " '',\n",
       " '',\n",
       " '',\n",
       " '',\n",
       " '',\n",
       " '',\n",
       " '',\n",
       " '',\n",
       " '',\n",
       " '',\n",
       " '',\n",
       " '',\n",
       " '',\n",
       " '',\n",
       " '',\n",
       " '',\n",
       " '',\n",
       " '',\n",
       " '',\n",
       " '',\n",
       " '',\n",
       " '',\n",
       " '',\n",
       " '',\n",
       " '',\n",
       " '',\n",
       " '',\n",
       " '',\n",
       " '',\n",
       " '',\n",
       " '',\n",
       " '',\n",
       " '',\n",
       " '',\n",
       " '',\n",
       " '',\n",
       " '',\n",
       " '',\n",
       " '',\n",
       " '',\n",
       " '',\n",
       " '',\n",
       " '',\n",
       " '',\n",
       " '',\n",
       " '',\n",
       " '',\n",
       " '',\n",
       " '',\n",
       " '',\n",
       " '',\n",
       " '',\n",
       " '',\n",
       " '',\n",
       " '',\n",
       " '',\n",
       " '',\n",
       " '',\n",
       " '',\n",
       " '',\n",
       " '',\n",
       " '',\n",
       " '',\n",
       " '',\n",
       " '',\n",
       " '',\n",
       " '',\n",
       " '',\n",
       " '',\n",
       " '',\n",
       " '',\n",
       " '',\n",
       " '',\n",
       " '',\n",
       " '',\n",
       " '',\n",
       " '',\n",
       " '',\n",
       " '',\n",
       " '',\n",
       " '',\n",
       " '',\n",
       " '',\n",
       " '',\n",
       " '',\n",
       " '',\n",
       " '',\n",
       " '',\n",
       " '',\n",
       " '',\n",
       " '',\n",
       " '',\n",
       " '',\n",
       " '',\n",
       " '',\n",
       " '',\n",
       " '',\n",
       " '',\n",
       " '',\n",
       " '',\n",
       " '',\n",
       " '',\n",
       " '',\n",
       " '',\n",
       " '',\n",
       " '',\n",
       " '',\n",
       " '']"
      ]
     },
     "execution_count": 189,
     "metadata": {},
     "output_type": "execute_result"
    }
   ],
   "source": [
    "sample = [vectorize_layer.get_vocabulary()[tensor] for tensor in vectorize_text(first_review, first_label)[0][0]]\n",
    "sample[:]"
   ]
  },
  {
   "cell_type": "code",
   "execution_count": 190,
   "id": "19742920",
   "metadata": {},
   "outputs": [],
   "source": [
    "# apply text vectorization\n",
    "train_ds = raw_train_ds.map(vectorize_text)\n",
    "val_ds = raw_val_ds.map(vectorize_text)\n",
    "test_ds = raw_test_ds.map(vectorize_text)"
   ]
  },
  {
   "cell_type": "markdown",
   "id": "2a5a1571",
   "metadata": {},
   "source": [
    "# Configure for performance"
   ]
  },
  {
   "cell_type": "markdown",
   "id": "f9947c3b",
   "metadata": {},
   "source": [
    "`.cache()` - keeps data in memory after it's loaded off disk. This will ensure the dataset does not become a bottleneck while training your model. If your dataset is too large to fit into memory, you can also use this method to create a performant on-disk cache, which is more efficient to read than many small files. This will save some operations (like file opening and data reading) from being executed during each epoch. IF YOU HAVE MANY SMALL FILES then the file open and read operations stack up, whereas if you only have one file on-disk, then you save yourself reading/opening/mapping.\n",
    "\n",
    "\n",
    "`.prefetch()` -  overlaps data reading and data processing while training. While training, the next batch is loaded into the input buffer."
   ]
  },
  {
   "cell_type": "code",
   "execution_count": 195,
   "id": "8163e90e",
   "metadata": {},
   "outputs": [],
   "source": [
    "AUTOTUNE = tf.data.AUTOTUNE\n",
    "\n",
    "train_ds = train_ds.cache().prefetch(buffer_size=AUTOTUNE)\n",
    "val_ds = val_ds.cache().prefetch(buffer_size=AUTOTUNE)\n",
    "test_ds = test_ds.cache().prefetch(buffer_size=AUTOTUNE)"
   ]
  },
  {
   "cell_type": "markdown",
   "id": "c1338587",
   "metadata": {},
   "source": [
    "# Create model with embedding layer"
   ]
  },
  {
   "cell_type": "markdown",
   "id": "8e0bad46",
   "metadata": {},
   "source": [
    "The Embedding layer can be understood as a lookup table that maps from integer indices (which stand for specific words) to dense vectors (their embeddings).\n",
    "\n",
    "Once trained, the learned word embeddings will roughly encode similarities between words (as they were learned for the specific problem your model is trained on)."
   ]
  },
  {
   "cell_type": "code",
   "execution_count": 213,
   "id": "aca126a9",
   "metadata": {},
   "outputs": [],
   "source": [
    "embedding_dim = 100 # Hyper-parameter"
   ]
  },
  {
   "cell_type": "code",
   "execution_count": 283,
   "id": "9e93de13",
   "metadata": {},
   "outputs": [
    {
     "name": "stdout",
     "output_type": "stream",
     "text": [
      "Model: \"sequential_57\"\n",
      "_________________________________________________________________\n",
      " Layer (type)                Output Shape              Param #   \n",
      "=================================================================\n",
      " embedding_55 (Embedding)    (None, 250, 100)          1000100   \n",
      "                                                                 \n",
      " dropout_18 (Dropout)        (None, 250, 100)          0         \n",
      "                                                                 \n",
      " global_average_pooling1d_14  (None, 100)              0         \n",
      "  (GlobalAveragePooling1D)                                       \n",
      "                                                                 \n",
      " dropout_19 (Dropout)        (None, 100)               0         \n",
      "                                                                 \n",
      " dense_104 (Dense)           (None, 1)                 101       \n",
      "                                                                 \n",
      "=================================================================\n",
      "Total params: 1,000,201\n",
      "Trainable params: 1,000,201\n",
      "Non-trainable params: 0\n",
      "_________________________________________________________________\n"
     ]
    }
   ],
   "source": [
    "model = keras.models.Sequential([\n",
    "    keras.layers.Embedding(\n",
    "        input_dim=MAX_FEATURES+1, # Integer. Size of the vocabulary, i.e. maximum integer index + 1.\n",
    "        output_dim=embedding_dim, # Integer. Dimension of the dense embedding.\n",
    "        input_length=SEQUENCE_LENGTH,\n",
    "        mask_zero=True # can see from example above that inputs are padded with 0s\n",
    "    ),\n",
    "    layers.Dropout(0.2),\n",
    "    layers.GlobalAveragePooling1D(),\n",
    "    layers.Dropout(0.2),\n",
    "    keras.layers.Dense(1, activation='sigmoid'),\n",
    "])\n",
    "\n",
    "model.summary()"
   ]
  },
  {
   "cell_type": "code",
   "execution_count": 284,
   "id": "bef46cc5",
   "metadata": {},
   "outputs": [
    {
     "name": "stdout",
     "output_type": "stream",
     "text": [
      "Epoch 1/10\n",
      "625/625 [==============================] - 10s 15ms/step - loss: 0.5494 - binary_accuracy: 0.7634 - val_loss: 0.4053 - val_binary_accuracy: 0.8460\n",
      "Epoch 2/10\n",
      "625/625 [==============================] - 10s 15ms/step - loss: 0.3345 - binary_accuracy: 0.8728 - val_loss: 0.3187 - val_binary_accuracy: 0.8706\n",
      "Epoch 3/10\n",
      "625/625 [==============================] - 10s 16ms/step - loss: 0.2632 - binary_accuracy: 0.8995 - val_loss: 0.2928 - val_binary_accuracy: 0.8794\n",
      "Epoch 4/10\n",
      "625/625 [==============================] - 10s 15ms/step - loss: 0.2242 - binary_accuracy: 0.9173 - val_loss: 0.2839 - val_binary_accuracy: 0.8812\n",
      "Epoch 5/10\n",
      "625/625 [==============================] - 10s 16ms/step - loss: 0.1951 - binary_accuracy: 0.9292 - val_loss: 0.2830 - val_binary_accuracy: 0.8822\n",
      "Epoch 6/10\n",
      "625/625 [==============================] - 11s 18ms/step - loss: 0.1733 - binary_accuracy: 0.9384 - val_loss: 0.2872 - val_binary_accuracy: 0.8828\n",
      "Epoch 7/10\n",
      "625/625 [==============================] - 11s 18ms/step - loss: 0.1532 - binary_accuracy: 0.9481 - val_loss: 0.2946 - val_binary_accuracy: 0.8834\n",
      "Epoch 8/10\n",
      "625/625 [==============================] - 11s 18ms/step - loss: 0.1370 - binary_accuracy: 0.9554 - val_loss: 0.3052 - val_binary_accuracy: 0.8828\n",
      "Epoch 9/10\n",
      "625/625 [==============================] - 11s 18ms/step - loss: 0.1227 - binary_accuracy: 0.9614 - val_loss: 0.3189 - val_binary_accuracy: 0.8820\n",
      "Epoch 10/10\n",
      "625/625 [==============================] - 11s 17ms/step - loss: 0.1094 - binary_accuracy: 0.9668 - val_loss: 0.3351 - val_binary_accuracy: 0.8794\n"
     ]
    }
   ],
   "source": [
    "model.compile(\n",
    "    loss=losses.BinaryCrossentropy(from_logits=False),\n",
    "    optimizer='adam',\n",
    "    metrics=tf.metrics.BinaryAccuracy()\n",
    ")\n",
    "\n",
    "epochs = 10\n",
    "batch_size = 32\n",
    "history = model.fit(\n",
    "    train_ds,\n",
    "    validation_data=val_ds,\n",
    "    epochs=epochs,\n",
    "    batch_size=batch_size)"
   ]
  }
 ],
 "metadata": {
  "kernelspec": {
   "display_name": "Python 3 (ipykernel)",
   "language": "python",
   "name": "python3"
  },
  "language_info": {
   "codemirror_mode": {
    "name": "ipython",
    "version": 3
   },
   "file_extension": ".py",
   "mimetype": "text/x-python",
   "name": "python",
   "nbconvert_exporter": "python",
   "pygments_lexer": "ipython3",
   "version": "3.7.12"
  }
 },
 "nbformat": 4,
 "nbformat_minor": 5
}
