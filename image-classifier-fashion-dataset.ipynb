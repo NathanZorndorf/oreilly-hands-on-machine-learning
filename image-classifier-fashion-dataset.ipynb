{
 "cells": [
  {
   "cell_type": "code",
   "execution_count": 73,
   "id": "b78ea457",
   "metadata": {},
   "outputs": [],
   "source": [
    "import tensorflow as tf\n",
    "from tensorflow import keras\n",
    "import numpy as np\n",
    "\n",
    "import pandas as pd\n",
    "import matplotlib.pyplot as plt\n",
    "\n",
    "import keras_tuner as kt\n",
    "\n",
    "from keras.models import Sequential\n",
    "from keras.layers import Conv2D, Flatten, Dense, MaxPooling2D, Dropout"
   ]
  },
  {
   "cell_type": "markdown",
   "id": "c34c3145",
   "metadata": {},
   "source": [
    "# Tensorboard"
   ]
  },
  {
   "cell_type": "code",
   "execution_count": 2,
   "id": "8c338375",
   "metadata": {},
   "outputs": [],
   "source": [
    "# tensorboard magic\n",
    "# %load_ext tensorboard\n",
    "# %tensorboard --logdir=./tensorboard-logs/image-classifier-fashion-dataset --port=6006\n",
    "\n",
    "# setup directory and save files\n",
    "import os\n",
    "root_logdir = os.path.join(os.curdir, \"./tensorboard-logs/image-classifier-fashion-dataset\")\n",
    "def get_run_logdir(): \n",
    "    import time\n",
    "    run_id = time.strftime(\"run_%Y_%m_%d-%H_%M_%S\") \n",
    "    return os.path.join(root_logdir, run_id)\n",
    "run_logdir = get_run_logdir() # e.g., './my_logs/run_2019_06_07-15_15_22'"
   ]
  },
  {
   "cell_type": "markdown",
   "id": "fbd1f52b",
   "metadata": {},
   "source": [
    "# Import Data"
   ]
  },
  {
   "cell_type": "code",
   "execution_count": 4,
   "id": "3e31e2dc",
   "metadata": {},
   "outputs": [],
   "source": [
    "fashion_mnist = keras.datasets.fashion_mnist\n",
    "(X_train_full, y_train_full), (X_test, y_test) = fashion_mnist.load_data()"
   ]
  },
  {
   "cell_type": "code",
   "execution_count": 5,
   "id": "ec95347d",
   "metadata": {},
   "outputs": [],
   "source": [
    "X_valid, X_train = X_train_full[:5000] / 255.0, X_train_full[5000:] / 255.0\n",
    "y_valid, y_train = y_train_full[:5000], y_train_full[5000:]"
   ]
  },
  {
   "cell_type": "code",
   "execution_count": 6,
   "id": "c1abfeb5",
   "metadata": {},
   "outputs": [],
   "source": [
    "class_names = [\"T-shirt/top\", \"Trouser\", \"Pullover\", \"Dress\", \"Coat\", \"Sandal\", \"Shirt\", \"Sneaker\", \"Bag\", \"Ankle boot\"]"
   ]
  },
  {
   "cell_type": "markdown",
   "id": "a4209e6a",
   "metadata": {},
   "source": [
    "# Original Model"
   ]
  },
  {
   "cell_type": "code",
   "execution_count": 7,
   "id": "d856d5ae",
   "metadata": {},
   "outputs": [
    {
     "name": "stderr",
     "output_type": "stream",
     "text": [
      "2022-08-17 10:16:01.287241: I tensorflow/core/platform/cpu_feature_guard.cc:193] This TensorFlow binary is optimized with oneAPI Deep Neural Network Library (oneDNN) to use the following CPU instructions in performance-critical operations:  AVX2 FMA\n",
      "To enable them in other operations, rebuild TensorFlow with the appropriate compiler flags.\n"
     ]
    }
   ],
   "source": [
    "model = keras.models.Sequential()\n",
    "model.add(keras.layers.Flatten(input_shape=[28, 28])) # same as InputLayer\n",
    "# model.add(keras.layers.InputLayer(input_shape=[28,28])) # this didnt work... )model.compile() threw an error\n",
    "model.add(keras.layers.Dense(300, activation=\"relu\"))\n",
    "model.add(keras.layers.Dense(100, activation=\"relu\"))\n",
    "model.add(keras.layers.Dense(10, activation=\"softmax\")) # softmax activation layer because the classes are exclusive, otherwise sigmoid would work"
   ]
  },
  {
   "cell_type": "code",
   "execution_count": 8,
   "id": "6f1aa834",
   "metadata": {},
   "outputs": [],
   "source": [
    "weights = model.get_weights() # save initialized weights of model for model re-training"
   ]
  },
  {
   "cell_type": "code",
   "execution_count": 9,
   "id": "058b40b9",
   "metadata": {},
   "outputs": [
    {
     "name": "stdout",
     "output_type": "stream",
     "text": [
      "Model: \"sequential\"\n",
      "_________________________________________________________________\n",
      " Layer (type)                Output Shape              Param #   \n",
      "=================================================================\n",
      " flatten (Flatten)           (None, 784)               0         \n",
      "                                                                 \n",
      " dense (Dense)               (None, 300)               235500    \n",
      "                                                                 \n",
      " dense_1 (Dense)             (None, 100)               30100     \n",
      "                                                                 \n",
      " dense_2 (Dense)             (None, 10)                1010      \n",
      "                                                                 \n",
      "=================================================================\n",
      "Total params: 266,610\n",
      "Trainable params: 266,610\n",
      "Non-trainable params: 0\n",
      "_________________________________________________________________\n"
     ]
    }
   ],
   "source": [
    "model.summary()"
   ]
  },
  {
   "cell_type": "code",
   "execution_count": 10,
   "id": "7fab7270",
   "metadata": {},
   "outputs": [
    {
     "data": {
      "text/plain": [
       "[<keras.layers.reshaping.flatten.Flatten at 0x7ff9d9898350>,\n",
       " <keras.layers.core.dense.Dense at 0x7ff9e3b868d0>,\n",
       " <keras.layers.core.dense.Dense at 0x7ff9e4a34690>,\n",
       " <keras.layers.core.dense.Dense at 0x7ff9b9536090>]"
      ]
     },
     "execution_count": 10,
     "metadata": {},
     "output_type": "execute_result"
    }
   ],
   "source": [
    "model.layers"
   ]
  },
  {
   "cell_type": "code",
   "execution_count": 11,
   "id": "517c2074",
   "metadata": {},
   "outputs": [],
   "source": [
    "weights, biases = model.layers[1].get_weights()"
   ]
  },
  {
   "cell_type": "code",
   "execution_count": 12,
   "id": "31e426a0",
   "metadata": {},
   "outputs": [
    {
     "data": {
      "text/plain": [
       "array([[-0.0097084 ,  0.04076343,  0.02309974, ...,  0.05142699,\n",
       "         0.02201376, -0.00136086],\n",
       "       [-0.05688957,  0.04925981, -0.06647436, ..., -0.03517424,\n",
       "         0.03730207,  0.07014781],\n",
       "       [ 0.02919273,  0.0290492 ,  0.04646901, ..., -0.03354217,\n",
       "         0.03247487,  0.0312112 ],\n",
       "       ...,\n",
       "       [ 0.05154483,  0.03987654,  0.04935957, ...,  0.05218419,\n",
       "        -0.03516735, -0.02365451],\n",
       "       [-0.05916353, -0.06649609, -0.00744744, ...,  0.03963844,\n",
       "         0.04868799,  0.04242042],\n",
       "       [ 0.0394746 ,  0.06087579,  0.02959251, ..., -0.01501825,\n",
       "         0.01237451,  0.06441545]], dtype=float32)"
      ]
     },
     "execution_count": 12,
     "metadata": {},
     "output_type": "execute_result"
    }
   ],
   "source": [
    "weights"
   ]
  },
  {
   "cell_type": "code",
   "execution_count": 13,
   "id": "57fb3da7",
   "metadata": {},
   "outputs": [
    {
     "data": {
      "text/plain": [
       "array([0., 0., 0., 0., 0., 0., 0., 0., 0., 0., 0., 0., 0., 0., 0., 0., 0.,\n",
       "       0., 0., 0., 0., 0., 0., 0., 0., 0., 0., 0., 0., 0., 0., 0., 0., 0.,\n",
       "       0., 0., 0., 0., 0., 0., 0., 0., 0., 0., 0., 0., 0., 0., 0., 0., 0.,\n",
       "       0., 0., 0., 0., 0., 0., 0., 0., 0., 0., 0., 0., 0., 0., 0., 0., 0.,\n",
       "       0., 0., 0., 0., 0., 0., 0., 0., 0., 0., 0., 0., 0., 0., 0., 0., 0.,\n",
       "       0., 0., 0., 0., 0., 0., 0., 0., 0., 0., 0., 0., 0., 0., 0., 0., 0.,\n",
       "       0., 0., 0., 0., 0., 0., 0., 0., 0., 0., 0., 0., 0., 0., 0., 0., 0.,\n",
       "       0., 0., 0., 0., 0., 0., 0., 0., 0., 0., 0., 0., 0., 0., 0., 0., 0.,\n",
       "       0., 0., 0., 0., 0., 0., 0., 0., 0., 0., 0., 0., 0., 0., 0., 0., 0.,\n",
       "       0., 0., 0., 0., 0., 0., 0., 0., 0., 0., 0., 0., 0., 0., 0., 0., 0.,\n",
       "       0., 0., 0., 0., 0., 0., 0., 0., 0., 0., 0., 0., 0., 0., 0., 0., 0.,\n",
       "       0., 0., 0., 0., 0., 0., 0., 0., 0., 0., 0., 0., 0., 0., 0., 0., 0.,\n",
       "       0., 0., 0., 0., 0., 0., 0., 0., 0., 0., 0., 0., 0., 0., 0., 0., 0.,\n",
       "       0., 0., 0., 0., 0., 0., 0., 0., 0., 0., 0., 0., 0., 0., 0., 0., 0.,\n",
       "       0., 0., 0., 0., 0., 0., 0., 0., 0., 0., 0., 0., 0., 0., 0., 0., 0.,\n",
       "       0., 0., 0., 0., 0., 0., 0., 0., 0., 0., 0., 0., 0., 0., 0., 0., 0.,\n",
       "       0., 0., 0., 0., 0., 0., 0., 0., 0., 0., 0., 0., 0., 0., 0., 0., 0.,\n",
       "       0., 0., 0., 0., 0., 0., 0., 0., 0., 0., 0.], dtype=float32)"
      ]
     },
     "execution_count": 13,
     "metadata": {},
     "output_type": "execute_result"
    }
   ],
   "source": [
    "biases"
   ]
  },
  {
   "cell_type": "code",
   "execution_count": 14,
   "id": "647beb7b",
   "metadata": {},
   "outputs": [],
   "source": [
    "# use bias initializer or kernel initializer"
   ]
  },
  {
   "cell_type": "code",
   "execution_count": 15,
   "id": "fc1a62cd",
   "metadata": {},
   "outputs": [
    {
     "name": "stdout",
     "output_type": "stream",
     "text": [
      "[9 0 0 ... 5 8 3]\n"
     ]
    }
   ],
   "source": [
    "print(y_valid) # target is represented as sparse labels"
   ]
  },
  {
   "cell_type": "code",
   "execution_count": 14,
   "id": "222720da",
   "metadata": {},
   "outputs": [],
   "source": [
    "model.compile(loss=\"sparse_categorical_crossentropy\", # sparse labels\n",
    "              optimizer=\"sgd\",\n",
    "              metrics=[\"accuracy\"])"
   ]
  },
  {
   "cell_type": "markdown",
   "id": "04eb9e44",
   "metadata": {},
   "source": [
    "From Keras Documentation https://keras.io/api/losses/probabilistic_losses/\n",
    "\n",
    "*Use this crossentropy loss function when there are two or more label classes. We expect labels to be provided as integers. If you want to provide labels using one-hot representation, please use CategoricalCrossentropy loss. There should be # classes floating point values per feature for y_pred and a single floating point value per feature for y_true.*"
   ]
  },
  {
   "cell_type": "markdown",
   "id": "0f6e6c43",
   "metadata": {},
   "source": [
    "From Hands-On Machine Learning, O'Reilly\n",
    "\n",
    "*If we were doing binary\n",
    "classification (with one or more binary labels), then we would use the \"sigmoid\" (i.e.,\n",
    "logistic) activation function in the output layer instead of the \"softmax\" activation\n",
    "function, and we would use the \"binary_crossentropy\" loss.*\n",
    "\n",
    "*If the training set was very skewed, with some classes being overrepresented and others\n",
    "underrepresented, it would be useful to set the class_weight argument when\n",
    "calling the fit() method, which would give a larger weight to underrepresented\n",
    "classes and a lower weight to overrepresented classes...*\n",
    "\n",
    "*Per-instance weights could be useful if some instances were labeled\n",
    "by experts while others were labeled using a crowdsourcing platform: you might want\n",
    "to give more weight to the former.*"
   ]
  },
  {
   "cell_type": "code",
   "execution_count": 15,
   "id": "0444ffe5",
   "metadata": {
    "collapsed": true
   },
   "outputs": [
    {
     "name": "stdout",
     "output_type": "stream",
     "text": [
      "Epoch 1/30\n",
      "1719/1719 [==============================] - 5s 3ms/step - loss: 0.7257 - accuracy: 0.7609 - val_loss: 0.5349 - val_accuracy: 0.8134\n",
      "Epoch 2/30\n",
      "1719/1719 [==============================] - 4s 2ms/step - loss: 0.4938 - accuracy: 0.8263 - val_loss: 0.4755 - val_accuracy: 0.8292\n",
      "Epoch 3/30\n",
      "1719/1719 [==============================] - 4s 3ms/step - loss: 0.4487 - accuracy: 0.8434 - val_loss: 0.4303 - val_accuracy: 0.8530\n",
      "Epoch 4/30\n",
      "1719/1719 [==============================] - 5s 3ms/step - loss: 0.4206 - accuracy: 0.8525 - val_loss: 0.4026 - val_accuracy: 0.8630\n",
      "Epoch 5/30\n",
      "1719/1719 [==============================] - 4s 3ms/step - loss: 0.4011 - accuracy: 0.8594 - val_loss: 0.4098 - val_accuracy: 0.8540\n",
      "Epoch 6/30\n",
      "1719/1719 [==============================] - 4s 2ms/step - loss: 0.3840 - accuracy: 0.8655 - val_loss: 0.4032 - val_accuracy: 0.8570\n",
      "Epoch 7/30\n",
      "1123/1719 [==================>...........] - ETA: 1s - loss: 0.3693 - accuracy: 0.8697"
     ]
    },
    {
     "ename": "KeyboardInterrupt",
     "evalue": "",
     "output_type": "error",
     "traceback": [
      "\u001b[0;31m---------------------------------------------------------------------------\u001b[0m",
      "\u001b[0;31mKeyboardInterrupt\u001b[0m                         Traceback (most recent call last)",
      "\u001b[0;32m/var/folders/m8/33r7dt1137z8gq570nf7jt6m0000gn/T/ipykernel_1972/3032985945.py\u001b[0m in \u001b[0;36m<module>\u001b[0;34m\u001b[0m\n\u001b[1;32m      2\u001b[0m                     \u001b[0my_train\u001b[0m\u001b[0;34m,\u001b[0m\u001b[0;34m\u001b[0m\u001b[0;34m\u001b[0m\u001b[0m\n\u001b[1;32m      3\u001b[0m                     \u001b[0mepochs\u001b[0m\u001b[0;34m=\u001b[0m\u001b[0;36m30\u001b[0m\u001b[0;34m,\u001b[0m\u001b[0;34m\u001b[0m\u001b[0;34m\u001b[0m\u001b[0m\n\u001b[0;32m----> 4\u001b[0;31m                     \u001b[0mvalidation_data\u001b[0m\u001b[0;34m=\u001b[0m\u001b[0;34m(\u001b[0m\u001b[0mX_valid\u001b[0m\u001b[0;34m,\u001b[0m \u001b[0my_valid\u001b[0m\u001b[0;34m)\u001b[0m\u001b[0;34m,\u001b[0m\u001b[0;34m\u001b[0m\u001b[0;34m\u001b[0m\u001b[0m\n\u001b[0m\u001b[1;32m      5\u001b[0m \u001b[0;31m#                    validation_split=0.1, # could use this instead\u001b[0m\u001b[0;34m\u001b[0m\u001b[0;34m\u001b[0m\u001b[0;34m\u001b[0m\u001b[0m\n\u001b[1;32m      6\u001b[0m \u001b[0;31m#                     class_weight=weights, # for setting the weight of each class (for instance, in an imbalanced data set)\u001b[0m\u001b[0;34m\u001b[0m\u001b[0;34m\u001b[0m\u001b[0;34m\u001b[0m\u001b[0m\n",
      "\u001b[0;32m~/Documents/Documents - Nathan’s MacBook Pro/data-science/oreilly-hands-on-machine-learning/venv/lib/python3.7/site-packages/keras/utils/traceback_utils.py\u001b[0m in \u001b[0;36merror_handler\u001b[0;34m(*args, **kwargs)\u001b[0m\n\u001b[1;32m     62\u001b[0m     \u001b[0mfiltered_tb\u001b[0m \u001b[0;34m=\u001b[0m \u001b[0;32mNone\u001b[0m\u001b[0;34m\u001b[0m\u001b[0;34m\u001b[0m\u001b[0m\n\u001b[1;32m     63\u001b[0m     \u001b[0;32mtry\u001b[0m\u001b[0;34m:\u001b[0m\u001b[0;34m\u001b[0m\u001b[0;34m\u001b[0m\u001b[0m\n\u001b[0;32m---> 64\u001b[0;31m       \u001b[0;32mreturn\u001b[0m \u001b[0mfn\u001b[0m\u001b[0;34m(\u001b[0m\u001b[0;34m*\u001b[0m\u001b[0margs\u001b[0m\u001b[0;34m,\u001b[0m \u001b[0;34m**\u001b[0m\u001b[0mkwargs\u001b[0m\u001b[0;34m)\u001b[0m\u001b[0;34m\u001b[0m\u001b[0;34m\u001b[0m\u001b[0m\n\u001b[0m\u001b[1;32m     65\u001b[0m     \u001b[0;32mexcept\u001b[0m \u001b[0mException\u001b[0m \u001b[0;32mas\u001b[0m \u001b[0me\u001b[0m\u001b[0;34m:\u001b[0m  \u001b[0;31m# pylint: disable=broad-except\u001b[0m\u001b[0;34m\u001b[0m\u001b[0;34m\u001b[0m\u001b[0m\n\u001b[1;32m     66\u001b[0m       \u001b[0mfiltered_tb\u001b[0m \u001b[0;34m=\u001b[0m \u001b[0m_process_traceback_frames\u001b[0m\u001b[0;34m(\u001b[0m\u001b[0me\u001b[0m\u001b[0;34m.\u001b[0m\u001b[0m__traceback__\u001b[0m\u001b[0;34m)\u001b[0m\u001b[0;34m\u001b[0m\u001b[0;34m\u001b[0m\u001b[0m\n",
      "\u001b[0;32m~/Documents/Documents - Nathan’s MacBook Pro/data-science/oreilly-hands-on-machine-learning/venv/lib/python3.7/site-packages/keras/engine/training.py\u001b[0m in \u001b[0;36mfit\u001b[0;34m(self, x, y, batch_size, epochs, verbose, callbacks, validation_split, validation_data, shuffle, class_weight, sample_weight, initial_epoch, steps_per_epoch, validation_steps, validation_batch_size, validation_freq, max_queue_size, workers, use_multiprocessing)\u001b[0m\n\u001b[1;32m   1407\u001b[0m                 _r=1):\n\u001b[1;32m   1408\u001b[0m               \u001b[0mcallbacks\u001b[0m\u001b[0;34m.\u001b[0m\u001b[0mon_train_batch_begin\u001b[0m\u001b[0;34m(\u001b[0m\u001b[0mstep\u001b[0m\u001b[0;34m)\u001b[0m\u001b[0;34m\u001b[0m\u001b[0;34m\u001b[0m\u001b[0m\n\u001b[0;32m-> 1409\u001b[0;31m               \u001b[0mtmp_logs\u001b[0m \u001b[0;34m=\u001b[0m \u001b[0mself\u001b[0m\u001b[0;34m.\u001b[0m\u001b[0mtrain_function\u001b[0m\u001b[0;34m(\u001b[0m\u001b[0miterator\u001b[0m\u001b[0;34m)\u001b[0m\u001b[0;34m\u001b[0m\u001b[0;34m\u001b[0m\u001b[0m\n\u001b[0m\u001b[1;32m   1410\u001b[0m               \u001b[0;32mif\u001b[0m \u001b[0mdata_handler\u001b[0m\u001b[0;34m.\u001b[0m\u001b[0mshould_sync\u001b[0m\u001b[0;34m:\u001b[0m\u001b[0;34m\u001b[0m\u001b[0;34m\u001b[0m\u001b[0m\n\u001b[1;32m   1411\u001b[0m                 \u001b[0mcontext\u001b[0m\u001b[0;34m.\u001b[0m\u001b[0masync_wait\u001b[0m\u001b[0;34m(\u001b[0m\u001b[0;34m)\u001b[0m\u001b[0;34m\u001b[0m\u001b[0;34m\u001b[0m\u001b[0m\n",
      "\u001b[0;32m~/Documents/Documents - Nathan’s MacBook Pro/data-science/oreilly-hands-on-machine-learning/venv/lib/python3.7/site-packages/tensorflow/python/util/traceback_utils.py\u001b[0m in \u001b[0;36merror_handler\u001b[0;34m(*args, **kwargs)\u001b[0m\n\u001b[1;32m    148\u001b[0m     \u001b[0mfiltered_tb\u001b[0m \u001b[0;34m=\u001b[0m \u001b[0;32mNone\u001b[0m\u001b[0;34m\u001b[0m\u001b[0;34m\u001b[0m\u001b[0m\n\u001b[1;32m    149\u001b[0m     \u001b[0;32mtry\u001b[0m\u001b[0;34m:\u001b[0m\u001b[0;34m\u001b[0m\u001b[0;34m\u001b[0m\u001b[0m\n\u001b[0;32m--> 150\u001b[0;31m       \u001b[0;32mreturn\u001b[0m \u001b[0mfn\u001b[0m\u001b[0;34m(\u001b[0m\u001b[0;34m*\u001b[0m\u001b[0margs\u001b[0m\u001b[0;34m,\u001b[0m \u001b[0;34m**\u001b[0m\u001b[0mkwargs\u001b[0m\u001b[0;34m)\u001b[0m\u001b[0;34m\u001b[0m\u001b[0;34m\u001b[0m\u001b[0m\n\u001b[0m\u001b[1;32m    151\u001b[0m     \u001b[0;32mexcept\u001b[0m \u001b[0mException\u001b[0m \u001b[0;32mas\u001b[0m \u001b[0me\u001b[0m\u001b[0;34m:\u001b[0m\u001b[0;34m\u001b[0m\u001b[0;34m\u001b[0m\u001b[0m\n\u001b[1;32m    152\u001b[0m       \u001b[0mfiltered_tb\u001b[0m \u001b[0;34m=\u001b[0m \u001b[0m_process_traceback_frames\u001b[0m\u001b[0;34m(\u001b[0m\u001b[0me\u001b[0m\u001b[0;34m.\u001b[0m\u001b[0m__traceback__\u001b[0m\u001b[0;34m)\u001b[0m\u001b[0;34m\u001b[0m\u001b[0;34m\u001b[0m\u001b[0m\n",
      "\u001b[0;32m~/Documents/Documents - Nathan’s MacBook Pro/data-science/oreilly-hands-on-machine-learning/venv/lib/python3.7/site-packages/tensorflow/python/eager/def_function.py\u001b[0m in \u001b[0;36m__call__\u001b[0;34m(self, *args, **kwds)\u001b[0m\n\u001b[1;32m    913\u001b[0m \u001b[0;34m\u001b[0m\u001b[0m\n\u001b[1;32m    914\u001b[0m       \u001b[0;32mwith\u001b[0m \u001b[0mOptionalXlaContext\u001b[0m\u001b[0;34m(\u001b[0m\u001b[0mself\u001b[0m\u001b[0;34m.\u001b[0m\u001b[0m_jit_compile\u001b[0m\u001b[0;34m)\u001b[0m\u001b[0;34m:\u001b[0m\u001b[0;34m\u001b[0m\u001b[0;34m\u001b[0m\u001b[0m\n\u001b[0;32m--> 915\u001b[0;31m         \u001b[0mresult\u001b[0m \u001b[0;34m=\u001b[0m \u001b[0mself\u001b[0m\u001b[0;34m.\u001b[0m\u001b[0m_call\u001b[0m\u001b[0;34m(\u001b[0m\u001b[0;34m*\u001b[0m\u001b[0margs\u001b[0m\u001b[0;34m,\u001b[0m \u001b[0;34m**\u001b[0m\u001b[0mkwds\u001b[0m\u001b[0;34m)\u001b[0m\u001b[0;34m\u001b[0m\u001b[0;34m\u001b[0m\u001b[0m\n\u001b[0m\u001b[1;32m    916\u001b[0m \u001b[0;34m\u001b[0m\u001b[0m\n\u001b[1;32m    917\u001b[0m       \u001b[0mnew_tracing_count\u001b[0m \u001b[0;34m=\u001b[0m \u001b[0mself\u001b[0m\u001b[0;34m.\u001b[0m\u001b[0mexperimental_get_tracing_count\u001b[0m\u001b[0;34m(\u001b[0m\u001b[0;34m)\u001b[0m\u001b[0;34m\u001b[0m\u001b[0;34m\u001b[0m\u001b[0m\n",
      "\u001b[0;32m~/Documents/Documents - Nathan’s MacBook Pro/data-science/oreilly-hands-on-machine-learning/venv/lib/python3.7/site-packages/tensorflow/python/eager/def_function.py\u001b[0m in \u001b[0;36m_call\u001b[0;34m(self, *args, **kwds)\u001b[0m\n\u001b[1;32m    945\u001b[0m       \u001b[0;31m# In this case we have created variables on the first call, so we run the\u001b[0m\u001b[0;34m\u001b[0m\u001b[0;34m\u001b[0m\u001b[0;34m\u001b[0m\u001b[0m\n\u001b[1;32m    946\u001b[0m       \u001b[0;31m# defunned version which is guaranteed to never create variables.\u001b[0m\u001b[0;34m\u001b[0m\u001b[0;34m\u001b[0m\u001b[0;34m\u001b[0m\u001b[0m\n\u001b[0;32m--> 947\u001b[0;31m       \u001b[0;32mreturn\u001b[0m \u001b[0mself\u001b[0m\u001b[0;34m.\u001b[0m\u001b[0m_stateless_fn\u001b[0m\u001b[0;34m(\u001b[0m\u001b[0;34m*\u001b[0m\u001b[0margs\u001b[0m\u001b[0;34m,\u001b[0m \u001b[0;34m**\u001b[0m\u001b[0mkwds\u001b[0m\u001b[0;34m)\u001b[0m  \u001b[0;31m# pylint: disable=not-callable\u001b[0m\u001b[0;34m\u001b[0m\u001b[0;34m\u001b[0m\u001b[0m\n\u001b[0m\u001b[1;32m    948\u001b[0m     \u001b[0;32melif\u001b[0m \u001b[0mself\u001b[0m\u001b[0;34m.\u001b[0m\u001b[0m_stateful_fn\u001b[0m \u001b[0;32mis\u001b[0m \u001b[0;32mnot\u001b[0m \u001b[0;32mNone\u001b[0m\u001b[0;34m:\u001b[0m\u001b[0;34m\u001b[0m\u001b[0;34m\u001b[0m\u001b[0m\n\u001b[1;32m    949\u001b[0m       \u001b[0;31m# Release the lock early so that multiple threads can perform the call\u001b[0m\u001b[0;34m\u001b[0m\u001b[0;34m\u001b[0m\u001b[0;34m\u001b[0m\u001b[0m\n",
      "\u001b[0;32m~/Documents/Documents - Nathan’s MacBook Pro/data-science/oreilly-hands-on-machine-learning/venv/lib/python3.7/site-packages/tensorflow/python/eager/function.py\u001b[0m in \u001b[0;36m__call__\u001b[0;34m(self, *args, **kwargs)\u001b[0m\n\u001b[1;32m   2452\u001b[0m        filtered_flat_args) = self._maybe_define_function(args, kwargs)\n\u001b[1;32m   2453\u001b[0m     return graph_function._call_flat(\n\u001b[0;32m-> 2454\u001b[0;31m         filtered_flat_args, captured_inputs=graph_function.captured_inputs)  # pylint: disable=protected-access\n\u001b[0m\u001b[1;32m   2455\u001b[0m \u001b[0;34m\u001b[0m\u001b[0m\n\u001b[1;32m   2456\u001b[0m   \u001b[0;34m@\u001b[0m\u001b[0mproperty\u001b[0m\u001b[0;34m\u001b[0m\u001b[0;34m\u001b[0m\u001b[0m\n",
      "\u001b[0;32m~/Documents/Documents - Nathan’s MacBook Pro/data-science/oreilly-hands-on-machine-learning/venv/lib/python3.7/site-packages/tensorflow/python/eager/function.py\u001b[0m in \u001b[0;36m_call_flat\u001b[0;34m(self, args, captured_inputs, cancellation_manager)\u001b[0m\n\u001b[1;32m   1859\u001b[0m       \u001b[0;31m# No tape is watching; skip to running the function.\u001b[0m\u001b[0;34m\u001b[0m\u001b[0;34m\u001b[0m\u001b[0;34m\u001b[0m\u001b[0m\n\u001b[1;32m   1860\u001b[0m       return self._build_call_outputs(self._inference_function.call(\n\u001b[0;32m-> 1861\u001b[0;31m           ctx, args, cancellation_manager=cancellation_manager))\n\u001b[0m\u001b[1;32m   1862\u001b[0m     forward_backward = self._select_forward_and_backward_functions(\n\u001b[1;32m   1863\u001b[0m         \u001b[0margs\u001b[0m\u001b[0;34m,\u001b[0m\u001b[0;34m\u001b[0m\u001b[0;34m\u001b[0m\u001b[0m\n",
      "\u001b[0;32m~/Documents/Documents - Nathan’s MacBook Pro/data-science/oreilly-hands-on-machine-learning/venv/lib/python3.7/site-packages/tensorflow/python/eager/function.py\u001b[0m in \u001b[0;36mcall\u001b[0;34m(self, ctx, args, cancellation_manager)\u001b[0m\n\u001b[1;32m    500\u001b[0m               \u001b[0minputs\u001b[0m\u001b[0;34m=\u001b[0m\u001b[0margs\u001b[0m\u001b[0;34m,\u001b[0m\u001b[0;34m\u001b[0m\u001b[0;34m\u001b[0m\u001b[0m\n\u001b[1;32m    501\u001b[0m               \u001b[0mattrs\u001b[0m\u001b[0;34m=\u001b[0m\u001b[0mattrs\u001b[0m\u001b[0;34m,\u001b[0m\u001b[0;34m\u001b[0m\u001b[0;34m\u001b[0m\u001b[0m\n\u001b[0;32m--> 502\u001b[0;31m               ctx=ctx)\n\u001b[0m\u001b[1;32m    503\u001b[0m         \u001b[0;32melse\u001b[0m\u001b[0;34m:\u001b[0m\u001b[0;34m\u001b[0m\u001b[0;34m\u001b[0m\u001b[0m\n\u001b[1;32m    504\u001b[0m           outputs = execute.execute_with_cancellation(\n",
      "\u001b[0;32m~/Documents/Documents - Nathan’s MacBook Pro/data-science/oreilly-hands-on-machine-learning/venv/lib/python3.7/site-packages/tensorflow/python/eager/execute.py\u001b[0m in \u001b[0;36mquick_execute\u001b[0;34m(op_name, num_outputs, inputs, attrs, ctx, name)\u001b[0m\n\u001b[1;32m     53\u001b[0m     \u001b[0mctx\u001b[0m\u001b[0;34m.\u001b[0m\u001b[0mensure_initialized\u001b[0m\u001b[0;34m(\u001b[0m\u001b[0;34m)\u001b[0m\u001b[0;34m\u001b[0m\u001b[0;34m\u001b[0m\u001b[0m\n\u001b[1;32m     54\u001b[0m     tensors = pywrap_tfe.TFE_Py_Execute(ctx._handle, device_name, op_name,\n\u001b[0;32m---> 55\u001b[0;31m                                         inputs, attrs, num_outputs)\n\u001b[0m\u001b[1;32m     56\u001b[0m   \u001b[0;32mexcept\u001b[0m \u001b[0mcore\u001b[0m\u001b[0;34m.\u001b[0m\u001b[0m_NotOkStatusException\u001b[0m \u001b[0;32mas\u001b[0m \u001b[0me\u001b[0m\u001b[0;34m:\u001b[0m\u001b[0;34m\u001b[0m\u001b[0;34m\u001b[0m\u001b[0m\n\u001b[1;32m     57\u001b[0m     \u001b[0;32mif\u001b[0m \u001b[0mname\u001b[0m \u001b[0;32mis\u001b[0m \u001b[0;32mnot\u001b[0m \u001b[0;32mNone\u001b[0m\u001b[0;34m:\u001b[0m\u001b[0;34m\u001b[0m\u001b[0;34m\u001b[0m\u001b[0m\n",
      "\u001b[0;31mKeyboardInterrupt\u001b[0m: "
     ]
    }
   ],
   "source": [
    "history = model.fit(X_train, \n",
    "                    y_train, \n",
    "                    epochs=30, \n",
    "                    validation_data=(X_valid, y_valid),\n",
    "#                    validation_split=0.1, # could use this instead\n",
    "#                     class_weight=weights, # for setting the weight of each class (for instance, in an imbalanced data set)\n",
    "                   )"
   ]
  },
  {
   "cell_type": "code",
   "execution_count": null,
   "id": "8ba44711",
   "metadata": {},
   "outputs": [],
   "source": [
    "import pandas as pd\n",
    "import matplotlib.pyplot as plt\n",
    "pd.DataFrame(history.history).plot(figsize=(8, 5))\n",
    "plt.grid(True)\n",
    "plt.gca().set_ylim(0, 1) # set the vertical range to [0-1]\n",
    "plt.show()"
   ]
  },
  {
   "cell_type": "markdown",
   "id": "9dc05831",
   "metadata": {},
   "source": [
    "*You can tell that the model has not\n",
    "quite converged yet, as the validation loss is still going down, so you should probably\n",
    "continue training. It’s as simple as calling the fit() method again, since Keras just\n",
    "continues training where it left off (you should be able to reach close to 89% validation\n",
    "accuracy).*"
   ]
  },
  {
   "cell_type": "code",
   "execution_count": 109,
   "id": "881e9b5d",
   "metadata": {},
   "outputs": [
    {
     "name": "stdout",
     "output_type": "stream",
     "text": [
      "313/313 [==============================] - 0s 1ms/step - loss: 94.2362 - accuracy: 0.8532\n"
     ]
    },
    {
     "data": {
      "text/plain": [
       "[94.23624420166016, 0.8532000184059143]"
      ]
     },
     "execution_count": 109,
     "metadata": {},
     "output_type": "execute_result"
    }
   ],
   "source": [
    "model.evaluate(X_test, y_test)"
   ]
  },
  {
   "cell_type": "markdown",
   "id": "20f6437b",
   "metadata": {},
   "source": [
    "*If you are not satisfied with the performance of your model, you should go back and\n",
    "tune the hyperparameters. The first one to check is the learning rate. If that doesn’t\n",
    "help, try another optimizer (and always retune the learning rate after changing any\n",
    "hyperparameter). If the performance is still not great, then try tuning model hyperparameters\n",
    "such as the number of layers, the number of neurons per layer, and the\n",
    "types of activation functions to use for each hidden layer. You can also try tuning\n",
    "other hyperparameters, such as the batch size (it can be set in the fit() method using\n",
    "the batch_size argument, which defaults to 32).*"
   ]
  },
  {
   "cell_type": "code",
   "execution_count": 29,
   "id": "1e776df4",
   "metadata": {},
   "outputs": [
    {
     "name": "stdout",
     "output_type": "stream",
     "text": [
      "1/1 [==============================] - 0s 62ms/step\n"
     ]
    },
    {
     "data": {
      "text/plain": [
       "array([[0., 0., 0., 0., 0., 0., 0., 0., 0., 1.],\n",
       "       [0., 0., 1., 0., 0., 0., 0., 0., 0., 0.],\n",
       "       [0., 1., 0., 0., 0., 0., 0., 0., 0., 0.]], dtype=float32)"
      ]
     },
     "execution_count": 29,
     "metadata": {},
     "output_type": "execute_result"
    }
   ],
   "source": [
    "X_new = X_test[:3]\n",
    "y_proba = model.predict(X_new)\n",
    "y_proba.round(2)"
   ]
  },
  {
   "cell_type": "code",
   "execution_count": 80,
   "id": "d5430683",
   "metadata": {},
   "outputs": [
    {
     "name": "stdout",
     "output_type": "stream",
     "text": [
      "1/1 [==============================] - 0s 0s/step\n",
      "[[0. 0. 0. 0. 0. 0. 0. 0. 0. 1.]\n",
      " [0. 0. 1. 0. 0. 0. 0. 0. 0. 0.]\n",
      " [0. 1. 0. 0. 0. 0. 0. 0. 0. 0.]]\n",
      "['Ankle boot' 'Pullover' 'Trouser']\n"
     ]
    }
   ],
   "source": [
    "y_pred = model.predict(X_new)\n",
    "print(y_pred)\n",
    "y_pred = np.argmax(y_pred, axis=1)\n",
    "print(np.array(class_names)[y_pred])"
   ]
  },
  {
   "cell_type": "code",
   "execution_count": 104,
   "id": "50d63613",
   "metadata": {},
   "outputs": [
    {
     "name": "stdout",
     "output_type": "stream",
     "text": [
      "1/1 [==============================] - 0s 16ms/step\n"
     ]
    },
    {
     "data": {
      "image/png": "[encoded data removed]",
      "text/plain": [
       "<Figure size 1440x720 with 20 Axes>"
      ]
     },
     "metadata": {
      "needs_background": "light"
     },
     "output_type": "display_data"
    }
   ],
   "source": [
    "n = 20\n",
    "fig, ax = plt.subplots(int(np.ceil(n/5)), 5, figsize=(n,n/2))\n",
    "\n",
    "y_pred = model.predict(X_test[:n]) # create predictions for n samples\n",
    "y_pred = np.argmax(y_pred, axis=1) # get the index of the prediction, across each row (sample)\n",
    "pred_names = np.array(class_names)[y_pred] # get the class names of the predictions\n",
    "label_names = np.array(class_names)[y_test[:n]] # get the class names of the true labels\n",
    "\n",
    "for i in range(n):\n",
    "    ind = np.unravel_index(i, ax.shape)\n",
    "    ax[ind].imshow(X_test[i], interpolation='nearest')\n",
    "    ax[ind].set_title('Pred=' + pred_names[i] + '\\n' + 'Label=' + label_names[i])\n",
    "plt.tight_layout()\n",
    "plt.show()"
   ]
  },
  {
   "cell_type": "markdown",
   "id": "d8edd684",
   "metadata": {},
   "source": [
    "## Original Model"
   ]
  },
  {
   "cell_type": "code",
   "execution_count": 74,
   "id": "2765897f",
   "metadata": {},
   "outputs": [],
   "source": [
    "log_dir = './tensorboard-logs/image-classifier-fashion-dataset/original'\n",
    "tensorboard_cb = keras.callbacks.TensorBoard(log_dir)"
   ]
  },
  {
   "cell_type": "code",
   "execution_count": 75,
   "id": "f5c761a3",
   "metadata": {},
   "outputs": [],
   "source": [
    "# setup model\n",
    "model = keras.models.Sequential()\n",
    "model.add(keras.layers.Flatten(input_shape=[28, 28])) # same as InputLayer\n",
    "model.add(keras.layers.Dense(300, activation=\"relu\"))\n",
    "model.add(keras.layers.Dense(100, activation=\"relu\"))\n",
    "model.add(keras.layers.Dense(10, activation=\"softmax\")) # softmax activation layer because the classes are exclusive, otherwise sigmoid would work"
   ]
  },
  {
   "cell_type": "code",
   "execution_count": 76,
   "id": "b65361b2",
   "metadata": {},
   "outputs": [],
   "source": [
    "# setup optimizer\n",
    "optimizer = keras.optimizers.SGD()\n",
    "\n",
    "# compile\n",
    "model.compile(\n",
    "    loss=\"sparse_categorical_crossentropy\", \n",
    "    optimizer=optimizer,\n",
    "    metrics=[\"accuracy\"]\n",
    ")"
   ]
  },
  {
   "cell_type": "code",
   "execution_count": 78,
   "id": "ecb55da5",
   "metadata": {},
   "outputs": [
    {
     "name": "stdout",
     "output_type": "stream",
     "text": [
      "Epoch 1/50\n",
      "1719/1719 [==============================] - 6s 3ms/step - loss: 0.4238 - accuracy: 0.8438 - val_loss: 0.4317 - val_accuracy: 0.8442\n",
      "Epoch 2/50\n",
      "1719/1719 [==============================] - 9s 5ms/step - loss: 0.3667 - accuracy: 0.8647 - val_loss: 0.4439 - val_accuracy: 0.8382\n",
      "Epoch 3/50\n",
      "1719/1719 [==============================] - 6s 3ms/step - loss: 0.3343 - accuracy: 0.8748 - val_loss: 0.4231 - val_accuracy: 0.8326\n",
      "Epoch 4/50\n",
      "1719/1719 [==============================] - 7s 4ms/step - loss: 0.3114 - accuracy: 0.8835 - val_loss: 0.3357 - val_accuracy: 0.8784\n",
      "Epoch 5/50\n",
      "1719/1719 [==============================] - 6s 3ms/step - loss: 0.2946 - accuracy: 0.8901 - val_loss: 0.3360 - val_accuracy: 0.8734\n",
      "Epoch 6/50\n",
      "1719/1719 [==============================] - 5s 3ms/step - loss: 0.2812 - accuracy: 0.8947 - val_loss: 0.3171 - val_accuracy: 0.8798\n",
      "Epoch 7/50\n",
      "1719/1719 [==============================] - 5s 3ms/step - loss: 0.2680 - accuracy: 0.8992 - val_loss: 0.3184 - val_accuracy: 0.8774\n",
      "Epoch 8/50\n",
      "1719/1719 [==============================] - 5s 3ms/step - loss: 0.2585 - accuracy: 0.9023 - val_loss: 0.2930 - val_accuracy: 0.8892\n",
      "Epoch 9/50\n",
      "1719/1719 [==============================] - 6s 3ms/step - loss: 0.2478 - accuracy: 0.9063 - val_loss: 0.3141 - val_accuracy: 0.8808\n",
      "Epoch 10/50\n",
      "1719/1719 [==============================] - 5s 3ms/step - loss: 0.2394 - accuracy: 0.9085 - val_loss: 0.3258 - val_accuracy: 0.8854\n",
      "Epoch 11/50\n",
      "1719/1719 [==============================] - 5s 3ms/step - loss: 0.2298 - accuracy: 0.9125 - val_loss: 0.3294 - val_accuracy: 0.8786\n",
      "Epoch 12/50\n",
      "1719/1719 [==============================] - 6s 4ms/step - loss: 0.2221 - accuracy: 0.9164 - val_loss: 0.2986 - val_accuracy: 0.8916\n",
      "Epoch 13/50\n",
      "1719/1719 [==============================] - 6s 4ms/step - loss: 0.2158 - accuracy: 0.9182 - val_loss: 0.2890 - val_accuracy: 0.8968\n",
      "Epoch 14/50\n",
      "1719/1719 [==============================] - 5s 3ms/step - loss: 0.2075 - accuracy: 0.9219 - val_loss: 0.2873 - val_accuracy: 0.8938\n",
      "Epoch 15/50\n",
      "1719/1719 [==============================] - 5s 3ms/step - loss: 0.2034 - accuracy: 0.9232 - val_loss: 0.3162 - val_accuracy: 0.8912\n",
      "Epoch 16/50\n",
      "1719/1719 [==============================] - 5s 3ms/step - loss: 0.1938 - accuracy: 0.9260 - val_loss: 0.3027 - val_accuracy: 0.8938\n",
      "Epoch 17/50\n",
      "1719/1719 [==============================] - 4s 3ms/step - loss: 0.1906 - accuracy: 0.9270 - val_loss: 0.3166 - val_accuracy: 0.8844\n",
      "Epoch 18/50\n",
      "1719/1719 [==============================] - 6s 4ms/step - loss: 0.1851 - accuracy: 0.9285 - val_loss: 0.3194 - val_accuracy: 0.8920\n"
     ]
    }
   ],
   "source": [
    "history = model.fit(\n",
    "    X_train, \n",
    "    y_train, \n",
    "    epochs=50, \n",
    "    validation_data=(X_valid, y_valid),\n",
    "#     callbacks=[lr_scheduler, early_stopping, tensorboard_cb],\n",
    "    callbacks=[early_stopping, tensorboard_cb],\n",
    ")"
   ]
  },
  {
   "cell_type": "markdown",
   "id": "b5617748",
   "metadata": {},
   "source": [
    "# Early Stopping"
   ]
  },
  {
   "cell_type": "code",
   "execution_count": 43,
   "id": "7baf2c53",
   "metadata": {},
   "outputs": [],
   "source": [
    "early_stopping = keras.callbacks.EarlyStopping(monitor='val_accuracy', patience=5)"
   ]
  },
  {
   "cell_type": "code",
   "execution_count": 44,
   "id": "c86e9e98",
   "metadata": {},
   "outputs": [],
   "source": [
    "model.compile(\n",
    "    loss=\"sparse_categorical_crossentropy\", # sparse labels\n",
    "    optimizer=\"sgd\",\n",
    "    metrics=[\"accuracy\"]\n",
    ")"
   ]
  },
  {
   "cell_type": "code",
   "execution_count": 45,
   "id": "9006d555",
   "metadata": {},
   "outputs": [
    {
     "name": "stdout",
     "output_type": "stream",
     "text": [
      "Epoch 1/30\n",
      "1719/1719 [==============================] - 5s 3ms/step - loss: 0.0726 - accuracy: 0.9718 - val_loss: 0.4868 - val_accuracy: 0.9024\n",
      "Epoch 2/30\n",
      "1719/1719 [==============================] - 4s 3ms/step - loss: 0.0690 - accuracy: 0.9729 - val_loss: 0.4931 - val_accuracy: 0.9050\n",
      "Epoch 3/30\n",
      "1719/1719 [==============================] - 5s 3ms/step - loss: 0.0678 - accuracy: 0.9734 - val_loss: 0.4963 - val_accuracy: 0.9044\n",
      "Epoch 4/30\n",
      "1719/1719 [==============================] - 5s 3ms/step - loss: 0.0671 - accuracy: 0.9730 - val_loss: 0.5022 - val_accuracy: 0.9026\n",
      "Epoch 5/30\n",
      "1719/1719 [==============================] - 4s 3ms/step - loss: 0.0664 - accuracy: 0.9742 - val_loss: 0.5065 - val_accuracy: 0.9034\n",
      "Epoch 6/30\n",
      "1719/1719 [==============================] - 4s 3ms/step - loss: 0.0658 - accuracy: 0.9745 - val_loss: 0.5091 - val_accuracy: 0.9036\n",
      "Epoch 7/30\n",
      "1719/1719 [==============================] - 4s 3ms/step - loss: 0.0653 - accuracy: 0.9746 - val_loss: 0.5088 - val_accuracy: 0.9030\n"
     ]
    }
   ],
   "source": [
    "history = model.fit(\n",
    "    X_train, \n",
    "    y_train, \n",
    "    epochs=30, \n",
    "    validation_data=(X_valid, y_valid),\n",
    "    callbacks=[early_stopping]\n",
    ")"
   ]
  },
  {
   "cell_type": "code",
   "execution_count": 46,
   "id": "543301ca",
   "metadata": {},
   "outputs": [
    {
     "data": {
      "image/png": "[encoded data removed]",
      "text/plain": [
       "<Figure size 576x360 with 1 Axes>"
      ]
     },
     "metadata": {
      "needs_background": "light"
     },
     "output_type": "display_data"
    }
   ],
   "source": [
    "import pandas as pd\n",
    "import matplotlib.pyplot as plt\n",
    "pd.DataFrame(history.history).plot(figsize=(8, 5))\n",
    "plt.grid(True)\n",
    "plt.gca().set_ylim(0, 1) # set the vertical range to [0-1]\n",
    "plt.show()"
   ]
  },
  {
   "cell_type": "markdown",
   "id": "6d34dd65",
   "metadata": {},
   "source": [
    "## Define own learning rate schedule"
   ]
  },
  {
   "cell_type": "code",
   "execution_count": 10,
   "id": "dfccc171",
   "metadata": {},
   "outputs": [],
   "source": [
    "epochs = 30\n",
    "learning_rate = 0.1\n",
    "decay_rate = learning_rate / epochs\n",
    "sgd = keras.optimizers.SGD(learning_rate=learning_rate, decay=decay_rate, nesterov=False)"
   ]
  },
  {
   "cell_type": "code",
   "execution_count": 11,
   "id": "ab74a6c9",
   "metadata": {},
   "outputs": [],
   "source": [
    "# compile\n",
    "model.compile(\n",
    "    loss=\"sparse_categorical_crossentropy\", # sparse labels\n",
    "    optimizer=sgd,\n",
    "    metrics=[\"accuracy\"]\n",
    ")"
   ]
  },
  {
   "cell_type": "code",
   "execution_count": 12,
   "id": "443ba267",
   "metadata": {},
   "outputs": [
    {
     "name": "stdout",
     "output_type": "stream",
     "text": [
      "Epoch 1/5\n",
      "1719/1719 [==============================] - 5s 3ms/step - loss: 0.3740 - accuracy: 0.8627 - val_loss: 0.3490 - val_accuracy: 0.8762\n",
      "Epoch 2/5\n",
      "1719/1719 [==============================] - 6s 4ms/step - loss: 0.3364 - accuracy: 0.8768 - val_loss: 0.3364 - val_accuracy: 0.8796\n",
      "Epoch 3/5\n",
      "1719/1719 [==============================] - 5s 3ms/step - loss: 0.3249 - accuracy: 0.8813 - val_loss: 0.3319 - val_accuracy: 0.8802\n",
      "Epoch 4/5\n",
      "1719/1719 [==============================] - 7s 4ms/step - loss: 0.3180 - accuracy: 0.8844 - val_loss: 0.3333 - val_accuracy: 0.8822\n",
      "Epoch 5/5\n",
      "1719/1719 [==============================] - 6s 3ms/step - loss: 0.3134 - accuracy: 0.8859 - val_loss: 0.3271 - val_accuracy: 0.8820\n"
     ]
    }
   ],
   "source": [
    "# fit\n",
    "history = model.fit(\n",
    "    X_train, \n",
    "    y_train, \n",
    "    epochs=5, \n",
    "    validation_data=(X_valid, y_valid),\n",
    "    callbacks=[early_stopping]\n",
    ")"
   ]
  },
  {
   "cell_type": "code",
   "execution_count": 22,
   "id": "0a1de05a",
   "metadata": {},
   "outputs": [
    {
     "data": {
      "image/png": "[encoded data removed]",
      "text/plain": [
       "<Figure size 576x360 with 1 Axes>"
      ]
     },
     "metadata": {
      "needs_background": "light"
     },
     "output_type": "display_data"
    }
   ],
   "source": [
    "# plot\n",
    "pd.DataFrame(history.history).plot(figsize=(8, 5))\n",
    "plt.grid(True)\n",
    "plt.gca().set_ylim(0, 1) # set the vertical range to [0-1]\n",
    "plt.show()"
   ]
  },
  {
   "cell_type": "markdown",
   "id": "1bf11b05",
   "metadata": {},
   "source": [
    "## Use learning rate scheduler"
   ]
  },
  {
   "cell_type": "code",
   "execution_count": 24,
   "id": "a63a48ad",
   "metadata": {},
   "outputs": [],
   "source": [
    "# early stopping\n",
    "early_stopping = keras.callbacks.EarlyStopping(monitor='val_accuracy', patience=5, mode='max', min_delta=0)"
   ]
  },
  {
   "cell_type": "code",
   "execution_count": 25,
   "id": "160076cd",
   "metadata": {},
   "outputs": [],
   "source": [
    "# setup LR scheduler\n",
    "epochs = 50\n",
    "# initial_learning_rate * decay_rate ^ (step / decay_steps)\n",
    "schedule = tf.keras.optimizers.schedules.ExponentialDecay(\n",
    "    initial_learning_rate = 0.1, \n",
    "    decay_steps = 10, \n",
    "    decay_rate = 0.5, \n",
    "    staircase=True # staircase function, \n",
    ")\n",
    "lr_scheduler = keras.callbacks.LearningRateScheduler(schedule, verbose=1)"
   ]
  },
  {
   "cell_type": "code",
   "execution_count": 26,
   "id": "bc140366",
   "metadata": {},
   "outputs": [
    {
     "name": "stdout",
     "output_type": "stream",
     "text": [
      "\n",
      "Epoch 1: LearningRateScheduler setting learning rate to 0.10000000149011612.\n",
      "Epoch 1/50\n",
      "1719/1719 [==============================] - 5s 3ms/step - loss: 0.1967 - accuracy: 0.9255 - val_loss: 0.3116 - val_accuracy: 0.8896 - lr: 0.1000\n",
      "\n",
      "Epoch 2: LearningRateScheduler setting learning rate to 0.10000000149011612.\n",
      "Epoch 2/50\n",
      "1719/1719 [==============================] - 4s 3ms/step - loss: 0.1889 - accuracy: 0.9272 - val_loss: 0.3213 - val_accuracy: 0.8898 - lr: 0.1000\n",
      "\n",
      "Epoch 3: LearningRateScheduler setting learning rate to 0.10000000149011612.\n",
      "Epoch 3/50\n",
      "1719/1719 [==============================] - 5s 3ms/step - loss: 0.1848 - accuracy: 0.9303 - val_loss: 0.3353 - val_accuracy: 0.8854 - lr: 0.1000\n",
      "\n",
      "Epoch 4: LearningRateScheduler setting learning rate to 0.10000000149011612.\n",
      "Epoch 4/50\n",
      "1719/1719 [==============================] - 5s 3ms/step - loss: 0.1802 - accuracy: 0.9304 - val_loss: 0.3678 - val_accuracy: 0.8842 - lr: 0.1000\n",
      "\n",
      "Epoch 5: LearningRateScheduler setting learning rate to 0.10000000149011612.\n",
      "Epoch 5/50\n",
      "1719/1719 [==============================] - 5s 3ms/step - loss: 0.1743 - accuracy: 0.9331 - val_loss: 0.3393 - val_accuracy: 0.8930 - lr: 0.1000\n",
      "\n",
      "Epoch 6: LearningRateScheduler setting learning rate to 0.10000000149011612.\n",
      "Epoch 6/50\n",
      "1719/1719 [==============================] - 4s 3ms/step - loss: 0.1660 - accuracy: 0.9362 - val_loss: 0.3323 - val_accuracy: 0.8946 - lr: 0.1000\n",
      "\n",
      "Epoch 7: LearningRateScheduler setting learning rate to 0.10000000149011612.\n",
      "Epoch 7/50\n",
      "1719/1719 [==============================] - 5s 3ms/step - loss: 0.1634 - accuracy: 0.9367 - val_loss: 0.3234 - val_accuracy: 0.8910 - lr: 0.1000\n",
      "\n",
      "Epoch 8: LearningRateScheduler setting learning rate to 0.10000000149011612.\n",
      "Epoch 8/50\n",
      "1719/1719 [==============================] - 5s 3ms/step - loss: 0.1578 - accuracy: 0.9398 - val_loss: 0.3140 - val_accuracy: 0.9008 - lr: 0.1000\n",
      "\n",
      "Epoch 9: LearningRateScheduler setting learning rate to 0.10000000149011612.\n",
      "Epoch 9/50\n",
      "1719/1719 [==============================] - 5s 3ms/step - loss: 0.1532 - accuracy: 0.9421 - val_loss: 0.3790 - val_accuracy: 0.8828 - lr: 0.1000\n",
      "\n",
      "Epoch 10: LearningRateScheduler setting learning rate to 0.10000000149011612.\n",
      "Epoch 10/50\n",
      "1719/1719 [==============================] - 4s 3ms/step - loss: 0.1479 - accuracy: 0.9438 - val_loss: 0.3216 - val_accuracy: 0.8958 - lr: 0.1000\n",
      "\n",
      "Epoch 11: LearningRateScheduler setting learning rate to 0.05000000074505806.\n",
      "Epoch 11/50\n",
      "1719/1719 [==============================] - 5s 3ms/step - loss: 0.1078 - accuracy: 0.9591 - val_loss: 0.3337 - val_accuracy: 0.8998 - lr: 0.0500\n",
      "\n",
      "Epoch 12: LearningRateScheduler setting learning rate to 0.05000000074505806.\n",
      "Epoch 12/50\n",
      "1719/1719 [==============================] - 4s 3ms/step - loss: 0.1026 - accuracy: 0.9622 - val_loss: 0.3392 - val_accuracy: 0.9036 - lr: 0.0500\n",
      "\n",
      "Epoch 13: LearningRateScheduler setting learning rate to 0.05000000074505806.\n",
      "Epoch 13/50\n",
      "1719/1719 [==============================] - 5s 3ms/step - loss: 0.0998 - accuracy: 0.9626 - val_loss: 0.3205 - val_accuracy: 0.9080 - lr: 0.0500\n",
      "\n",
      "Epoch 14: LearningRateScheduler setting learning rate to 0.05000000074505806.\n",
      "Epoch 14/50\n",
      "1719/1719 [==============================] - 5s 3ms/step - loss: 0.0940 - accuracy: 0.9645 - val_loss: 0.3325 - val_accuracy: 0.9050 - lr: 0.0500\n",
      "\n",
      "Epoch 15: LearningRateScheduler setting learning rate to 0.05000000074505806.\n",
      "Epoch 15/50\n",
      "1719/1719 [==============================] - 8s 5ms/step - loss: 0.0916 - accuracy: 0.9652 - val_loss: 0.3272 - val_accuracy: 0.9022 - lr: 0.0500\n",
      "\n",
      "Epoch 16: LearningRateScheduler setting learning rate to 0.05000000074505806.\n",
      "Epoch 16/50\n",
      "1719/1719 [==============================] - 6s 3ms/step - loss: 0.0897 - accuracy: 0.9660 - val_loss: 0.3345 - val_accuracy: 0.9100 - lr: 0.0500\n",
      "\n",
      "Epoch 17: LearningRateScheduler setting learning rate to 0.05000000074505806.\n",
      "Epoch 17/50\n",
      "1719/1719 [==============================] - 6s 4ms/step - loss: 0.0877 - accuracy: 0.9676 - val_loss: 0.3230 - val_accuracy: 0.9082 - lr: 0.0500\n",
      "\n",
      "Epoch 18: LearningRateScheduler setting learning rate to 0.05000000074505806.\n",
      "Epoch 18/50\n",
      "1719/1719 [==============================] - 5s 3ms/step - loss: 0.0839 - accuracy: 0.9680 - val_loss: 0.3621 - val_accuracy: 0.9008 - lr: 0.0500\n",
      "\n",
      "Epoch 19: LearningRateScheduler setting learning rate to 0.05000000074505806.\n",
      "Epoch 19/50\n",
      "1719/1719 [==============================] - 5s 3ms/step - loss: 0.0833 - accuracy: 0.9688 - val_loss: 0.3530 - val_accuracy: 0.9080 - lr: 0.0500\n",
      "\n",
      "Epoch 20: LearningRateScheduler setting learning rate to 0.05000000074505806.\n",
      "Epoch 20/50\n",
      "1719/1719 [==============================] - 5s 3ms/step - loss: 0.0802 - accuracy: 0.9701 - val_loss: 0.3580 - val_accuracy: 0.9036 - lr: 0.0500\n",
      "\n",
      "Epoch 21: LearningRateScheduler setting learning rate to 0.02500000037252903.\n",
      "Epoch 21/50\n",
      "1719/1719 [==============================] - 5s 3ms/step - loss: 0.0601 - accuracy: 0.9787 - val_loss: 0.3548 - val_accuracy: 0.9066 - lr: 0.0250\n"
     ]
    }
   ],
   "source": [
    "# setup optimizer\n",
    "sgd = keras.optimizers.SGD()\n",
    "\n",
    "# compile\n",
    "model.compile(\n",
    "    loss=\"sparse_categorical_crossentropy\", # sparse labels\n",
    "    optimizer=sgd,\n",
    "    metrics=[\"accuracy\"]\n",
    ")\n",
    "\n",
    "# fit\n",
    "history = model.fit(\n",
    "    X_train, \n",
    "    y_train, \n",
    "    epochs=epochs, \n",
    "    validation_data=(X_valid, y_valid),\n",
    "    callbacks=[lr_scheduler, early_stopping],\n",
    ")"
   ]
  },
  {
   "cell_type": "code",
   "execution_count": 27,
   "id": "476899e5",
   "metadata": {},
   "outputs": [
    {
     "data": {
      "image/png": "[encoded data removed]",
      "text/plain": [
       "<Figure size 576x360 with 1 Axes>"
      ]
     },
     "metadata": {
      "needs_background": "light"
     },
     "output_type": "display_data"
    }
   ],
   "source": [
    "# plot\n",
    "pd.DataFrame(history.history).plot(figsize=(8, 5))\n",
    "plt.grid(True)\n",
    "plt.gca().set_ylim(0, 1) # set the vertical range to [0-1]\n",
    "plt.show()"
   ]
  },
  {
   "cell_type": "markdown",
   "id": "56925fd7",
   "metadata": {},
   "source": [
    "## Learning Rate Scheduler + Momentum"
   ]
  },
  {
   "cell_type": "code",
   "execution_count": 35,
   "id": "0f3b70fc",
   "metadata": {},
   "outputs": [],
   "source": [
    "# early stopping\n",
    "patience = 10\n",
    "early_stopping = keras.callbacks.EarlyStopping(monitor='val_accuracy', patience=patience)"
   ]
  },
  {
   "cell_type": "code",
   "execution_count": 39,
   "id": "e8369332",
   "metadata": {},
   "outputs": [],
   "source": [
    "# setup callback\n",
    "tensorboard_cb = keras.callbacks.TensorBoard(run_logdir)"
   ]
  },
  {
   "cell_type": "code",
   "execution_count": 40,
   "id": "515d45c4",
   "metadata": {},
   "outputs": [],
   "source": [
    "# setup LR scheduler\n",
    "epochs = 50\n",
    "\n",
    "# initial_learning_rate * decay_rate ^ (step / decay_steps)\n",
    "schedule = tf.keras.optimizers.schedules.ExponentialDecay(\n",
    "    initial_learning_rate = 0.1, \n",
    "    decay_steps = 10, \n",
    "    decay_rate = 0.5, \n",
    "    staircase=True # staircase function, \n",
    ")\n",
    "lr_scheduler = keras.callbacks.LearningRateScheduler(schedule, verbose=1)"
   ]
  },
  {
   "cell_type": "code",
   "execution_count": 41,
   "id": "2f533d80",
   "metadata": {},
   "outputs": [
    {
     "name": "stdout",
     "output_type": "stream",
     "text": [
      "\n",
      "Epoch 1: LearningRateScheduler setting learning rate to 0.10000000149011612.\n",
      "Epoch 1/50\n",
      "1719/1719 [==============================] - 7s 4ms/step - loss: 0.2757 - accuracy: 0.8990 - val_loss: 0.3619 - val_accuracy: 0.8848 - lr: 0.1000\n",
      "\n",
      "Epoch 2: LearningRateScheduler setting learning rate to 0.10000000149011612.\n",
      "Epoch 2/50\n",
      "1719/1719 [==============================] - 6s 4ms/step - loss: 0.2710 - accuracy: 0.9008 - val_loss: 0.3681 - val_accuracy: 0.8802 - lr: 0.1000\n",
      "\n",
      "Epoch 3: LearningRateScheduler setting learning rate to 0.10000000149011612.\n",
      "Epoch 3/50\n",
      "1719/1719 [==============================] - 5s 3ms/step - loss: 0.2682 - accuracy: 0.9027 - val_loss: 0.3551 - val_accuracy: 0.8816 - lr: 0.1000\n",
      "\n",
      "Epoch 4: LearningRateScheduler setting learning rate to 0.10000000149011612.\n",
      "Epoch 4/50\n",
      "1719/1719 [==============================] - 5s 3ms/step - loss: 0.2537 - accuracy: 0.9073 - val_loss: 0.3808 - val_accuracy: 0.8858 - lr: 0.1000\n",
      "\n",
      "Epoch 5: LearningRateScheduler setting learning rate to 0.10000000149011612.\n",
      "Epoch 5/50\n",
      "1719/1719 [==============================] - 5s 3ms/step - loss: 0.2594 - accuracy: 0.9062 - val_loss: 0.3531 - val_accuracy: 0.8842 - lr: 0.1000\n",
      "\n",
      "Epoch 6: LearningRateScheduler setting learning rate to 0.10000000149011612.\n",
      "Epoch 6/50\n",
      "1719/1719 [==============================] - 5s 3ms/step - loss: 0.2528 - accuracy: 0.9066 - val_loss: 0.4169 - val_accuracy: 0.8708 - lr: 0.1000\n",
      "\n",
      "Epoch 7: LearningRateScheduler setting learning rate to 0.10000000149011612.\n",
      "Epoch 7/50\n",
      "1719/1719 [==============================] - 5s 3ms/step - loss: 0.2486 - accuracy: 0.9090 - val_loss: 0.3925 - val_accuracy: 0.8886 - lr: 0.1000\n",
      "\n",
      "Epoch 8: LearningRateScheduler setting learning rate to 0.10000000149011612.\n",
      "Epoch 8/50\n",
      "1719/1719 [==============================] - 5s 3ms/step - loss: 0.2404 - accuracy: 0.9129 - val_loss: 0.3978 - val_accuracy: 0.8766 - lr: 0.1000\n",
      "\n",
      "Epoch 9: LearningRateScheduler setting learning rate to 0.10000000149011612.\n",
      "Epoch 9/50\n",
      "1719/1719 [==============================] - 5s 3ms/step - loss: 0.2402 - accuracy: 0.9116 - val_loss: 0.3714 - val_accuracy: 0.8858 - lr: 0.1000\n",
      "\n",
      "Epoch 10: LearningRateScheduler setting learning rate to 0.10000000149011612.\n",
      "Epoch 10/50\n",
      "1719/1719 [==============================] - 5s 3ms/step - loss: 0.2346 - accuracy: 0.9135 - val_loss: 0.3788 - val_accuracy: 0.8886 - lr: 0.1000\n",
      "\n",
      "Epoch 11: LearningRateScheduler setting learning rate to 0.05000000074505806.\n",
      "Epoch 11/50\n",
      "1719/1719 [==============================] - 6s 3ms/step - loss: 0.1734 - accuracy: 0.9339 - val_loss: 0.3668 - val_accuracy: 0.8946 - lr: 0.0500\n",
      "\n",
      "Epoch 12: LearningRateScheduler setting learning rate to 0.05000000074505806.\n",
      "Epoch 12/50\n",
      "1719/1719 [==============================] - 6s 3ms/step - loss: 0.1610 - accuracy: 0.9376 - val_loss: 0.3844 - val_accuracy: 0.8934 - lr: 0.0500\n",
      "\n",
      "Epoch 13: LearningRateScheduler setting learning rate to 0.05000000074505806.\n",
      "Epoch 13/50\n",
      "1719/1719 [==============================] - 5s 3ms/step - loss: 0.1541 - accuracy: 0.9402 - val_loss: 0.3816 - val_accuracy: 0.8966 - lr: 0.0500\n",
      "\n",
      "Epoch 14: LearningRateScheduler setting learning rate to 0.05000000074505806.\n",
      "Epoch 14/50\n",
      "1719/1719 [==============================] - 5s 3ms/step - loss: 0.1504 - accuracy: 0.9424 - val_loss: 0.4058 - val_accuracy: 0.8898 - lr: 0.0500\n",
      "\n",
      "Epoch 15: LearningRateScheduler setting learning rate to 0.05000000074505806.\n",
      "Epoch 15/50\n",
      "1719/1719 [==============================] - 5s 3ms/step - loss: 0.1459 - accuracy: 0.9431 - val_loss: 0.3991 - val_accuracy: 0.8982 - lr: 0.0500\n",
      "\n",
      "Epoch 16: LearningRateScheduler setting learning rate to 0.05000000074505806.\n",
      "Epoch 16/50\n",
      "1719/1719 [==============================] - 6s 3ms/step - loss: 0.1415 - accuracy: 0.9445 - val_loss: 0.4182 - val_accuracy: 0.9004 - lr: 0.0500\n",
      "\n",
      "Epoch 17: LearningRateScheduler setting learning rate to 0.05000000074505806.\n",
      "Epoch 17/50\n",
      "1719/1719 [==============================] - 5s 3ms/step - loss: 0.1403 - accuracy: 0.9446 - val_loss: 0.4198 - val_accuracy: 0.8978 - lr: 0.0500\n",
      "\n",
      "Epoch 18: LearningRateScheduler setting learning rate to 0.05000000074505806.\n",
      "Epoch 18/50\n",
      "1719/1719 [==============================] - 5s 3ms/step - loss: 0.1377 - accuracy: 0.9465 - val_loss: 0.4211 - val_accuracy: 0.8972 - lr: 0.0500\n",
      "\n",
      "Epoch 19: LearningRateScheduler setting learning rate to 0.05000000074505806.\n",
      "Epoch 19/50\n",
      "1719/1719 [==============================] - 5s 3ms/step - loss: 0.1338 - accuracy: 0.9484 - val_loss: 0.4252 - val_accuracy: 0.8984 - lr: 0.0500\n",
      "\n",
      "Epoch 20: LearningRateScheduler setting learning rate to 0.05000000074505806.\n",
      "Epoch 20/50\n",
      "1719/1719 [==============================] - 5s 3ms/step - loss: 0.1331 - accuracy: 0.9471 - val_loss: 0.4399 - val_accuracy: 0.8996 - lr: 0.0500\n",
      "\n",
      "Epoch 21: LearningRateScheduler setting learning rate to 0.02500000037252903.\n",
      "Epoch 21/50\n",
      "1719/1719 [==============================] - 5s 3ms/step - loss: 0.1057 - accuracy: 0.9586 - val_loss: 0.4298 - val_accuracy: 0.9036 - lr: 0.0250\n",
      "\n",
      "Epoch 22: LearningRateScheduler setting learning rate to 0.02500000037252903.\n",
      "Epoch 22/50\n",
      "1719/1719 [==============================] - 4s 3ms/step - loss: 0.1004 - accuracy: 0.9593 - val_loss: 0.4658 - val_accuracy: 0.9028 - lr: 0.0250\n",
      "\n",
      "Epoch 23: LearningRateScheduler setting learning rate to 0.02500000037252903.\n",
      "Epoch 23/50\n",
      "1719/1719 [==============================] - 5s 3ms/step - loss: 0.0962 - accuracy: 0.9612 - val_loss: 0.4645 - val_accuracy: 0.8992 - lr: 0.0250\n",
      "\n",
      "Epoch 24: LearningRateScheduler setting learning rate to 0.02500000037252903.\n",
      "Epoch 24/50\n",
      "1719/1719 [==============================] - 5s 3ms/step - loss: 0.0942 - accuracy: 0.9622 - val_loss: 0.4717 - val_accuracy: 0.9006 - lr: 0.0250\n",
      "\n",
      "Epoch 25: LearningRateScheduler setting learning rate to 0.02500000037252903.\n",
      "Epoch 25/50\n",
      "1719/1719 [==============================] - 5s 3ms/step - loss: 0.0915 - accuracy: 0.9634 - val_loss: 0.5062 - val_accuracy: 0.9000 - lr: 0.0250\n",
      "\n",
      "Epoch 26: LearningRateScheduler setting learning rate to 0.02500000037252903.\n",
      "Epoch 26/50\n",
      "1719/1719 [==============================] - 5s 3ms/step - loss: 0.0903 - accuracy: 0.9633 - val_loss: 0.4717 - val_accuracy: 0.8988 - lr: 0.0250\n"
     ]
    }
   ],
   "source": [
    "# setup optimizer\n",
    "sgd = keras.optimizers.SGD(momentum=0.8)\n",
    "\n",
    "# compile\n",
    "model.compile(\n",
    "    loss=\"sparse_categorical_crossentropy\", # sparse labels\n",
    "    optimizer=sgd,\n",
    "    metrics=[\"accuracy\"]\n",
    ")\n",
    "\n",
    "# fit\n",
    "history = model.fit(\n",
    "    X_train, \n",
    "    y_train, \n",
    "    epochs=epochs, \n",
    "    validation_data=(X_valid, y_valid),\n",
    "    callbacks=[lr_scheduler, early_stopping, tensorboard_cb],\n",
    ")"
   ]
  },
  {
   "cell_type": "code",
   "execution_count": 42,
   "id": "4d63be06",
   "metadata": {},
   "outputs": [
    {
     "data": {
      "image/png": "[encoded data removed]",
      "text/plain": [
       "<Figure size 576x360 with 1 Axes>"
      ]
     },
     "metadata": {
      "needs_background": "light"
     },
     "output_type": "display_data"
    }
   ],
   "source": [
    "# plot\n",
    "pd.DataFrame(history.history).plot(figsize=(8, 5))\n",
    "plt.grid(True)\n",
    "plt.gca().set_ylim(0, 1) # set the vertical range to [0-1]\n",
    "plt.show()"
   ]
  },
  {
   "cell_type": "markdown",
   "id": "aa1ead8c",
   "metadata": {},
   "source": [
    "## Create a more complex model"
   ]
  },
  {
   "cell_type": "code",
   "execution_count": 56,
   "id": "46372e21",
   "metadata": {},
   "outputs": [],
   "source": [
    "model = keras.models.Sequential()\n",
    "model.add(keras.layers.Flatten(input_shape=[28, 28])) # same as InputLayer\n",
    "model.add(keras.layers.Dense(300, activation=\"relu\"))\n",
    "model.add(keras.layers.Dense(300, activation=\"relu\"))\n",
    "model.add(keras.layers.Dense(300, activation=\"relu\"))\n",
    "model.add(keras.layers.Dense(10, activation=\"softmax\")) # softmax activation layer because the classes are exclusive, otherwise sigmoid would work"
   ]
  },
  {
   "cell_type": "code",
   "execution_count": 57,
   "id": "77d0e6ca",
   "metadata": {},
   "outputs": [],
   "source": [
    "# early stopping\n",
    "patience = 10\n",
    "early_stopping = keras.callbacks.EarlyStopping(monitor='val_accuracy', patience=patience)"
   ]
  },
  {
   "cell_type": "code",
   "execution_count": 58,
   "id": "583b1cc3",
   "metadata": {},
   "outputs": [],
   "source": [
    "# setup callback\n",
    "log_dir = './tensorboard-logs/image-classifier-fashion-dataset/3-layers'\n",
    "tensorboard_cb = keras.callbacks.TensorBoard(log_dir)"
   ]
  },
  {
   "cell_type": "code",
   "execution_count": 59,
   "id": "b1597a5f",
   "metadata": {},
   "outputs": [],
   "source": [
    "# setup LR scheduler\n",
    "epochs = 50\n",
    "\n",
    "# initial_learning_rate * decay_rate ^ (step / decay_steps)\n",
    "schedule = tf.keras.optimizers.schedules.ExponentialDecay(\n",
    "    initial_learning_rate = 0.01, \n",
    "    decay_steps = 10, \n",
    "    decay_rate = 0.5, \n",
    "    staircase=True # staircase function, \n",
    ")\n",
    "lr_scheduler = keras.callbacks.LearningRateScheduler(schedule, verbose=1)"
   ]
  },
  {
   "cell_type": "code",
   "execution_count": 60,
   "id": "c927680c",
   "metadata": {},
   "outputs": [
    {
     "name": "stdout",
     "output_type": "stream",
     "text": [
      "\n",
      "Epoch 1: LearningRateScheduler setting learning rate to 0.009999999776482582.\n",
      "Epoch 1/50\n",
      "1719/1719 [==============================] - 7s 4ms/step - loss: 0.5503 - accuracy: 0.8043 - val_loss: 0.4008 - val_accuracy: 0.8506 - lr: 0.0100\n",
      "\n",
      "Epoch 2: LearningRateScheduler setting learning rate to 0.009999999776482582.\n",
      "Epoch 2/50\n",
      "1719/1719 [==============================] - 7s 4ms/step - loss: 0.3923 - accuracy: 0.8566 - val_loss: 0.3623 - val_accuracy: 0.8648 - lr: 0.0100\n",
      "\n",
      "Epoch 3: LearningRateScheduler setting learning rate to 0.009999999776482582.\n",
      "Epoch 3/50\n",
      "1719/1719 [==============================] - 6s 3ms/step - loss: 0.3487 - accuracy: 0.8724 - val_loss: 0.3316 - val_accuracy: 0.8762 - lr: 0.0100\n",
      "\n",
      "Epoch 4: LearningRateScheduler setting learning rate to 0.009999999776482582.\n",
      "Epoch 4/50\n",
      "1719/1719 [==============================] - 9s 5ms/step - loss: 0.3237 - accuracy: 0.8807 - val_loss: 0.3162 - val_accuracy: 0.8850 - lr: 0.0100\n",
      "\n",
      "Epoch 5: LearningRateScheduler setting learning rate to 0.009999999776482582.\n",
      "Epoch 5/50\n",
      "1719/1719 [==============================] - 10s 6ms/step - loss: 0.3031 - accuracy: 0.8881 - val_loss: 0.3135 - val_accuracy: 0.8846 - lr: 0.0100\n",
      "\n",
      "Epoch 6: LearningRateScheduler setting learning rate to 0.009999999776482582.\n",
      "Epoch 6/50\n",
      "1719/1719 [==============================] - 8s 4ms/step - loss: 0.2864 - accuracy: 0.8938 - val_loss: 0.3104 - val_accuracy: 0.8838 - lr: 0.0100\n",
      "\n",
      "Epoch 7: LearningRateScheduler setting learning rate to 0.009999999776482582.\n",
      "Epoch 7/50\n",
      "1719/1719 [==============================] - 7s 4ms/step - loss: 0.2750 - accuracy: 0.8975 - val_loss: 0.2929 - val_accuracy: 0.8924 - lr: 0.0100\n",
      "\n",
      "Epoch 8: LearningRateScheduler setting learning rate to 0.009999999776482582.\n",
      "Epoch 8/50\n",
      "1719/1719 [==============================] - 7s 4ms/step - loss: 0.2629 - accuracy: 0.9022 - val_loss: 0.2945 - val_accuracy: 0.8898 - lr: 0.0100\n",
      "\n",
      "Epoch 9: LearningRateScheduler setting learning rate to 0.009999999776482582.\n",
      "Epoch 9/50\n",
      "1719/1719 [==============================] - 7s 4ms/step - loss: 0.2509 - accuracy: 0.9065 - val_loss: 0.3067 - val_accuracy: 0.8868 - lr: 0.0100\n",
      "\n",
      "Epoch 10: LearningRateScheduler setting learning rate to 0.009999999776482582.\n",
      "Epoch 10/50\n",
      "1719/1719 [==============================] - 6s 3ms/step - loss: 0.2406 - accuracy: 0.9093 - val_loss: 0.2881 - val_accuracy: 0.8946 - lr: 0.0100\n",
      "\n",
      "Epoch 11: LearningRateScheduler setting learning rate to 0.004999999888241291.\n",
      "Epoch 11/50\n",
      "1719/1719 [==============================] - 5s 3ms/step - loss: 0.2057 - accuracy: 0.9225 - val_loss: 0.2917 - val_accuracy: 0.8986 - lr: 0.0050\n",
      "\n",
      "Epoch 12: LearningRateScheduler setting learning rate to 0.004999999888241291.\n",
      "Epoch 12/50\n",
      "1719/1719 [==============================] - 7s 4ms/step - loss: 0.1989 - accuracy: 0.9251 - val_loss: 0.2844 - val_accuracy: 0.8978 - lr: 0.0050\n",
      "\n",
      "Epoch 13: LearningRateScheduler setting learning rate to 0.004999999888241291.\n",
      "Epoch 13/50\n",
      "1719/1719 [==============================] - 6s 4ms/step - loss: 0.1916 - accuracy: 0.9293 - val_loss: 0.2912 - val_accuracy: 0.8938 - lr: 0.0050\n",
      "\n",
      "Epoch 14: LearningRateScheduler setting learning rate to 0.004999999888241291.\n",
      "Epoch 14/50\n",
      "1719/1719 [==============================] - 6s 3ms/step - loss: 0.1861 - accuracy: 0.9298 - val_loss: 0.3066 - val_accuracy: 0.8910 - lr: 0.0050\n",
      "\n",
      "Epoch 15: LearningRateScheduler setting learning rate to 0.004999999888241291.\n",
      "Epoch 15/50\n",
      "1719/1719 [==============================] - 6s 3ms/step - loss: 0.1805 - accuracy: 0.9321 - val_loss: 0.2862 - val_accuracy: 0.8938 - lr: 0.0050\n",
      "\n",
      "Epoch 16: LearningRateScheduler setting learning rate to 0.004999999888241291.\n",
      "Epoch 16/50\n",
      "1719/1719 [==============================] - 5s 3ms/step - loss: 0.1752 - accuracy: 0.9345 - val_loss: 0.2994 - val_accuracy: 0.8952 - lr: 0.0050\n",
      "\n",
      "Epoch 17: LearningRateScheduler setting learning rate to 0.004999999888241291.\n",
      "Epoch 17/50\n",
      "1719/1719 [==============================] - 5s 3ms/step - loss: 0.1704 - accuracy: 0.9362 - val_loss: 0.2957 - val_accuracy: 0.8926 - lr: 0.0050\n",
      "\n",
      "Epoch 18: LearningRateScheduler setting learning rate to 0.004999999888241291.\n",
      "Epoch 18/50\n",
      "1719/1719 [==============================] - 5s 3ms/step - loss: 0.1647 - accuracy: 0.9392 - val_loss: 0.2972 - val_accuracy: 0.8976 - lr: 0.0050\n",
      "\n",
      "Epoch 19: LearningRateScheduler setting learning rate to 0.004999999888241291.\n",
      "Epoch 19/50\n",
      "1719/1719 [==============================] - 6s 3ms/step - loss: 0.1614 - accuracy: 0.9395 - val_loss: 0.2848 - val_accuracy: 0.9028 - lr: 0.0050\n",
      "\n",
      "Epoch 20: LearningRateScheduler setting learning rate to 0.004999999888241291.\n",
      "Epoch 20/50\n",
      "1719/1719 [==============================] - 7s 4ms/step - loss: 0.1551 - accuracy: 0.9418 - val_loss: 0.2892 - val_accuracy: 0.9024 - lr: 0.0050\n",
      "\n",
      "Epoch 21: LearningRateScheduler setting learning rate to 0.0024999999441206455.\n",
      "Epoch 21/50\n",
      "1719/1719 [==============================] - 6s 4ms/step - loss: 0.1331 - accuracy: 0.9512 - val_loss: 0.2830 - val_accuracy: 0.9032 - lr: 0.0025\n",
      "\n",
      "Epoch 22: LearningRateScheduler setting learning rate to 0.0024999999441206455.\n",
      "Epoch 22/50\n",
      "1719/1719 [==============================] - 7s 4ms/step - loss: 0.1274 - accuracy: 0.9540 - val_loss: 0.2943 - val_accuracy: 0.9014 - lr: 0.0025\n",
      "\n",
      "Epoch 23: LearningRateScheduler setting learning rate to 0.0024999999441206455.\n",
      "Epoch 23/50\n",
      "1719/1719 [==============================] - 6s 3ms/step - loss: 0.1253 - accuracy: 0.9534 - val_loss: 0.2867 - val_accuracy: 0.9042 - lr: 0.0025\n",
      "\n",
      "Epoch 24: LearningRateScheduler setting learning rate to 0.0024999999441206455.\n",
      "Epoch 24/50\n",
      "1719/1719 [==============================] - 5s 3ms/step - loss: 0.1212 - accuracy: 0.9561 - val_loss: 0.3011 - val_accuracy: 0.9026 - lr: 0.0025\n",
      "\n",
      "Epoch 25: LearningRateScheduler setting learning rate to 0.0024999999441206455.\n",
      "Epoch 25/50\n",
      "1719/1719 [==============================] - 5s 3ms/step - loss: 0.1188 - accuracy: 0.9572 - val_loss: 0.2960 - val_accuracy: 0.9026 - lr: 0.0025\n",
      "\n",
      "Epoch 26: LearningRateScheduler setting learning rate to 0.0024999999441206455.\n",
      "Epoch 26/50\n",
      "1719/1719 [==============================] - 6s 3ms/step - loss: 0.1143 - accuracy: 0.9589 - val_loss: 0.2939 - val_accuracy: 0.9028 - lr: 0.0025\n",
      "\n",
      "Epoch 27: LearningRateScheduler setting learning rate to 0.0024999999441206455.\n",
      "Epoch 27/50\n",
      "1719/1719 [==============================] - 6s 3ms/step - loss: 0.1117 - accuracy: 0.9596 - val_loss: 0.3043 - val_accuracy: 0.9028 - lr: 0.0025\n",
      "\n",
      "Epoch 28: LearningRateScheduler setting learning rate to 0.0024999999441206455.\n",
      "Epoch 28/50\n",
      "1719/1719 [==============================] - 6s 3ms/step - loss: 0.1086 - accuracy: 0.9609 - val_loss: 0.2995 - val_accuracy: 0.9028 - lr: 0.0025\n",
      "\n",
      "Epoch 29: LearningRateScheduler setting learning rate to 0.0024999999441206455.\n",
      "Epoch 29/50\n",
      "1719/1719 [==============================] - 8s 4ms/step - loss: 0.1067 - accuracy: 0.9621 - val_loss: 0.3082 - val_accuracy: 0.8988 - lr: 0.0025\n",
      "\n",
      "Epoch 30: LearningRateScheduler setting learning rate to 0.0024999999441206455.\n",
      "Epoch 30/50\n",
      "1719/1719 [==============================] - 6s 3ms/step - loss: 0.1035 - accuracy: 0.9628 - val_loss: 0.3139 - val_accuracy: 0.8996 - lr: 0.0025\n",
      "\n",
      "Epoch 31: LearningRateScheduler setting learning rate to 0.0012499999720603228.\n",
      "Epoch 31/50\n",
      "1719/1719 [==============================] - 6s 4ms/step - loss: 0.0880 - accuracy: 0.9702 - val_loss: 0.3037 - val_accuracy: 0.9048 - lr: 0.0012\n",
      "\n",
      "Epoch 32: LearningRateScheduler setting learning rate to 0.0012499999720603228.\n",
      "Epoch 32/50\n",
      "1719/1719 [==============================] - 8s 4ms/step - loss: 0.0859 - accuracy: 0.9705 - val_loss: 0.3142 - val_accuracy: 0.9032 - lr: 0.0012\n",
      "\n",
      "Epoch 33: LearningRateScheduler setting learning rate to 0.0012499999720603228.\n",
      "Epoch 33/50\n",
      "1719/1719 [==============================] - 6s 4ms/step - loss: 0.0834 - accuracy: 0.9716 - val_loss: 0.3114 - val_accuracy: 0.9032 - lr: 0.0012\n",
      "\n",
      "Epoch 34: LearningRateScheduler setting learning rate to 0.0012499999720603228.\n",
      "Epoch 34/50\n",
      "1719/1719 [==============================] - 6s 4ms/step - loss: 0.0818 - accuracy: 0.9727 - val_loss: 0.3189 - val_accuracy: 0.9026 - lr: 0.0012\n",
      "\n",
      "Epoch 35: LearningRateScheduler setting learning rate to 0.0012499999720603228.\n",
      "Epoch 35/50\n"
     ]
    },
    {
     "name": "stdout",
     "output_type": "stream",
     "text": [
      "1719/1719 [==============================] - 6s 4ms/step - loss: 0.0796 - accuracy: 0.9735 - val_loss: 0.3178 - val_accuracy: 0.9012 - lr: 0.0012\n",
      "\n",
      "Epoch 36: LearningRateScheduler setting learning rate to 0.0012499999720603228.\n",
      "Epoch 36/50\n",
      "1719/1719 [==============================] - 6s 4ms/step - loss: 0.0780 - accuracy: 0.9736 - val_loss: 0.3253 - val_accuracy: 0.9050 - lr: 0.0012\n",
      "\n",
      "Epoch 37: LearningRateScheduler setting learning rate to 0.0012499999720603228.\n",
      "Epoch 37/50\n",
      "1719/1719 [==============================] - 6s 4ms/step - loss: 0.0763 - accuracy: 0.9744 - val_loss: 0.3221 - val_accuracy: 0.9032 - lr: 0.0012\n",
      "\n",
      "Epoch 38: LearningRateScheduler setting learning rate to 0.0012499999720603228.\n",
      "Epoch 38/50\n",
      "1719/1719 [==============================] - 6s 4ms/step - loss: 0.0743 - accuracy: 0.9747 - val_loss: 0.3348 - val_accuracy: 0.9026 - lr: 0.0012\n",
      "\n",
      "Epoch 39: LearningRateScheduler setting learning rate to 0.0012499999720603228.\n",
      "Epoch 39/50\n",
      "1719/1719 [==============================] - 6s 4ms/step - loss: 0.0721 - accuracy: 0.9762 - val_loss: 0.3251 - val_accuracy: 0.9028 - lr: 0.0012\n",
      "\n",
      "Epoch 40: LearningRateScheduler setting learning rate to 0.0012499999720603228.\n",
      "Epoch 40/50\n",
      "1719/1719 [==============================] - 6s 4ms/step - loss: 0.0713 - accuracy: 0.9761 - val_loss: 0.3249 - val_accuracy: 0.9070 - lr: 0.0012\n",
      "\n",
      "Epoch 41: LearningRateScheduler setting learning rate to 0.0006249999860301614.\n",
      "Epoch 41/50\n",
      "1719/1719 [==============================] - 6s 4ms/step - loss: 0.0632 - accuracy: 0.9803 - val_loss: 0.3248 - val_accuracy: 0.9048 - lr: 6.2500e-04\n",
      "\n",
      "Epoch 42: LearningRateScheduler setting learning rate to 0.0006249999860301614.\n",
      "Epoch 42/50\n",
      "1719/1719 [==============================] - 6s 4ms/step - loss: 0.0618 - accuracy: 0.9810 - val_loss: 0.3313 - val_accuracy: 0.9040 - lr: 6.2500e-04\n",
      "\n",
      "Epoch 43: LearningRateScheduler setting learning rate to 0.0006249999860301614.\n",
      "Epoch 43/50\n",
      "1719/1719 [==============================] - 7s 4ms/step - loss: 0.0608 - accuracy: 0.9811 - val_loss: 0.3313 - val_accuracy: 0.9046 - lr: 6.2500e-04\n",
      "\n",
      "Epoch 44: LearningRateScheduler setting learning rate to 0.0006249999860301614.\n",
      "Epoch 44/50\n",
      "1719/1719 [==============================] - 7s 4ms/step - loss: 0.0599 - accuracy: 0.9820 - val_loss: 0.3341 - val_accuracy: 0.9062 - lr: 6.2500e-04\n",
      "\n",
      "Epoch 45: LearningRateScheduler setting learning rate to 0.0006249999860301614.\n",
      "Epoch 45/50\n",
      "1719/1719 [==============================] - 7s 4ms/step - loss: 0.0591 - accuracy: 0.9821 - val_loss: 0.3363 - val_accuracy: 0.9064 - lr: 6.2500e-04\n",
      "\n",
      "Epoch 46: LearningRateScheduler setting learning rate to 0.0006249999860301614.\n",
      "Epoch 46/50\n",
      "1719/1719 [==============================] - 7s 4ms/step - loss: 0.0581 - accuracy: 0.9826 - val_loss: 0.3368 - val_accuracy: 0.9044 - lr: 6.2500e-04\n",
      "\n",
      "Epoch 47: LearningRateScheduler setting learning rate to 0.0006249999860301614.\n",
      "Epoch 47/50\n",
      "1719/1719 [==============================] - 7s 4ms/step - loss: 0.0571 - accuracy: 0.9827 - val_loss: 0.3380 - val_accuracy: 0.9050 - lr: 6.2500e-04\n",
      "\n",
      "Epoch 48: LearningRateScheduler setting learning rate to 0.0006249999860301614.\n",
      "Epoch 48/50\n",
      "1719/1719 [==============================] - 8s 5ms/step - loss: 0.0559 - accuracy: 0.9835 - val_loss: 0.3428 - val_accuracy: 0.9068 - lr: 6.2500e-04\n",
      "\n",
      "Epoch 49: LearningRateScheduler setting learning rate to 0.0006249999860301614.\n",
      "Epoch 49/50\n",
      "1719/1719 [==============================] - 6s 3ms/step - loss: 0.0555 - accuracy: 0.9838 - val_loss: 0.3394 - val_accuracy: 0.9056 - lr: 6.2500e-04\n",
      "\n",
      "Epoch 50: LearningRateScheduler setting learning rate to 0.0006249999860301614.\n",
      "Epoch 50/50\n",
      "1719/1719 [==============================] - 6s 3ms/step - loss: 0.0545 - accuracy: 0.9837 - val_loss: 0.3447 - val_accuracy: 0.9056 - lr: 6.2500e-04\n"
     ]
    }
   ],
   "source": [
    "# setup optimizer\n",
    "sgd = keras.optimizers.SGD(momentum=0.8)\n",
    "\n",
    "# compile\n",
    "model.compile(\n",
    "    loss=\"sparse_categorical_crossentropy\", # sparse labels\n",
    "    optimizer=sgd,\n",
    "    metrics=[\"accuracy\"]\n",
    ")\n",
    "\n",
    "# fit\n",
    "history = model.fit(\n",
    "    X_train, \n",
    "    y_train, \n",
    "    epochs=epochs, \n",
    "    validation_data=(X_valid, y_valid),\n",
    "    callbacks=[lr_scheduler, early_stopping, tensorboard_cb],\n",
    ")"
   ]
  },
  {
   "cell_type": "markdown",
   "id": "be19b7f0",
   "metadata": {},
   "source": [
    "## Create a less complex model"
   ]
  },
  {
   "cell_type": "code",
   "execution_count": 61,
   "id": "94963964",
   "metadata": {},
   "outputs": [],
   "source": [
    "model = keras.models.Sequential()\n",
    "model.add(keras.layers.Flatten(input_shape=[28, 28])) # same as InputLayer\n",
    "model.add(keras.layers.Dense(100, activation=\"relu\"))\n",
    "model.add(keras.layers.Dense(100, activation=\"relu\"))\n",
    "model.add(keras.layers.Dense(10, activation=\"softmax\")) # softmax activation layer because the classes are exclusive, otherwise sigmoid would work"
   ]
  },
  {
   "cell_type": "code",
   "execution_count": 62,
   "id": "891f4d7f",
   "metadata": {
    "collapsed": true
   },
   "outputs": [
    {
     "name": "stdout",
     "output_type": "stream",
     "text": [
      "\n",
      "Epoch 1: LearningRateScheduler setting learning rate to 0.009999999776482582.\n",
      "Epoch 1/30\n",
      "1719/1719 [==============================] - 5s 2ms/step - loss: 0.5763 - accuracy: 0.7977 - val_loss: 0.4480 - val_accuracy: 0.8422 - lr: 0.0100\n",
      "\n",
      "Epoch 2: LearningRateScheduler setting learning rate to 0.009999999776482582.\n",
      "Epoch 2/30\n",
      "1719/1719 [==============================] - 4s 2ms/step - loss: 0.4119 - accuracy: 0.8512 - val_loss: 0.3726 - val_accuracy: 0.8714 - lr: 0.0100\n",
      "\n",
      "Epoch 3: LearningRateScheduler setting learning rate to 0.009999999776482582.\n",
      "Epoch 3/30\n",
      "1719/1719 [==============================] - 4s 2ms/step - loss: 0.3722 - accuracy: 0.8644 - val_loss: 0.3630 - val_accuracy: 0.8718 - lr: 0.0100\n",
      "\n",
      "Epoch 4: LearningRateScheduler setting learning rate to 0.009999999776482582.\n",
      "Epoch 4/30\n",
      "1719/1719 [==============================] - 4s 2ms/step - loss: 0.3465 - accuracy: 0.8724 - val_loss: 0.3645 - val_accuracy: 0.8674 - lr: 0.0100\n",
      "\n",
      "Epoch 5: LearningRateScheduler setting learning rate to 0.009999999776482582.\n",
      "Epoch 5/30\n",
      "1719/1719 [==============================] - 4s 2ms/step - loss: 0.3282 - accuracy: 0.8791 - val_loss: 0.3473 - val_accuracy: 0.8750 - lr: 0.0100\n",
      "\n",
      "Epoch 6: LearningRateScheduler setting learning rate to 0.009999999776482582.\n",
      "Epoch 6/30\n",
      "1719/1719 [==============================] - 4s 2ms/step - loss: 0.3119 - accuracy: 0.8836 - val_loss: 0.3348 - val_accuracy: 0.8788 - lr: 0.0100\n",
      "\n",
      "Epoch 7: LearningRateScheduler setting learning rate to 0.009999999776482582.\n",
      "Epoch 7/30\n",
      "1719/1719 [==============================] - 4s 2ms/step - loss: 0.3002 - accuracy: 0.8883 - val_loss: 0.3307 - val_accuracy: 0.8818 - lr: 0.0100\n",
      "\n",
      "Epoch 8: LearningRateScheduler setting learning rate to 0.009999999776482582.\n",
      "Epoch 8/30\n",
      "1719/1719 [==============================] - 4s 2ms/step - loss: 0.2887 - accuracy: 0.8934 - val_loss: 0.3259 - val_accuracy: 0.8786 - lr: 0.0100\n",
      "\n",
      "Epoch 9: LearningRateScheduler setting learning rate to 0.009999999776482582.\n",
      "Epoch 9/30\n",
      "1719/1719 [==============================] - 4s 2ms/step - loss: 0.2799 - accuracy: 0.8954 - val_loss: 0.3427 - val_accuracy: 0.8778 - lr: 0.0100\n",
      "\n",
      "Epoch 10: LearningRateScheduler setting learning rate to 0.009999999776482582.\n",
      "Epoch 10/30\n",
      "1719/1719 [==============================] - 4s 2ms/step - loss: 0.2706 - accuracy: 0.8994 - val_loss: 0.3089 - val_accuracy: 0.8914 - lr: 0.0100\n",
      "\n",
      "Epoch 11: LearningRateScheduler setting learning rate to 0.004999999888241291.\n",
      "Epoch 11/30\n",
      "1719/1719 [==============================] - 4s 2ms/step - loss: 0.2424 - accuracy: 0.9111 - val_loss: 0.2985 - val_accuracy: 0.8932 - lr: 0.0050\n",
      "\n",
      "Epoch 12: LearningRateScheduler setting learning rate to 0.004999999888241291.\n",
      "Epoch 12/30\n",
      "1719/1719 [==============================] - 4s 2ms/step - loss: 0.2361 - accuracy: 0.9126 - val_loss: 0.3099 - val_accuracy: 0.8882 - lr: 0.0050\n",
      "\n",
      "Epoch 13: LearningRateScheduler setting learning rate to 0.004999999888241291.\n",
      "Epoch 13/30\n",
      "1719/1719 [==============================] - 4s 2ms/step - loss: 0.2319 - accuracy: 0.9128 - val_loss: 0.2893 - val_accuracy: 0.8946 - lr: 0.0050\n",
      "\n",
      "Epoch 14: LearningRateScheduler setting learning rate to 0.004999999888241291.\n",
      "Epoch 14/30\n",
      "1719/1719 [==============================] - 4s 2ms/step - loss: 0.2273 - accuracy: 0.9154 - val_loss: 0.3026 - val_accuracy: 0.8914 - lr: 0.0050\n",
      "\n",
      "Epoch 15: LearningRateScheduler setting learning rate to 0.004999999888241291.\n",
      "Epoch 15/30\n",
      "1719/1719 [==============================] - 4s 2ms/step - loss: 0.2239 - accuracy: 0.9167 - val_loss: 0.2971 - val_accuracy: 0.8950 - lr: 0.0050\n",
      "\n",
      "Epoch 16: LearningRateScheduler setting learning rate to 0.004999999888241291.\n",
      "Epoch 16/30\n",
      "1719/1719 [==============================] - 4s 2ms/step - loss: 0.2190 - accuracy: 0.9184 - val_loss: 0.2982 - val_accuracy: 0.8920 - lr: 0.0050\n",
      "\n",
      "Epoch 17: LearningRateScheduler setting learning rate to 0.004999999888241291.\n",
      "Epoch 17/30\n",
      "1719/1719 [==============================] - 4s 2ms/step - loss: 0.2142 - accuracy: 0.9208 - val_loss: 0.2971 - val_accuracy: 0.8914 - lr: 0.0050\n",
      "\n",
      "Epoch 18: LearningRateScheduler setting learning rate to 0.004999999888241291.\n",
      "Epoch 18/30\n",
      "1719/1719 [==============================] - 4s 3ms/step - loss: 0.2120 - accuracy: 0.9218 - val_loss: 0.3037 - val_accuracy: 0.8930 - lr: 0.0050\n"
     ]
    }
   ],
   "source": [
    "# early stopping\n",
    "patience = 5\n",
    "early_stopping = keras.callbacks.EarlyStopping(monitor='val_accuracy', patience=patience, min_delta=0.001)\n",
    "\n",
    "# setup callback\n",
    "log_dir = './tensorboard-logs/image-classifier-fashion-dataset/2-layers'\n",
    "tensorboard_cb = keras.callbacks.TensorBoard(log_dir)\n",
    "\n",
    "# setup LR scheduler\n",
    "epochs = 30\n",
    "\n",
    "# initial_learning_rate * decay_rate ^ (step / decay_steps)\n",
    "schedule = tf.keras.optimizers.schedules.ExponentialDecay(\n",
    "    initial_learning_rate = 0.01, \n",
    "    decay_steps = 10, \n",
    "    decay_rate = 0.5, \n",
    "    staircase=True # staircase function, \n",
    ")\n",
    "lr_scheduler = keras.callbacks.LearningRateScheduler(schedule, verbose=1)\n",
    "\n",
    "# setup optimizer\n",
    "sgd = keras.optimizers.SGD(momentum=0.8)\n",
    "\n",
    "# compile\n",
    "model.compile(\n",
    "    loss=\"sparse_categorical_crossentropy\", # sparse labels\n",
    "    optimizer=sgd,\n",
    "    metrics=[\"accuracy\"]\n",
    ")\n",
    "\n",
    "# fit\n",
    "history = model.fit(\n",
    "    X_train, \n",
    "    y_train, \n",
    "    epochs=epochs, \n",
    "    validation_data=(X_valid, y_valid),\n",
    "    callbacks=[lr_scheduler, early_stopping, tensorboard_cb],\n",
    ")"
   ]
  },
  {
   "cell_type": "markdown",
   "id": "ef7db04a",
   "metadata": {},
   "source": [
    "# Hyper-parameter optimization"
   ]
  },
  {
   "cell_type": "code",
   "execution_count": 65,
   "id": "00592d94",
   "metadata": {},
   "outputs": [],
   "source": [
    "def create_model(hp):\n",
    "    # setup hyperparameter space\n",
    "    layers = hp.Choice('layers', [1,2,3])\n",
    "    units = hp.Choice('units', np.arange(1, 100).tolist())\n",
    "\n",
    "    # create model\n",
    "    model = keras.models.Sequential()\n",
    "    model.add(keras.layers.Flatten(input_shape=[28, 28])) # same as InputLayer\n",
    "    for layer in range(layers):\n",
    "        model.add(keras.layers.Dense(units, activation=\"relu\"))\n",
    "    model.add(keras.layers.Dense(10, activation=\"softmax\")) # softmax activation layer because the classes are exclusive, otherwise sigmoid would work\n",
    "\n",
    "    # setup optimizer\n",
    "    sgd = keras.optimizers.SGD(momentum=0.8)\n",
    "\n",
    "    # compile\n",
    "    model.compile(\n",
    "        loss=\"sparse_categorical_crossentropy\", # sparse labels\n",
    "        optimizer=sgd,\n",
    "        metrics=[\"accuracy\"]\n",
    "    )\n",
    "\n",
    "    return model"
   ]
  },
  {
   "cell_type": "code",
   "execution_count": 69,
   "id": "eec44c5c",
   "metadata": {},
   "outputs": [],
   "source": [
    "tuner = kt.Hyperband(create_model,\n",
    "                     objective='val_accuracy',\n",
    "                     max_epochs=10,\n",
    "                     factor=3)"
   ]
  },
  {
   "cell_type": "markdown",
   "id": "634d44cc",
   "metadata": {},
   "source": [
    "https://www.tensorflow.org/tutorials/keras/keras_tuner\n",
    "*Hyperband determines the number of models to train in a bracket by computing 1 + logfactor(max_epochs) and rounding it up to the nearest integer.*"
   ]
  },
  {
   "cell_type": "code",
   "execution_count": 71,
   "id": "385d17ba",
   "metadata": {},
   "outputs": [
    {
     "name": "stdout",
     "output_type": "stream",
     "text": [
      "Trial 30 Complete [00h 00m 38s]\n",
      "val_accuracy: 0.8894000053405762\n",
      "\n",
      "Best val_accuracy So Far: 0.8894000053405762\n",
      "Total elapsed time: 00h 08m 45s\n",
      "INFO:tensorflow:Oracle triggered exit\n"
     ]
    }
   ],
   "source": [
    "history = tuner.search(X_train, y_train, \n",
    "                       validation_data=[X_valid, y_valid], \n",
    "                       epochs=25)"
   ]
  },
  {
   "cell_type": "code",
   "execution_count": 74,
   "id": "2077be02",
   "metadata": {},
   "outputs": [],
   "source": [
    "# Get the optimal hyperparameters\n",
    "best_hps = tuner.get_best_hyperparameters(num_trials=1)[0]\n",
    "\n",
    "# print(f\"\"\"\n",
    "# The hyperparameter search is complete. The optimal number of layers is {best_hps.get('layers')}. The optimal number of units in the first densely-connected\n",
    "# layer is {best_hps.get('units')} and the optimal learning rate for the optimizer\n",
    "# is {best_hps.get('learning_rate')}.\n",
    "# \"\"\")"
   ]
  },
  {
   "cell_type": "code",
   "execution_count": 76,
   "id": "91184bb4",
   "metadata": {},
   "outputs": [],
   "source": [
    "model = tuner.hyp`ermodel.build(best_hps)"
   ]
  },
  {
   "cell_type": "code",
   "execution_count": 79,
   "id": "293af022",
   "metadata": {},
   "outputs": [
    {
     "name": "stdout",
     "output_type": "stream",
     "text": [
      "Model: \"sequential_1\"\n",
      "_________________________________________________________________\n",
      " Layer (type)                Output Shape              Param #   \n",
      "=================================================================\n",
      " flatten_1 (Flatten)         (None, 784)               0         \n",
      "                                                                 \n",
      " dense_3 (Dense)             (None, 60)                47100     \n",
      "                                                                 \n",
      " dense_4 (Dense)             (None, 60)                3660      \n",
      "                                                                 \n",
      " dense_5 (Dense)             (None, 10)                610       \n",
      "                                                                 \n",
      "=================================================================\n",
      "Total params: 51,370\n",
      "Trainable params: 51,370\n",
      "Non-trainable params: 0\n",
      "_________________________________________________________________\n"
     ]
    }
   ],
   "source": [
    "model.summary()"
   ]
  },
  {
   "cell_type": "code",
   "execution_count": 80,
   "id": "e779be12",
   "metadata": {},
   "outputs": [],
   "source": [
    "# early stopping\n",
    "patience = 5\n",
    "early_stopping = keras.callbacks.EarlyStopping(monitor='val_accuracy', patience=patience, min_delta=0.001)\n",
    "\n",
    "# setup callback\n",
    "log_dir = './tensorboard-logs/image-classifier-fashion-dataset/hp-tuning'\n",
    "tensorboard_cb = keras.callbacks.TensorBoard(log_dir)\n",
    "\n",
    "# initial_learning_rate * decay_rate ^ (step / decay_steps)\n",
    "schedule = tf.keras.optimizers.schedules.ExponentialDecay(\n",
    "    initial_learning_rate = 0.01, \n",
    "    decay_steps = 10, \n",
    "    decay_rate = 0.5, \n",
    "    staircase=True # staircase function, \n",
    ")\n",
    "lr_scheduler = keras.callbacks.LearningRateScheduler(schedule, verbose=1)"
   ]
  },
  {
   "cell_type": "code",
   "execution_count": 81,
   "id": "b6319d08",
   "metadata": {},
   "outputs": [
    {
     "name": "stdout",
     "output_type": "stream",
     "text": [
      "\n",
      "Epoch 1: LearningRateScheduler setting learning rate to 0.009999999776482582.\n",
      "Epoch 1/30\n",
      "1719/1719 [==============================] - 4s 3ms/step - loss: 0.3581 - accuracy: 0.8690 - val_loss: 0.3605 - val_accuracy: 0.8702 - lr: 0.0100\n",
      "\n",
      "Epoch 2: LearningRateScheduler setting learning rate to 0.009999999776482582.\n",
      "Epoch 2/30\n",
      "1719/1719 [==============================] - 4s 3ms/step - loss: 0.3393 - accuracy: 0.8756 - val_loss: 0.3306 - val_accuracy: 0.8800 - lr: 0.0100\n",
      "\n",
      "Epoch 3: LearningRateScheduler setting learning rate to 0.009999999776482582.\n",
      "Epoch 3/30\n",
      "1719/1719 [==============================] - 4s 2ms/step - loss: 0.3255 - accuracy: 0.8800 - val_loss: 0.3289 - val_accuracy: 0.8818 - lr: 0.0100\n",
      "\n",
      "Epoch 4: LearningRateScheduler setting learning rate to 0.009999999776482582.\n",
      "Epoch 4/30\n",
      "1719/1719 [==============================] - 4s 2ms/step - loss: 0.3135 - accuracy: 0.8846 - val_loss: 0.3192 - val_accuracy: 0.8808 - lr: 0.0100\n",
      "\n",
      "Epoch 5: LearningRateScheduler setting learning rate to 0.009999999776482582.\n",
      "Epoch 5/30\n",
      "1719/1719 [==============================] - 4s 2ms/step - loss: 0.3009 - accuracy: 0.8896 - val_loss: 0.3349 - val_accuracy: 0.8788 - lr: 0.0100\n",
      "\n",
      "Epoch 6: LearningRateScheduler setting learning rate to 0.009999999776482582.\n",
      "Epoch 6/30\n",
      "1719/1719 [==============================] - 3s 2ms/step - loss: 0.2914 - accuracy: 0.8920 - val_loss: 0.3454 - val_accuracy: 0.8736 - lr: 0.0100\n",
      "\n",
      "Epoch 7: LearningRateScheduler setting learning rate to 0.009999999776482582.\n",
      "Epoch 7/30\n",
      "1719/1719 [==============================] - 3s 2ms/step - loss: 0.2847 - accuracy: 0.8934 - val_loss: 0.3275 - val_accuracy: 0.8768 - lr: 0.0100\n",
      "\n",
      "Epoch 8: LearningRateScheduler setting learning rate to 0.009999999776482582.\n",
      "Epoch 8/30\n",
      "1719/1719 [==============================] - 4s 2ms/step - loss: 0.2776 - accuracy: 0.8959 - val_loss: 0.3199 - val_accuracy: 0.8844 - lr: 0.0100\n",
      "\n",
      "Epoch 9: LearningRateScheduler setting learning rate to 0.009999999776482582.\n",
      "Epoch 9/30\n",
      "1719/1719 [==============================] - 3s 2ms/step - loss: 0.2715 - accuracy: 0.8986 - val_loss: 0.3222 - val_accuracy: 0.8870 - lr: 0.0100\n",
      "\n",
      "Epoch 10: LearningRateScheduler setting learning rate to 0.009999999776482582.\n",
      "Epoch 10/30\n",
      "1719/1719 [==============================] - 4s 2ms/step - loss: 0.2657 - accuracy: 0.9008 - val_loss: 0.3118 - val_accuracy: 0.8854 - lr: 0.0100\n",
      "\n",
      "Epoch 11: LearningRateScheduler setting learning rate to 0.004999999888241291.\n",
      "Epoch 11/30\n",
      "1719/1719 [==============================] - 4s 2ms/step - loss: 0.2379 - accuracy: 0.9111 - val_loss: 0.3133 - val_accuracy: 0.8866 - lr: 0.0050\n",
      "\n",
      "Epoch 12: LearningRateScheduler setting learning rate to 0.004999999888241291.\n",
      "Epoch 12/30\n",
      "1719/1719 [==============================] - 4s 2ms/step - loss: 0.2342 - accuracy: 0.9131 - val_loss: 0.2942 - val_accuracy: 0.8896 - lr: 0.0050\n",
      "\n",
      "Epoch 13: LearningRateScheduler setting learning rate to 0.004999999888241291.\n",
      "Epoch 13/30\n",
      "1719/1719 [==============================] - 4s 2ms/step - loss: 0.2299 - accuracy: 0.9150 - val_loss: 0.3088 - val_accuracy: 0.8878 - lr: 0.0050\n",
      "\n",
      "Epoch 14: LearningRateScheduler setting learning rate to 0.004999999888241291.\n",
      "Epoch 14/30\n",
      "1719/1719 [==============================] - 4s 2ms/step - loss: 0.2263 - accuracy: 0.9160 - val_loss: 0.3116 - val_accuracy: 0.8848 - lr: 0.0050\n",
      "\n",
      "Epoch 15: LearningRateScheduler setting learning rate to 0.004999999888241291.\n",
      "Epoch 15/30\n",
      "1719/1719 [==============================] - 3s 2ms/step - loss: 0.2244 - accuracy: 0.9167 - val_loss: 0.3037 - val_accuracy: 0.8880 - lr: 0.0050\n",
      "\n",
      "Epoch 16: LearningRateScheduler setting learning rate to 0.004999999888241291.\n",
      "Epoch 16/30\n",
      "1719/1719 [==============================] - 4s 2ms/step - loss: 0.2203 - accuracy: 0.9178 - val_loss: 0.2924 - val_accuracy: 0.8944 - lr: 0.0050\n",
      "\n",
      "Epoch 17: LearningRateScheduler setting learning rate to 0.004999999888241291.\n",
      "Epoch 17/30\n",
      "1719/1719 [==============================] - 4s 2ms/step - loss: 0.2170 - accuracy: 0.9199 - val_loss: 0.3016 - val_accuracy: 0.8910 - lr: 0.0050\n",
      "\n",
      "Epoch 18: LearningRateScheduler setting learning rate to 0.004999999888241291.\n",
      "Epoch 18/30\n",
      "1719/1719 [==============================] - 4s 2ms/step - loss: 0.2131 - accuracy: 0.9198 - val_loss: 0.3026 - val_accuracy: 0.8930 - lr: 0.0050\n",
      "\n",
      "Epoch 19: LearningRateScheduler setting learning rate to 0.004999999888241291.\n",
      "Epoch 19/30\n",
      "1719/1719 [==============================] - 4s 2ms/step - loss: 0.2109 - accuracy: 0.9215 - val_loss: 0.2986 - val_accuracy: 0.8946 - lr: 0.0050\n",
      "\n",
      "Epoch 20: LearningRateScheduler setting learning rate to 0.004999999888241291.\n",
      "Epoch 20/30\n",
      "1719/1719 [==============================] - 3s 2ms/step - loss: 0.2092 - accuracy: 0.9225 - val_loss: 0.3000 - val_accuracy: 0.8916 - lr: 0.0050\n",
      "\n",
      "Epoch 21: LearningRateScheduler setting learning rate to 0.0024999999441206455.\n",
      "Epoch 21/30\n",
      "1719/1719 [==============================] - 4s 2ms/step - loss: 0.1946 - accuracy: 0.9290 - val_loss: 0.2955 - val_accuracy: 0.8940 - lr: 0.0025\n"
     ]
    }
   ],
   "source": [
    "history = model.fit(\n",
    "    X_train, \n",
    "    y_train, \n",
    "    epochs=epochs, \n",
    "    validation_data=(X_valid, y_valid),\n",
    "    callbacks=[lr_scheduler, early_stopping, tensorboard_cb],\n",
    ")"
   ]
  },
  {
   "cell_type": "markdown",
   "id": "ff26a470",
   "metadata": {},
   "source": [
    "## Dropout"
   ]
  },
  {
   "cell_type": "code",
   "execution_count": 33,
   "id": "cd016540",
   "metadata": {},
   "outputs": [],
   "source": [
    "log_dir = './tensorboard-logs/image-classifier-fashion-dataset/dropout'"
   ]
  },
  {
   "cell_type": "code",
   "execution_count": 34,
   "id": "d58c6452",
   "metadata": {},
   "outputs": [],
   "source": [
    "model = keras.models.Sequential()\n",
    "model.add(keras.layers.Flatten(input_shape=[28, 28])) # same as InputLayer\n",
    "model.add(keras.layers.Dense(60, activation=\"relu\"))\n",
    "model.add(keras.layers.Dropout(rate=0.2))\n",
    "model.add(keras.layers.Dense(60, activation=\"relu\"))\n",
    "model.add(keras.layers.Dropout(rate=0.2))\n",
    "model.add(keras.layers.Dense(10, activation=\"softmax\")) # softmax activation layer because the classes are exclusive, otherwise sigmoid would work"
   ]
  },
  {
   "cell_type": "code",
   "execution_count": 35,
   "id": "2deb958a",
   "metadata": {},
   "outputs": [],
   "source": [
    "# early stopping\n",
    "patience = 5\n",
    "early_stopping = keras.callbacks.EarlyStopping(monitor='val_accuracy', patience=patience, min_delta=0.001)\n",
    "\n",
    "# setup callback\n",
    "tensorboard_cb = keras.callbacks.TensorBoard(log_dir)\n",
    "\n",
    "# initial_learning_rate * decay_rate ^ (step / decay_steps)\n",
    "schedule = tf.keras.optimizers.schedules.ExponentialDecay(\n",
    "    initial_learning_rate = 0.1, \n",
    "    decay_steps = 5, \n",
    "    decay_rate = 0.5, \n",
    "    staircase=True # staircase function, \n",
    ")\n",
    "lr_scheduler = keras.callbacks.LearningRateScheduler(schedule, verbose=1)"
   ]
  },
  {
   "cell_type": "code",
   "execution_count": 36,
   "id": "29d09d7a",
   "metadata": {},
   "outputs": [],
   "source": [
    "# setup optimizer\n",
    "sgd = keras.optimizers.SGD(momentum=0.8)\n",
    "\n",
    "# compile\n",
    "model.compile(\n",
    "    loss=\"sparse_categorical_crossentropy\", # sparse labels\n",
    "    optimizer=sgd,\n",
    "    metrics=[\"accuracy\"]\n",
    ")"
   ]
  },
  {
   "cell_type": "code",
   "execution_count": 37,
   "id": "11815266",
   "metadata": {},
   "outputs": [
    {
     "name": "stdout",
     "output_type": "stream",
     "text": [
      "\n",
      "Epoch 1: LearningRateScheduler setting learning rate to 0.10000000149011612.\n",
      "Epoch 1/50\n",
      "1719/1719 [==============================] - 5s 2ms/step - loss: 0.7812 - accuracy: 0.7074 - val_loss: 0.6238 - val_accuracy: 0.7590 - lr: 0.1000\n",
      "\n",
      "Epoch 2: LearningRateScheduler setting learning rate to 0.10000000149011612.\n",
      "Epoch 2/50\n",
      "1719/1719 [==============================] - 4s 2ms/step - loss: 0.6556 - accuracy: 0.7632 - val_loss: 0.4911 - val_accuracy: 0.8332 - lr: 0.1000\n",
      "\n",
      "Epoch 3: LearningRateScheduler setting learning rate to 0.10000000149011612.\n",
      "Epoch 3/50\n",
      "1719/1719 [==============================] - 3s 2ms/step - loss: 0.6181 - accuracy: 0.7809 - val_loss: 0.4991 - val_accuracy: 0.8194 - lr: 0.1000\n",
      "\n",
      "Epoch 4: LearningRateScheduler setting learning rate to 0.10000000149011612.\n",
      "Epoch 4/50\n",
      "1719/1719 [==============================] - 4s 2ms/step - loss: 0.6034 - accuracy: 0.7856 - val_loss: 0.5089 - val_accuracy: 0.8272 - lr: 0.1000\n",
      "\n",
      "Epoch 5: LearningRateScheduler setting learning rate to 0.10000000149011612.\n",
      "Epoch 5/50\n",
      "1719/1719 [==============================] - 3s 2ms/step - loss: 0.5927 - accuracy: 0.7949 - val_loss: 0.5344 - val_accuracy: 0.8062 - lr: 0.1000\n",
      "\n",
      "Epoch 6: LearningRateScheduler setting learning rate to 0.05000000074505806.\n",
      "Epoch 6/50\n",
      "1719/1719 [==============================] - 3s 2ms/step - loss: 0.4999 - accuracy: 0.8248 - val_loss: 0.4069 - val_accuracy: 0.8568 - lr: 0.0500\n",
      "\n",
      "Epoch 7: LearningRateScheduler setting learning rate to 0.05000000074505806.\n",
      "Epoch 7/50\n",
      "1719/1719 [==============================] - 3s 2ms/step - loss: 0.4806 - accuracy: 0.8317 - val_loss: 0.4075 - val_accuracy: 0.8520 - lr: 0.0500\n",
      "\n",
      "Epoch 8: LearningRateScheduler setting learning rate to 0.05000000074505806.\n",
      "Epoch 8/50\n",
      "1719/1719 [==============================] - 3s 2ms/step - loss: 0.4693 - accuracy: 0.8343 - val_loss: 0.3910 - val_accuracy: 0.8572 - lr: 0.0500\n",
      "\n",
      "Epoch 9: LearningRateScheduler setting learning rate to 0.05000000074505806.\n",
      "Epoch 9/50\n",
      "1719/1719 [==============================] - 4s 2ms/step - loss: 0.4631 - accuracy: 0.8343 - val_loss: 0.4111 - val_accuracy: 0.8594 - lr: 0.0500\n",
      "\n",
      "Epoch 10: LearningRateScheduler setting learning rate to 0.05000000074505806.\n",
      "Epoch 10/50\n",
      "1719/1719 [==============================] - 3s 2ms/step - loss: 0.4570 - accuracy: 0.8406 - val_loss: 0.3837 - val_accuracy: 0.8662 - lr: 0.0500\n",
      "\n",
      "Epoch 11: LearningRateScheduler setting learning rate to 0.02500000037252903.\n",
      "Epoch 11/50\n",
      "1719/1719 [==============================] - 3s 2ms/step - loss: 0.4153 - accuracy: 0.8529 - val_loss: 0.3778 - val_accuracy: 0.8692 - lr: 0.0250\n",
      "\n",
      "Epoch 12: LearningRateScheduler setting learning rate to 0.02500000037252903.\n",
      "Epoch 12/50\n",
      "1719/1719 [==============================] - 4s 2ms/step - loss: 0.4106 - accuracy: 0.8535 - val_loss: 0.3637 - val_accuracy: 0.8696 - lr: 0.0250\n",
      "\n",
      "Epoch 13: LearningRateScheduler setting learning rate to 0.02500000037252903.\n",
      "Epoch 13/50\n",
      "1719/1719 [==============================] - 4s 2ms/step - loss: 0.4037 - accuracy: 0.8552 - val_loss: 0.3585 - val_accuracy: 0.8698 - lr: 0.0250\n",
      "\n",
      "Epoch 14: LearningRateScheduler setting learning rate to 0.02500000037252903.\n",
      "Epoch 14/50\n",
      "1719/1719 [==============================] - 4s 2ms/step - loss: 0.4030 - accuracy: 0.8547 - val_loss: 0.3642 - val_accuracy: 0.8670 - lr: 0.0250\n",
      "\n",
      "Epoch 15: LearningRateScheduler setting learning rate to 0.02500000037252903.\n",
      "Epoch 15/50\n",
      "1719/1719 [==============================] - 3s 2ms/step - loss: 0.3940 - accuracy: 0.8587 - val_loss: 0.3598 - val_accuracy: 0.8744 - lr: 0.0250\n",
      "\n",
      "Epoch 16: LearningRateScheduler setting learning rate to 0.012500000186264515.\n",
      "Epoch 16/50\n",
      "1719/1719 [==============================] - 3s 2ms/step - loss: 0.3820 - accuracy: 0.8620 - val_loss: 0.3506 - val_accuracy: 0.8720 - lr: 0.0125\n",
      "\n",
      "Epoch 17: LearningRateScheduler setting learning rate to 0.012500000186264515.\n",
      "Epoch 17/50\n",
      "1719/1719 [==============================] - 3s 2ms/step - loss: 0.3784 - accuracy: 0.8624 - val_loss: 0.3511 - val_accuracy: 0.8732 - lr: 0.0125\n",
      "\n",
      "Epoch 18: LearningRateScheduler setting learning rate to 0.012500000186264515.\n",
      "Epoch 18/50\n",
      "1719/1719 [==============================] - 4s 2ms/step - loss: 0.3769 - accuracy: 0.8630 - val_loss: 0.3496 - val_accuracy: 0.8752 - lr: 0.0125\n",
      "\n",
      "Epoch 19: LearningRateScheduler setting learning rate to 0.012500000186264515.\n",
      "Epoch 19/50\n",
      "1719/1719 [==============================] - 6s 4ms/step - loss: 0.3708 - accuracy: 0.8651 - val_loss: 0.3453 - val_accuracy: 0.8762 - lr: 0.0125\n",
      "\n",
      "Epoch 20: LearningRateScheduler setting learning rate to 0.012500000186264515.\n",
      "Epoch 20/50\n",
      "1719/1719 [==============================] - 4s 2ms/step - loss: 0.3695 - accuracy: 0.8658 - val_loss: 0.3443 - val_accuracy: 0.8766 - lr: 0.0125\n",
      "\n",
      "Epoch 21: LearningRateScheduler setting learning rate to 0.0062500000931322575.\n",
      "Epoch 21/50\n",
      "1719/1719 [==============================] - 4s 2ms/step - loss: 0.3644 - accuracy: 0.8679 - val_loss: 0.3447 - val_accuracy: 0.8752 - lr: 0.0063\n",
      "\n",
      "Epoch 22: LearningRateScheduler setting learning rate to 0.0062500000931322575.\n",
      "Epoch 22/50\n",
      "1719/1719 [==============================] - 4s 2ms/step - loss: 0.3618 - accuracy: 0.8683 - val_loss: 0.3418 - val_accuracy: 0.8754 - lr: 0.0063\n",
      "\n",
      "Epoch 23: LearningRateScheduler setting learning rate to 0.0062500000931322575.\n",
      "Epoch 23/50\n",
      "1719/1719 [==============================] - 4s 2ms/step - loss: 0.3581 - accuracy: 0.8704 - val_loss: 0.3422 - val_accuracy: 0.8772 - lr: 0.0063\n",
      "\n",
      "Epoch 24: LearningRateScheduler setting learning rate to 0.0062500000931322575.\n",
      "Epoch 24/50\n",
      "1719/1719 [==============================] - 4s 2ms/step - loss: 0.3575 - accuracy: 0.8685 - val_loss: 0.3390 - val_accuracy: 0.8774 - lr: 0.0063\n",
      "\n",
      "Epoch 25: LearningRateScheduler setting learning rate to 0.0062500000931322575.\n",
      "Epoch 25/50\n",
      "1719/1719 [==============================] - 4s 2ms/step - loss: 0.3564 - accuracy: 0.8707 - val_loss: 0.3411 - val_accuracy: 0.8786 - lr: 0.0063\n",
      "\n",
      "Epoch 26: LearningRateScheduler setting learning rate to 0.0031250000465661287.\n",
      "Epoch 26/50\n",
      "1719/1719 [==============================] - 3s 2ms/step - loss: 0.3533 - accuracy: 0.8722 - val_loss: 0.3379 - val_accuracy: 0.8774 - lr: 0.0031\n",
      "\n",
      "Epoch 27: LearningRateScheduler setting learning rate to 0.0031250000465661287.\n",
      "Epoch 27/50\n",
      "1719/1719 [==============================] - 4s 2ms/step - loss: 0.3476 - accuracy: 0.8718 - val_loss: 0.3347 - val_accuracy: 0.8796 - lr: 0.0031\n",
      "\n",
      "Epoch 28: LearningRateScheduler setting learning rate to 0.0031250000465661287.\n",
      "Epoch 28/50\n",
      "1719/1719 [==============================] - 3s 2ms/step - loss: 0.3513 - accuracy: 0.8711 - val_loss: 0.3338 - val_accuracy: 0.8784 - lr: 0.0031\n",
      "\n",
      "Epoch 29: LearningRateScheduler setting learning rate to 0.0031250000465661287.\n",
      "Epoch 29/50\n",
      "1719/1719 [==============================] - 3s 2ms/step - loss: 0.3465 - accuracy: 0.8736 - val_loss: 0.3363 - val_accuracy: 0.8792 - lr: 0.0031\n",
      "\n",
      "Epoch 30: LearningRateScheduler setting learning rate to 0.0031250000465661287.\n",
      "Epoch 30/50\n",
      "1719/1719 [==============================] - 5s 3ms/step - loss: 0.3482 - accuracy: 0.8722 - val_loss: 0.3361 - val_accuracy: 0.8780 - lr: 0.0031\n"
     ]
    }
   ],
   "source": [
    "history = model.fit(\n",
    "    X_train, \n",
    "    y_train, \n",
    "    epochs=50, \n",
    "    validation_data=(X_valid, y_valid),\n",
    "    callbacks=[lr_scheduler, early_stopping, tensorboard_cb],\n",
    ")"
   ]
  },
  {
   "cell_type": "markdown",
   "id": "4de49134",
   "metadata": {},
   "source": [
    "## L2 Regularization"
   ]
  },
  {
   "cell_type": "code",
   "execution_count": 28,
   "id": "ce91cfe2",
   "metadata": {},
   "outputs": [],
   "source": [
    "log_dir = './tensorboard-logs/image-classifier-fashion-dataset/sgd-l2-dropout'"
   ]
  },
  {
   "cell_type": "code",
   "execution_count": 29,
   "id": "a83802f5",
   "metadata": {},
   "outputs": [],
   "source": [
    "model = keras.models.Sequential()\n",
    "model.add(keras.layers.Flatten(input_shape=[28, 28])) # same as InputLayer\n",
    "model.add(keras.layers.Dense(60, activation=\"relu\", kernel_regularizer=keras.regularizers.l2(0.01)))\n",
    "model.add(keras.layers.Dropout(rate=0.2))\n",
    "model.add(keras.layers.Dense(60, activation=\"relu\", kernel_regularizer=keras.regularizers.l2(0.01)))\n",
    "model.add(keras.layers.Dropout(rate=0.2))\n",
    "model.add(keras.layers.Dense(10, activation=\"softmax\")) # softmax activation layer because the classes are exclusive, otherwise sigmoid would work"
   ]
  },
  {
   "cell_type": "code",
   "execution_count": 30,
   "id": "903627ae",
   "metadata": {},
   "outputs": [],
   "source": [
    "# early stopping\n",
    "patience = 5\n",
    "early_stopping = keras.callbacks.EarlyStopping(monitor='val_accuracy', patience=patience, min_delta=0.001)\n",
    "\n",
    "# setup callback\n",
    "tensorboard_cb = keras.callbacks.TensorBoard(log_dir)\n",
    "\n",
    "# initial_learning_rate * decay_rate ^ (step / decay_steps)\n",
    "schedule = tf.keras.optimizers.schedules.ExponentialDecay(\n",
    "    initial_learning_rate = 0.1, \n",
    "    decay_steps = 5, \n",
    "    decay_rate = 0.5, \n",
    "    staircase=True # staircase function, \n",
    ")\n",
    "lr_scheduler = keras.callbacks.LearningRateScheduler(schedule, verbose=1)"
   ]
  },
  {
   "cell_type": "code",
   "execution_count": 31,
   "id": "076a035d",
   "metadata": {},
   "outputs": [],
   "source": [
    "# setup optimizer\n",
    "optimizer = keras.optimizers.SGD(momentum=0.8)\n",
    "\n",
    "# compile\n",
    "model.compile(\n",
    "    loss=\"sparse_categorical_crossentropy\", # sparse labels\n",
    "    optimizer=optimizer,\n",
    "    metrics=[\"accuracy\"]\n",
    ")"
   ]
  },
  {
   "cell_type": "code",
   "execution_count": 32,
   "id": "f26908a0",
   "metadata": {},
   "outputs": [
    {
     "name": "stdout",
     "output_type": "stream",
     "text": [
      "\n",
      "Epoch 1: LearningRateScheduler setting learning rate to 0.10000000149011612.\n",
      "Epoch 1/50\n",
      "1719/1719 [==============================] - 5s 2ms/step - loss: 1.3784 - accuracy: 0.5842 - val_loss: 1.1494 - val_accuracy: 0.6586 - lr: 0.1000\n",
      "\n",
      "Epoch 2: LearningRateScheduler setting learning rate to 0.10000000149011612.\n",
      "Epoch 2/50\n",
      "1719/1719 [==============================] - 4s 3ms/step - loss: 1.4184 - accuracy: 0.5361 - val_loss: 1.2130 - val_accuracy: 0.6184 - lr: 0.1000\n",
      "\n",
      "Epoch 3: LearningRateScheduler setting learning rate to 0.10000000149011612.\n",
      "Epoch 3/50\n",
      "1719/1719 [==============================] - 4s 2ms/step - loss: 1.4840 - accuracy: 0.4933 - val_loss: 1.3117 - val_accuracy: 0.5528 - lr: 0.1000\n",
      "\n",
      "Epoch 4: LearningRateScheduler setting learning rate to 0.10000000149011612.\n",
      "Epoch 4/50\n",
      "1719/1719 [==============================] - 8s 4ms/step - loss: 1.5200 - accuracy: 0.4706 - val_loss: 1.2294 - val_accuracy: 0.5724 - lr: 0.1000\n",
      "\n",
      "Epoch 5: LearningRateScheduler setting learning rate to 0.10000000149011612.\n",
      "Epoch 5/50\n",
      "1719/1719 [==============================] - 4s 2ms/step - loss: 1.5506 - accuracy: 0.4200 - val_loss: 1.3724 - val_accuracy: 0.4594 - lr: 0.1000\n",
      "\n",
      "Epoch 6: LearningRateScheduler setting learning rate to 0.05000000074505806.\n",
      "Epoch 6/50\n",
      "1719/1719 [==============================] - 6s 3ms/step - loss: 1.3888 - accuracy: 0.4656 - val_loss: 1.1748 - val_accuracy: 0.5844 - lr: 0.0500\n"
     ]
    }
   ],
   "source": [
    "history = model.fit(\n",
    "    X_train, \n",
    "    y_train, \n",
    "    epochs=50, \n",
    "    validation_data=(X_valid, y_valid),\n",
    "    callbacks=[lr_scheduler, early_stopping, tensorboard_cb],\n",
    ")"
   ]
  },
  {
   "cell_type": "markdown",
   "id": "6e0a7489",
   "metadata": {},
   "source": [
    "## Original Model + Dropout"
   ]
  },
  {
   "cell_type": "code",
   "execution_count": 45,
   "id": "40fd29a3",
   "metadata": {},
   "outputs": [],
   "source": [
    "log_dir = './tensorboard-logs/image-classifier-fashion-dataset/dropout'\n",
    "tensorboard_cb = keras.callbacks.TensorBoard(log_dir)"
   ]
  },
  {
   "cell_type": "code",
   "execution_count": 46,
   "id": "fa0b7023",
   "metadata": {},
   "outputs": [],
   "source": [
    "model = keras.models.Sequential()\n",
    "model.add(keras.layers.Flatten(input_shape=[28, 28])) # same as InputLayer\n",
    "model.add(keras.layers.Dense(300, activation=\"relu\"))\n",
    "model.add(keras.layers.Dropout(0.1))\n",
    "model.add(keras.layers.Dense(100, activation=\"relu\"))\n",
    "model.add(keras.layers.Dropout(0.1))\n",
    "model.add(keras.layers.Dense(10, activation=\"softmax\")) # softmax activation layer because the classes are exclusive, otherwise sigmoid would work"
   ]
  },
  {
   "cell_type": "code",
   "execution_count": 47,
   "id": "550aa649",
   "metadata": {},
   "outputs": [],
   "source": [
    "# setup optimizer\n",
    "optimizer = keras.optimizers.SGD(momentum=0.8)\n",
    "\n",
    "# compile\n",
    "model.compile(\n",
    "    loss=\"sparse_categorical_crossentropy\", # sparse labels\n",
    "    optimizer=optimizer,\n",
    "    metrics=[\"accuracy\"]\n",
    ")"
   ]
  },
  {
   "cell_type": "code",
   "execution_count": 48,
   "id": "c1ec967c",
   "metadata": {},
   "outputs": [
    {
     "name": "stdout",
     "output_type": "stream",
     "text": [
      "\n",
      "Epoch 1: LearningRateScheduler setting learning rate to 0.10000000149011612.\n",
      "Epoch 1/50\n",
      "1719/1719 [==============================] - 7s 4ms/step - loss: 0.6109 - accuracy: 0.7749 - val_loss: 0.4459 - val_accuracy: 0.8326 - lr: 0.1000\n",
      "\n",
      "Epoch 2: LearningRateScheduler setting learning rate to 0.10000000149011612.\n",
      "Epoch 2/50\n",
      "1719/1719 [==============================] - 6s 3ms/step - loss: 0.4917 - accuracy: 0.8201 - val_loss: 0.4526 - val_accuracy: 0.8372 - lr: 0.1000\n",
      "\n",
      "Epoch 3: LearningRateScheduler setting learning rate to 0.10000000149011612.\n",
      "Epoch 3/50\n",
      "1719/1719 [==============================] - 6s 3ms/step - loss: 0.4625 - accuracy: 0.8317 - val_loss: 0.5320 - val_accuracy: 0.8320 - lr: 0.1000\n",
      "\n",
      "Epoch 4: LearningRateScheduler setting learning rate to 0.10000000149011612.\n",
      "Epoch 4/50\n",
      "1719/1719 [==============================] - 6s 4ms/step - loss: 0.4335 - accuracy: 0.8444 - val_loss: 0.3898 - val_accuracy: 0.8664 - lr: 0.1000\n",
      "\n",
      "Epoch 5: LearningRateScheduler setting learning rate to 0.10000000149011612.\n",
      "Epoch 5/50\n",
      "1719/1719 [==============================] - 6s 3ms/step - loss: 0.4157 - accuracy: 0.8499 - val_loss: 0.4006 - val_accuracy: 0.8542 - lr: 0.1000\n",
      "\n",
      "Epoch 6: LearningRateScheduler setting learning rate to 0.05000000074505806.\n",
      "Epoch 6/50\n",
      "1719/1719 [==============================] - 6s 4ms/step - loss: 0.3440 - accuracy: 0.8733 - val_loss: 0.3393 - val_accuracy: 0.8728 - lr: 0.0500\n",
      "\n",
      "Epoch 7: LearningRateScheduler setting learning rate to 0.05000000074505806.\n",
      "Epoch 7/50\n",
      "1719/1719 [==============================] - 6s 3ms/step - loss: 0.3289 - accuracy: 0.8766 - val_loss: 0.3289 - val_accuracy: 0.8784 - lr: 0.0500\n",
      "\n",
      "Epoch 8: LearningRateScheduler setting learning rate to 0.05000000074505806.\n",
      "Epoch 8/50\n",
      "1719/1719 [==============================] - 6s 4ms/step - loss: 0.3217 - accuracy: 0.8819 - val_loss: 0.3511 - val_accuracy: 0.8696 - lr: 0.0500\n",
      "\n",
      "Epoch 9: LearningRateScheduler setting learning rate to 0.05000000074505806.\n",
      "Epoch 9/50\n",
      "1719/1719 [==============================] - 5s 3ms/step - loss: 0.3135 - accuracy: 0.8835 - val_loss: 0.3238 - val_accuracy: 0.8798 - lr: 0.0500\n",
      "\n",
      "Epoch 10: LearningRateScheduler setting learning rate to 0.05000000074505806.\n",
      "Epoch 10/50\n",
      "1719/1719 [==============================] - 6s 3ms/step - loss: 0.3054 - accuracy: 0.8860 - val_loss: 0.3285 - val_accuracy: 0.8784 - lr: 0.0500\n",
      "\n",
      "Epoch 11: LearningRateScheduler setting learning rate to 0.02500000037252903.\n",
      "Epoch 11/50\n",
      "1719/1719 [==============================] - 5s 3ms/step - loss: 0.2743 - accuracy: 0.8964 - val_loss: 0.2953 - val_accuracy: 0.8936 - lr: 0.0250\n",
      "\n",
      "Epoch 12: LearningRateScheduler setting learning rate to 0.02500000037252903.\n",
      "Epoch 12/50\n",
      "1719/1719 [==============================] - 5s 3ms/step - loss: 0.2684 - accuracy: 0.8985 - val_loss: 0.2968 - val_accuracy: 0.8916 - lr: 0.0250\n",
      "\n",
      "Epoch 13: LearningRateScheduler setting learning rate to 0.02500000037252903.\n",
      "Epoch 13/50\n",
      "1719/1719 [==============================] - 5s 3ms/step - loss: 0.2646 - accuracy: 0.8998 - val_loss: 0.2943 - val_accuracy: 0.8948 - lr: 0.0250\n",
      "\n",
      "Epoch 14: LearningRateScheduler setting learning rate to 0.02500000037252903.\n",
      "Epoch 14/50\n",
      "1719/1719 [==============================] - 7s 4ms/step - loss: 0.2607 - accuracy: 0.9009 - val_loss: 0.3027 - val_accuracy: 0.8940 - lr: 0.0250\n",
      "\n",
      "Epoch 15: LearningRateScheduler setting learning rate to 0.02500000037252903.\n",
      "Epoch 15/50\n",
      "1719/1719 [==============================] - 6s 4ms/step - loss: 0.2571 - accuracy: 0.9019 - val_loss: 0.3031 - val_accuracy: 0.8894 - lr: 0.0250\n",
      "\n",
      "Epoch 16: LearningRateScheduler setting learning rate to 0.012500000186264515.\n",
      "Epoch 16/50\n",
      "1719/1719 [==============================] - 6s 4ms/step - loss: 0.2394 - accuracy: 0.9085 - val_loss: 0.2861 - val_accuracy: 0.8994 - lr: 0.0125\n",
      "\n",
      "Epoch 17: LearningRateScheduler setting learning rate to 0.012500000186264515.\n",
      "Epoch 17/50\n",
      "1719/1719 [==============================] - 5s 3ms/step - loss: 0.2351 - accuracy: 0.9095 - val_loss: 0.2851 - val_accuracy: 0.9004 - lr: 0.0125\n",
      "\n",
      "Epoch 18: LearningRateScheduler setting learning rate to 0.012500000186264515.\n",
      "Epoch 18/50\n",
      "1719/1719 [==============================] - 6s 4ms/step - loss: 0.2341 - accuracy: 0.9103 - val_loss: 0.2885 - val_accuracy: 0.8998 - lr: 0.0125\n",
      "\n",
      "Epoch 19: LearningRateScheduler setting learning rate to 0.012500000186264515.\n",
      "Epoch 19/50\n",
      "1719/1719 [==============================] - 6s 3ms/step - loss: 0.2313 - accuracy: 0.9101 - val_loss: 0.2868 - val_accuracy: 0.8992 - lr: 0.0125\n",
      "\n",
      "Epoch 20: LearningRateScheduler setting learning rate to 0.012500000186264515.\n",
      "Epoch 20/50\n",
      "1719/1719 [==============================] - 7s 4ms/step - loss: 0.2296 - accuracy: 0.9117 - val_loss: 0.2930 - val_accuracy: 0.8934 - lr: 0.0125\n",
      "\n",
      "Epoch 21: LearningRateScheduler setting learning rate to 0.0062500000931322575.\n",
      "Epoch 21/50\n",
      "1719/1719 [==============================] - 5s 3ms/step - loss: 0.2198 - accuracy: 0.9155 - val_loss: 0.2836 - val_accuracy: 0.9026 - lr: 0.0063\n",
      "\n",
      "Epoch 22: LearningRateScheduler setting learning rate to 0.0062500000931322575.\n",
      "Epoch 22/50\n",
      "1719/1719 [==============================] - 6s 3ms/step - loss: 0.2171 - accuracy: 0.9161 - val_loss: 0.2802 - val_accuracy: 0.9028 - lr: 0.0063\n",
      "\n",
      "Epoch 23: LearningRateScheduler setting learning rate to 0.0062500000931322575.\n",
      "Epoch 23/50\n",
      "1719/1719 [==============================] - 6s 4ms/step - loss: 0.2164 - accuracy: 0.9170 - val_loss: 0.2805 - val_accuracy: 0.9034 - lr: 0.0063\n",
      "\n",
      "Epoch 24: LearningRateScheduler setting learning rate to 0.0062500000931322575.\n",
      "Epoch 24/50\n",
      "1719/1719 [==============================] - 6s 4ms/step - loss: 0.2145 - accuracy: 0.9179 - val_loss: 0.2869 - val_accuracy: 0.9014 - lr: 0.0063\n",
      "\n",
      "Epoch 25: LearningRateScheduler setting learning rate to 0.0062500000931322575.\n",
      "Epoch 25/50\n",
      "1719/1719 [==============================] - 5s 3ms/step - loss: 0.2135 - accuracy: 0.9177 - val_loss: 0.2826 - val_accuracy: 0.9000 - lr: 0.0063\n",
      "\n",
      "Epoch 26: LearningRateScheduler setting learning rate to 0.0031250000465661287.\n",
      "Epoch 26/50\n",
      "1719/1719 [==============================] - 6s 3ms/step - loss: 0.2089 - accuracy: 0.9196 - val_loss: 0.2816 - val_accuracy: 0.9028 - lr: 0.0031\n"
     ]
    }
   ],
   "source": [
    "history = model.fit(\n",
    "    X_train, \n",
    "    y_train, \n",
    "    epochs=50, \n",
    "    validation_data=(X_valid, y_valid),\n",
    "    callbacks=[lr_scheduler, early_stopping, tensorboard_cb],\n",
    ")"
   ]
  },
  {
   "cell_type": "markdown",
   "id": "3d0efb71",
   "metadata": {},
   "source": [
    "## Original Model + Dropout + l2"
   ]
  },
  {
   "cell_type": "code",
   "execution_count": 60,
   "id": "839f3019",
   "metadata": {},
   "outputs": [],
   "source": [
    "log_dir = './tensorboard-logs/image-classifier-fashion-dataset/l2'\n",
    "tensorboard_cb = keras.callbacks.TensorBoard(log_dir)"
   ]
  },
  {
   "cell_type": "code",
   "execution_count": 61,
   "id": "7ff5d5ce",
   "metadata": {},
   "outputs": [],
   "source": [
    "model = keras.models.Sequential()\n",
    "model.add(keras.layers.Flatten(input_shape=[28, 28])) # same as InputLayer\n",
    "model.add(keras.layers.Dense(300, activation=\"relu\", kernel_regularizer=keras.regularizers.l2(0.01)))\n",
    "model.add(keras.layers.Dense(100, activation=\"relu\", kernel_regularizer=keras.regularizers.l2(0.01)))\n",
    "model.add(keras.layers.Dense(10, activation=\"softmax\")) # softmax activation layer because the classes are exclusive, otherwise sigmoid would work"
   ]
  },
  {
   "cell_type": "code",
   "execution_count": 62,
   "id": "75d6f31e",
   "metadata": {},
   "outputs": [],
   "source": [
    "# setup optimizer\n",
    "optimizer = keras.optimizers.SGD(momentum=0.8)\n",
    "\n",
    "# compile\n",
    "model.compile(\n",
    "    loss=\"sparse_categorical_crossentropy\", # sparse labels\n",
    "    optimizer=optimizer,\n",
    "    metrics=[\"accuracy\"]\n",
    ")"
   ]
  },
  {
   "cell_type": "code",
   "execution_count": 63,
   "id": "25232a0b",
   "metadata": {},
   "outputs": [
    {
     "name": "stdout",
     "output_type": "stream",
     "text": [
      "\n",
      "Epoch 1: LearningRateScheduler setting learning rate to 0.10000000149011612.\n",
      "Epoch 1/50\n",
      "1719/1719 [==============================] - 8s 4ms/step - loss: 1.2223 - accuracy: 0.7027 - val_loss: 1.0489 - val_accuracy: 0.6776 - lr: 0.1000\n",
      "\n",
      "Epoch 2: LearningRateScheduler setting learning rate to 0.10000000149011612.\n",
      "Epoch 2/50\n",
      "1719/1719 [==============================] - 9s 5ms/step - loss: 1.1012 - accuracy: 0.6853 - val_loss: 1.0065 - val_accuracy: 0.7286 - lr: 0.1000\n",
      "\n",
      "Epoch 3: LearningRateScheduler setting learning rate to 0.10000000149011612.\n",
      "Epoch 3/50\n",
      "1719/1719 [==============================] - 7s 4ms/step - loss: 1.0741 - accuracy: 0.6827 - val_loss: 1.1050 - val_accuracy: 0.7050 - lr: 0.1000\n",
      "\n",
      "Epoch 4: LearningRateScheduler setting learning rate to 0.10000000149011612.\n",
      "Epoch 4/50\n",
      "1719/1719 [==============================] - 6s 3ms/step - loss: 1.0796 - accuracy: 0.6823 - val_loss: 1.1051 - val_accuracy: 0.6774 - lr: 0.1000\n",
      "\n",
      "Epoch 5: LearningRateScheduler setting learning rate to 0.10000000149011612.\n",
      "Epoch 5/50\n",
      "1719/1719 [==============================] - 6s 4ms/step - loss: 1.0604 - accuracy: 0.6950 - val_loss: 0.9409 - val_accuracy: 0.7440 - lr: 0.1000\n",
      "\n",
      "Epoch 6: LearningRateScheduler setting learning rate to 0.10000000149011612.\n",
      "Epoch 6/50\n",
      "1719/1719 [==============================] - 5s 3ms/step - loss: 1.0586 - accuracy: 0.6924 - val_loss: 1.1925 - val_accuracy: 0.6722 - lr: 0.1000\n",
      "\n",
      "Epoch 7: LearningRateScheduler setting learning rate to 0.10000000149011612.\n",
      "Epoch 7/50\n",
      "1719/1719 [==============================] - 6s 4ms/step - loss: 1.0674 - accuracy: 0.6900 - val_loss: 0.8794 - val_accuracy: 0.7332 - lr: 0.1000\n",
      "\n",
      "Epoch 8: LearningRateScheduler setting learning rate to 0.10000000149011612.\n",
      "Epoch 8/50\n",
      "1719/1719 [==============================] - 7s 4ms/step - loss: 1.0903 - accuracy: 0.6835 - val_loss: 0.9805 - val_accuracy: 0.7188 - lr: 0.1000\n",
      "\n",
      "Epoch 9: LearningRateScheduler setting learning rate to 0.10000000149011612.\n",
      "Epoch 9/50\n",
      "1719/1719 [==============================] - 6s 3ms/step - loss: 1.0804 - accuracy: 0.6841 - val_loss: 1.1433 - val_accuracy: 0.6746 - lr: 0.1000\n",
      "\n",
      "Epoch 10: LearningRateScheduler setting learning rate to 0.10000000149011612.\n",
      "Epoch 10/50\n",
      "1120/1719 [==================>...........] - ETA: 2s - loss: 1.0690 - accuracy: 0.6924"
     ]
    },
    {
     "ename": "KeyboardInterrupt",
     "evalue": "",
     "output_type": "error",
     "traceback": [
      "\u001b[0;31m---------------------------------------------------------------------------\u001b[0m",
      "\u001b[0;31mKeyboardInterrupt\u001b[0m                         Traceback (most recent call last)",
      "\u001b[0;32m/var/folders/m8/33r7dt1137z8gq570nf7jt6m0000gn/T/ipykernel_2972/3584043544.py\u001b[0m in \u001b[0;36m<module>\u001b[0;34m\u001b[0m\n\u001b[1;32m      4\u001b[0m     \u001b[0mepochs\u001b[0m\u001b[0;34m=\u001b[0m\u001b[0;36m50\u001b[0m\u001b[0;34m,\u001b[0m\u001b[0;34m\u001b[0m\u001b[0;34m\u001b[0m\u001b[0m\n\u001b[1;32m      5\u001b[0m     \u001b[0mvalidation_data\u001b[0m\u001b[0;34m=\u001b[0m\u001b[0;34m(\u001b[0m\u001b[0mX_valid\u001b[0m\u001b[0;34m,\u001b[0m \u001b[0my_valid\u001b[0m\u001b[0;34m)\u001b[0m\u001b[0;34m,\u001b[0m\u001b[0;34m\u001b[0m\u001b[0;34m\u001b[0m\u001b[0m\n\u001b[0;32m----> 6\u001b[0;31m     \u001b[0mcallbacks\u001b[0m\u001b[0;34m=\u001b[0m\u001b[0;34m[\u001b[0m\u001b[0mlr_scheduler\u001b[0m\u001b[0;34m,\u001b[0m \u001b[0mearly_stopping\u001b[0m\u001b[0;34m,\u001b[0m \u001b[0mtensorboard_cb\u001b[0m\u001b[0;34m]\u001b[0m\u001b[0;34m,\u001b[0m\u001b[0;34m\u001b[0m\u001b[0;34m\u001b[0m\u001b[0m\n\u001b[0m\u001b[1;32m      7\u001b[0m )\n",
      "\u001b[0;32m~/Documents/Documents - Nathan’s MacBook Pro/data-science/oreilly-hands-on-machine-learning/venv/lib/python3.7/site-packages/keras/utils/traceback_utils.py\u001b[0m in \u001b[0;36merror_handler\u001b[0;34m(*args, **kwargs)\u001b[0m\n\u001b[1;32m     62\u001b[0m     \u001b[0mfiltered_tb\u001b[0m \u001b[0;34m=\u001b[0m \u001b[0;32mNone\u001b[0m\u001b[0;34m\u001b[0m\u001b[0;34m\u001b[0m\u001b[0m\n\u001b[1;32m     63\u001b[0m     \u001b[0;32mtry\u001b[0m\u001b[0;34m:\u001b[0m\u001b[0;34m\u001b[0m\u001b[0;34m\u001b[0m\u001b[0m\n\u001b[0;32m---> 64\u001b[0;31m       \u001b[0;32mreturn\u001b[0m \u001b[0mfn\u001b[0m\u001b[0;34m(\u001b[0m\u001b[0;34m*\u001b[0m\u001b[0margs\u001b[0m\u001b[0;34m,\u001b[0m \u001b[0;34m**\u001b[0m\u001b[0mkwargs\u001b[0m\u001b[0;34m)\u001b[0m\u001b[0;34m\u001b[0m\u001b[0;34m\u001b[0m\u001b[0m\n\u001b[0m\u001b[1;32m     65\u001b[0m     \u001b[0;32mexcept\u001b[0m \u001b[0mException\u001b[0m \u001b[0;32mas\u001b[0m \u001b[0me\u001b[0m\u001b[0;34m:\u001b[0m  \u001b[0;31m# pylint: disable=broad-except\u001b[0m\u001b[0;34m\u001b[0m\u001b[0;34m\u001b[0m\u001b[0m\n\u001b[1;32m     66\u001b[0m       \u001b[0mfiltered_tb\u001b[0m \u001b[0;34m=\u001b[0m \u001b[0m_process_traceback_frames\u001b[0m\u001b[0;34m(\u001b[0m\u001b[0me\u001b[0m\u001b[0;34m.\u001b[0m\u001b[0m__traceback__\u001b[0m\u001b[0;34m)\u001b[0m\u001b[0;34m\u001b[0m\u001b[0;34m\u001b[0m\u001b[0m\n",
      "\u001b[0;32m~/Documents/Documents - Nathan’s MacBook Pro/data-science/oreilly-hands-on-machine-learning/venv/lib/python3.7/site-packages/keras/engine/training.py\u001b[0m in \u001b[0;36mfit\u001b[0;34m(self, x, y, batch_size, epochs, verbose, callbacks, validation_split, validation_data, shuffle, class_weight, sample_weight, initial_epoch, steps_per_epoch, validation_steps, validation_batch_size, validation_freq, max_queue_size, workers, use_multiprocessing)\u001b[0m\n\u001b[1;32m   1412\u001b[0m               \u001b[0mlogs\u001b[0m \u001b[0;34m=\u001b[0m \u001b[0mtmp_logs\u001b[0m  \u001b[0;31m# No error, now safe to assign to logs.\u001b[0m\u001b[0;34m\u001b[0m\u001b[0;34m\u001b[0m\u001b[0m\n\u001b[1;32m   1413\u001b[0m               \u001b[0mend_step\u001b[0m \u001b[0;34m=\u001b[0m \u001b[0mstep\u001b[0m \u001b[0;34m+\u001b[0m \u001b[0mdata_handler\u001b[0m\u001b[0;34m.\u001b[0m\u001b[0mstep_increment\u001b[0m\u001b[0;34m\u001b[0m\u001b[0;34m\u001b[0m\u001b[0m\n\u001b[0;32m-> 1414\u001b[0;31m               \u001b[0mcallbacks\u001b[0m\u001b[0;34m.\u001b[0m\u001b[0mon_train_batch_end\u001b[0m\u001b[0;34m(\u001b[0m\u001b[0mend_step\u001b[0m\u001b[0;34m,\u001b[0m \u001b[0mlogs\u001b[0m\u001b[0;34m)\u001b[0m\u001b[0;34m\u001b[0m\u001b[0;34m\u001b[0m\u001b[0m\n\u001b[0m\u001b[1;32m   1415\u001b[0m               \u001b[0;32mif\u001b[0m \u001b[0mself\u001b[0m\u001b[0;34m.\u001b[0m\u001b[0mstop_training\u001b[0m\u001b[0;34m:\u001b[0m\u001b[0;34m\u001b[0m\u001b[0;34m\u001b[0m\u001b[0m\n\u001b[1;32m   1416\u001b[0m                 \u001b[0;32mbreak\u001b[0m\u001b[0;34m\u001b[0m\u001b[0;34m\u001b[0m\u001b[0m\n",
      "\u001b[0;32m~/Documents/Documents - Nathan’s MacBook Pro/data-science/oreilly-hands-on-machine-learning/venv/lib/python3.7/site-packages/keras/callbacks.py\u001b[0m in \u001b[0;36mon_train_batch_end\u001b[0;34m(self, batch, logs)\u001b[0m\n\u001b[1;32m    436\u001b[0m     \"\"\"\n\u001b[1;32m    437\u001b[0m     \u001b[0;32mif\u001b[0m \u001b[0mself\u001b[0m\u001b[0;34m.\u001b[0m\u001b[0m_should_call_train_batch_hooks\u001b[0m\u001b[0;34m:\u001b[0m\u001b[0;34m\u001b[0m\u001b[0;34m\u001b[0m\u001b[0m\n\u001b[0;32m--> 438\u001b[0;31m       \u001b[0mself\u001b[0m\u001b[0;34m.\u001b[0m\u001b[0m_call_batch_hook\u001b[0m\u001b[0;34m(\u001b[0m\u001b[0mModeKeys\u001b[0m\u001b[0;34m.\u001b[0m\u001b[0mTRAIN\u001b[0m\u001b[0;34m,\u001b[0m \u001b[0;34m'end'\u001b[0m\u001b[0;34m,\u001b[0m \u001b[0mbatch\u001b[0m\u001b[0;34m,\u001b[0m \u001b[0mlogs\u001b[0m\u001b[0;34m=\u001b[0m\u001b[0mlogs\u001b[0m\u001b[0;34m)\u001b[0m\u001b[0;34m\u001b[0m\u001b[0;34m\u001b[0m\u001b[0m\n\u001b[0m\u001b[1;32m    439\u001b[0m \u001b[0;34m\u001b[0m\u001b[0m\n\u001b[1;32m    440\u001b[0m   \u001b[0;32mdef\u001b[0m \u001b[0mon_test_batch_begin\u001b[0m\u001b[0;34m(\u001b[0m\u001b[0mself\u001b[0m\u001b[0;34m,\u001b[0m \u001b[0mbatch\u001b[0m\u001b[0;34m,\u001b[0m \u001b[0mlogs\u001b[0m\u001b[0;34m=\u001b[0m\u001b[0;32mNone\u001b[0m\u001b[0;34m)\u001b[0m\u001b[0;34m:\u001b[0m\u001b[0;34m\u001b[0m\u001b[0;34m\u001b[0m\u001b[0m\n",
      "\u001b[0;32m~/Documents/Documents - Nathan’s MacBook Pro/data-science/oreilly-hands-on-machine-learning/venv/lib/python3.7/site-packages/keras/callbacks.py\u001b[0m in \u001b[0;36m_call_batch_hook\u001b[0;34m(self, mode, hook, batch, logs)\u001b[0m\n\u001b[1;32m    295\u001b[0m       \u001b[0mself\u001b[0m\u001b[0;34m.\u001b[0m\u001b[0m_call_batch_begin_hook\u001b[0m\u001b[0;34m(\u001b[0m\u001b[0mmode\u001b[0m\u001b[0;34m,\u001b[0m \u001b[0mbatch\u001b[0m\u001b[0;34m,\u001b[0m \u001b[0mlogs\u001b[0m\u001b[0;34m)\u001b[0m\u001b[0;34m\u001b[0m\u001b[0;34m\u001b[0m\u001b[0m\n\u001b[1;32m    296\u001b[0m     \u001b[0;32melif\u001b[0m \u001b[0mhook\u001b[0m \u001b[0;34m==\u001b[0m \u001b[0;34m'end'\u001b[0m\u001b[0;34m:\u001b[0m\u001b[0;34m\u001b[0m\u001b[0;34m\u001b[0m\u001b[0m\n\u001b[0;32m--> 297\u001b[0;31m       \u001b[0mself\u001b[0m\u001b[0;34m.\u001b[0m\u001b[0m_call_batch_end_hook\u001b[0m\u001b[0;34m(\u001b[0m\u001b[0mmode\u001b[0m\u001b[0;34m,\u001b[0m \u001b[0mbatch\u001b[0m\u001b[0;34m,\u001b[0m \u001b[0mlogs\u001b[0m\u001b[0;34m)\u001b[0m\u001b[0;34m\u001b[0m\u001b[0;34m\u001b[0m\u001b[0m\n\u001b[0m\u001b[1;32m    298\u001b[0m     \u001b[0;32melse\u001b[0m\u001b[0;34m:\u001b[0m\u001b[0;34m\u001b[0m\u001b[0;34m\u001b[0m\u001b[0m\n\u001b[1;32m    299\u001b[0m       raise ValueError(\n",
      "\u001b[0;32m~/Documents/Documents - Nathan’s MacBook Pro/data-science/oreilly-hands-on-machine-learning/venv/lib/python3.7/site-packages/keras/callbacks.py\u001b[0m in \u001b[0;36m_call_batch_end_hook\u001b[0;34m(self, mode, batch, logs)\u001b[0m\n\u001b[1;32m    316\u001b[0m       \u001b[0mself\u001b[0m\u001b[0;34m.\u001b[0m\u001b[0m_batch_times\u001b[0m\u001b[0;34m.\u001b[0m\u001b[0mappend\u001b[0m\u001b[0;34m(\u001b[0m\u001b[0mbatch_time\u001b[0m\u001b[0;34m)\u001b[0m\u001b[0;34m\u001b[0m\u001b[0;34m\u001b[0m\u001b[0m\n\u001b[1;32m    317\u001b[0m \u001b[0;34m\u001b[0m\u001b[0m\n\u001b[0;32m--> 318\u001b[0;31m     \u001b[0mself\u001b[0m\u001b[0;34m.\u001b[0m\u001b[0m_call_batch_hook_helper\u001b[0m\u001b[0;34m(\u001b[0m\u001b[0mhook_name\u001b[0m\u001b[0;34m,\u001b[0m \u001b[0mbatch\u001b[0m\u001b[0;34m,\u001b[0m \u001b[0mlogs\u001b[0m\u001b[0;34m)\u001b[0m\u001b[0;34m\u001b[0m\u001b[0;34m\u001b[0m\u001b[0m\n\u001b[0m\u001b[1;32m    319\u001b[0m \u001b[0;34m\u001b[0m\u001b[0m\n\u001b[1;32m    320\u001b[0m     \u001b[0;32mif\u001b[0m \u001b[0mlen\u001b[0m\u001b[0;34m(\u001b[0m\u001b[0mself\u001b[0m\u001b[0;34m.\u001b[0m\u001b[0m_batch_times\u001b[0m\u001b[0;34m)\u001b[0m \u001b[0;34m>=\u001b[0m \u001b[0mself\u001b[0m\u001b[0;34m.\u001b[0m\u001b[0m_num_batches_for_timing_check\u001b[0m\u001b[0;34m:\u001b[0m\u001b[0;34m\u001b[0m\u001b[0;34m\u001b[0m\u001b[0m\n",
      "\u001b[0;32m~/Documents/Documents - Nathan’s MacBook Pro/data-science/oreilly-hands-on-machine-learning/venv/lib/python3.7/site-packages/keras/callbacks.py\u001b[0m in \u001b[0;36m_call_batch_hook_helper\u001b[0;34m(self, hook_name, batch, logs)\u001b[0m\n\u001b[1;32m    354\u001b[0m     \u001b[0;32mfor\u001b[0m \u001b[0mcallback\u001b[0m \u001b[0;32min\u001b[0m \u001b[0mself\u001b[0m\u001b[0;34m.\u001b[0m\u001b[0mcallbacks\u001b[0m\u001b[0;34m:\u001b[0m\u001b[0;34m\u001b[0m\u001b[0;34m\u001b[0m\u001b[0m\n\u001b[1;32m    355\u001b[0m       \u001b[0mhook\u001b[0m \u001b[0;34m=\u001b[0m \u001b[0mgetattr\u001b[0m\u001b[0;34m(\u001b[0m\u001b[0mcallback\u001b[0m\u001b[0;34m,\u001b[0m \u001b[0mhook_name\u001b[0m\u001b[0;34m)\u001b[0m\u001b[0;34m\u001b[0m\u001b[0;34m\u001b[0m\u001b[0m\n\u001b[0;32m--> 356\u001b[0;31m       \u001b[0mhook\u001b[0m\u001b[0;34m(\u001b[0m\u001b[0mbatch\u001b[0m\u001b[0;34m,\u001b[0m \u001b[0mlogs\u001b[0m\u001b[0;34m)\u001b[0m\u001b[0;34m\u001b[0m\u001b[0;34m\u001b[0m\u001b[0m\n\u001b[0m\u001b[1;32m    357\u001b[0m \u001b[0;34m\u001b[0m\u001b[0m\n\u001b[1;32m    358\u001b[0m     \u001b[0;32mif\u001b[0m \u001b[0mself\u001b[0m\u001b[0;34m.\u001b[0m\u001b[0m_check_timing\u001b[0m\u001b[0;34m:\u001b[0m\u001b[0;34m\u001b[0m\u001b[0;34m\u001b[0m\u001b[0m\n",
      "\u001b[0;32m~/Documents/Documents - Nathan’s MacBook Pro/data-science/oreilly-hands-on-machine-learning/venv/lib/python3.7/site-packages/keras/callbacks.py\u001b[0m in \u001b[0;36mon_train_batch_end\u001b[0;34m(self, batch, logs)\u001b[0m\n\u001b[1;32m   1032\u001b[0m \u001b[0;34m\u001b[0m\u001b[0m\n\u001b[1;32m   1033\u001b[0m   \u001b[0;32mdef\u001b[0m \u001b[0mon_train_batch_end\u001b[0m\u001b[0;34m(\u001b[0m\u001b[0mself\u001b[0m\u001b[0;34m,\u001b[0m \u001b[0mbatch\u001b[0m\u001b[0;34m,\u001b[0m \u001b[0mlogs\u001b[0m\u001b[0;34m=\u001b[0m\u001b[0;32mNone\u001b[0m\u001b[0;34m)\u001b[0m\u001b[0;34m:\u001b[0m\u001b[0;34m\u001b[0m\u001b[0;34m\u001b[0m\u001b[0m\n\u001b[0;32m-> 1034\u001b[0;31m     \u001b[0mself\u001b[0m\u001b[0;34m.\u001b[0m\u001b[0m_batch_update_progbar\u001b[0m\u001b[0;34m(\u001b[0m\u001b[0mbatch\u001b[0m\u001b[0;34m,\u001b[0m \u001b[0mlogs\u001b[0m\u001b[0;34m)\u001b[0m\u001b[0;34m\u001b[0m\u001b[0;34m\u001b[0m\u001b[0m\n\u001b[0m\u001b[1;32m   1035\u001b[0m \u001b[0;34m\u001b[0m\u001b[0m\n\u001b[1;32m   1036\u001b[0m   \u001b[0;32mdef\u001b[0m \u001b[0mon_test_batch_end\u001b[0m\u001b[0;34m(\u001b[0m\u001b[0mself\u001b[0m\u001b[0;34m,\u001b[0m \u001b[0mbatch\u001b[0m\u001b[0;34m,\u001b[0m \u001b[0mlogs\u001b[0m\u001b[0;34m=\u001b[0m\u001b[0;32mNone\u001b[0m\u001b[0;34m)\u001b[0m\u001b[0;34m:\u001b[0m\u001b[0;34m\u001b[0m\u001b[0;34m\u001b[0m\u001b[0m\n",
      "\u001b[0;32m~/Documents/Documents - Nathan’s MacBook Pro/data-science/oreilly-hands-on-machine-learning/venv/lib/python3.7/site-packages/keras/callbacks.py\u001b[0m in \u001b[0;36m_batch_update_progbar\u001b[0;34m(self, batch, logs)\u001b[0m\n\u001b[1;32m   1090\u001b[0m     \u001b[0;34m\"\"\"Updates the progbar.\"\"\"\u001b[0m\u001b[0;34m\u001b[0m\u001b[0;34m\u001b[0m\u001b[0m\n\u001b[1;32m   1091\u001b[0m     \u001b[0mlogs\u001b[0m \u001b[0;34m=\u001b[0m \u001b[0mlogs\u001b[0m \u001b[0;32mor\u001b[0m \u001b[0;34m{\u001b[0m\u001b[0;34m}\u001b[0m\u001b[0;34m\u001b[0m\u001b[0;34m\u001b[0m\u001b[0m\n\u001b[0;32m-> 1092\u001b[0;31m     \u001b[0mself\u001b[0m\u001b[0;34m.\u001b[0m\u001b[0m_maybe_init_progbar\u001b[0m\u001b[0;34m(\u001b[0m\u001b[0;34m)\u001b[0m\u001b[0;34m\u001b[0m\u001b[0;34m\u001b[0m\u001b[0m\n\u001b[0m\u001b[1;32m   1093\u001b[0m     \u001b[0;32mif\u001b[0m \u001b[0mself\u001b[0m\u001b[0;34m.\u001b[0m\u001b[0muse_steps\u001b[0m\u001b[0;34m:\u001b[0m\u001b[0;34m\u001b[0m\u001b[0;34m\u001b[0m\u001b[0m\n\u001b[1;32m   1094\u001b[0m       \u001b[0mself\u001b[0m\u001b[0;34m.\u001b[0m\u001b[0mseen\u001b[0m \u001b[0;34m=\u001b[0m \u001b[0mbatch\u001b[0m \u001b[0;34m+\u001b[0m \u001b[0;36m1\u001b[0m  \u001b[0;31m# One-indexed.\u001b[0m\u001b[0;34m\u001b[0m\u001b[0;34m\u001b[0m\u001b[0m\n",
      "\u001b[0;32m~/Documents/Documents - Nathan’s MacBook Pro/data-science/oreilly-hands-on-machine-learning/venv/lib/python3.7/site-packages/keras/callbacks.py\u001b[0m in \u001b[0;36m_maybe_init_progbar\u001b[0;34m(self)\u001b[0m\n\u001b[1;32m   1067\u001b[0m       \u001b[0;31m# step.\u001b[0m\u001b[0;34m\u001b[0m\u001b[0;34m\u001b[0m\u001b[0;34m\u001b[0m\u001b[0m\n\u001b[1;32m   1068\u001b[0m       self.stateful_metrics = self.stateful_metrics.union(\n\u001b[0;32m-> 1069\u001b[0;31m           set(m.name for m in self.model.metrics))\n\u001b[0m\u001b[1;32m   1070\u001b[0m \u001b[0;34m\u001b[0m\u001b[0m\n\u001b[1;32m   1071\u001b[0m     \u001b[0;32mif\u001b[0m \u001b[0mself\u001b[0m\u001b[0;34m.\u001b[0m\u001b[0mprogbar\u001b[0m \u001b[0;32mis\u001b[0m \u001b[0;32mNone\u001b[0m\u001b[0;34m:\u001b[0m\u001b[0;34m\u001b[0m\u001b[0;34m\u001b[0m\u001b[0m\n",
      "\u001b[0;32m~/Documents/Documents - Nathan’s MacBook Pro/data-science/oreilly-hands-on-machine-learning/venv/lib/python3.7/site-packages/keras/engine/training.py\u001b[0m in \u001b[0;36mmetrics\u001b[0;34m(self)\u001b[0m\n\u001b[1;32m    743\u001b[0m         \u001b[0mmetrics\u001b[0m \u001b[0;34m+=\u001b[0m \u001b[0mself\u001b[0m\u001b[0;34m.\u001b[0m\u001b[0mcompiled_metrics\u001b[0m\u001b[0;34m.\u001b[0m\u001b[0mmetrics\u001b[0m\u001b[0;34m\u001b[0m\u001b[0;34m\u001b[0m\u001b[0m\n\u001b[1;32m    744\u001b[0m \u001b[0;34m\u001b[0m\u001b[0m\n\u001b[0;32m--> 745\u001b[0;31m     \u001b[0;32mfor\u001b[0m \u001b[0ml\u001b[0m \u001b[0;32min\u001b[0m \u001b[0mself\u001b[0m\u001b[0;34m.\u001b[0m\u001b[0m_flatten_layers\u001b[0m\u001b[0;34m(\u001b[0m\u001b[0;34m)\u001b[0m\u001b[0;34m:\u001b[0m\u001b[0;34m\u001b[0m\u001b[0;34m\u001b[0m\u001b[0m\n\u001b[0m\u001b[1;32m    746\u001b[0m       \u001b[0mmetrics\u001b[0m\u001b[0;34m.\u001b[0m\u001b[0mextend\u001b[0m\u001b[0;34m(\u001b[0m\u001b[0ml\u001b[0m\u001b[0;34m.\u001b[0m\u001b[0m_metrics\u001b[0m\u001b[0;34m)\u001b[0m  \u001b[0;31m# pylint: disable=protected-access\u001b[0m\u001b[0;34m\u001b[0m\u001b[0;34m\u001b[0m\u001b[0m\n\u001b[1;32m    747\u001b[0m     \u001b[0;32mreturn\u001b[0m \u001b[0mmetrics\u001b[0m\u001b[0;34m\u001b[0m\u001b[0;34m\u001b[0m\u001b[0m\n",
      "\u001b[0;32m~/Documents/Documents - Nathan’s MacBook Pro/data-science/oreilly-hands-on-machine-learning/venv/lib/python3.7/site-packages/keras/engine/base_layer.py\u001b[0m in \u001b[0;36m_flatten_layers\u001b[0;34m(self, recursive, include_self)\u001b[0m\n\u001b[1;32m   2943\u001b[0m   \u001b[0;32mdef\u001b[0m \u001b[0m_flatten_layers\u001b[0m\u001b[0;34m(\u001b[0m\u001b[0mself\u001b[0m\u001b[0;34m,\u001b[0m \u001b[0mrecursive\u001b[0m\u001b[0;34m=\u001b[0m\u001b[0;32mTrue\u001b[0m\u001b[0;34m,\u001b[0m \u001b[0minclude_self\u001b[0m\u001b[0;34m=\u001b[0m\u001b[0;32mTrue\u001b[0m\u001b[0;34m)\u001b[0m\u001b[0;34m:\u001b[0m\u001b[0;34m\u001b[0m\u001b[0;34m\u001b[0m\u001b[0m\n\u001b[1;32m   2944\u001b[0m     for m in self._flatten_modules(\n\u001b[0;32m-> 2945\u001b[0;31m         recursive=recursive, include_self=include_self):\n\u001b[0m\u001b[1;32m   2946\u001b[0m       \u001b[0;32mif\u001b[0m \u001b[0misinstance\u001b[0m\u001b[0;34m(\u001b[0m\u001b[0mm\u001b[0m\u001b[0;34m,\u001b[0m \u001b[0mLayer\u001b[0m\u001b[0;34m)\u001b[0m\u001b[0;34m:\u001b[0m\u001b[0;34m\u001b[0m\u001b[0;34m\u001b[0m\u001b[0m\n\u001b[1;32m   2947\u001b[0m         \u001b[0;32myield\u001b[0m \u001b[0mm\u001b[0m\u001b[0;34m\u001b[0m\u001b[0;34m\u001b[0m\u001b[0m\n",
      "\u001b[0;32m~/Documents/Documents - Nathan’s MacBook Pro/data-science/oreilly-hands-on-machine-learning/venv/lib/python3.7/site-packages/keras/engine/base_layer.py\u001b[0m in \u001b[0;36m_flatten_modules\u001b[0;34m(self, recursive, include_self)\u001b[0m\n\u001b[1;32m   2961\u001b[0m \u001b[0;34m\u001b[0m\u001b[0m\n\u001b[1;32m   2962\u001b[0m     \u001b[0;31m# Only instantiate set and deque if needed.\u001b[0m\u001b[0;34m\u001b[0m\u001b[0;34m\u001b[0m\u001b[0;34m\u001b[0m\u001b[0m\n\u001b[0;32m-> 2963\u001b[0;31m     \u001b[0mtrackables\u001b[0m \u001b[0;34m=\u001b[0m \u001b[0mgetattr\u001b[0m\u001b[0;34m(\u001b[0m\u001b[0mself\u001b[0m\u001b[0;34m,\u001b[0m \u001b[0;34m'_self_tracked_trackables'\u001b[0m\u001b[0;34m,\u001b[0m \u001b[0;32mNone\u001b[0m\u001b[0;34m)\u001b[0m\u001b[0;34m\u001b[0m\u001b[0;34m\u001b[0m\u001b[0m\n\u001b[0m\u001b[1;32m   2964\u001b[0m     \u001b[0;32mif\u001b[0m \u001b[0mtrackables\u001b[0m\u001b[0;34m:\u001b[0m\u001b[0;34m\u001b[0m\u001b[0;34m\u001b[0m\u001b[0m\n\u001b[1;32m   2965\u001b[0m       \u001b[0mseen_object_ids\u001b[0m \u001b[0;34m=\u001b[0m \u001b[0mset\u001b[0m\u001b[0;34m(\u001b[0m\u001b[0;34m)\u001b[0m\u001b[0;34m\u001b[0m\u001b[0;34m\u001b[0m\u001b[0m\n",
      "\u001b[0;31mKeyboardInterrupt\u001b[0m: "
     ]
    }
   ],
   "source": [
    "history = model.fit(\n",
    "    X_train, \n",
    "    y_train, \n",
    "    epochs=50, \n",
    "    validation_data=(X_valid, y_valid),\n",
    "    callbacks=[lr_scheduler, early_stopping, tensorboard_cb],\n",
    ")"
   ]
  },
  {
   "cell_type": "markdown",
   "id": "a2fc3305",
   "metadata": {},
   "source": [
    "## CNN"
   ]
  },
  {
   "cell_type": "code",
   "execution_count": 67,
   "id": "eb58f3cc",
   "metadata": {},
   "outputs": [],
   "source": [
    "log_dir = './tensorboard-logs/image-classifier-fashion-dataset/cnn'\n",
    "tensorboard_cb = keras.callbacks.TensorBoard(log_dir)"
   ]
  },
  {
   "cell_type": "code",
   "execution_count": 68,
   "id": "51b722a3",
   "metadata": {},
   "outputs": [],
   "source": [
    "# setup model\n",
    "from keras.models import Sequential\n",
    "from keras.layers import Conv2D, Flatten, Dense, MaxPooling2D, Dropout\n",
    "\n",
    "\n",
    "model = Sequential()\n",
    "model.add(Conv2D(32, \n",
    "                 kernel_size=(3, 3),\n",
    "                 activation='relu',\n",
    "                 kernel_initializer='he_normal',\n",
    "                 input_shape=(28,28,1)))\n",
    "model.add(MaxPooling2D((2, 2)))\n",
    "model.add(Dropout(0.25))\n",
    "model.add(Conv2D(64, (3, 3), activation='relu'))\n",
    "model.add(MaxPooling2D(pool_size=(2, 2)))\n",
    "model.add(Dropout(0.25))\n",
    "model.add(Conv2D(128, (3, 3), activation='relu'))\n",
    "model.add(Dropout(0.4))\n",
    "model.add(Flatten())\n",
    "model.add(Dense(128, activation='relu'))\n",
    "model.add(Dropout(0.3))\n",
    "model.add(Dense(10, activation='softmax'))"
   ]
  },
  {
   "cell_type": "code",
   "execution_count": 70,
   "id": "3cd80306",
   "metadata": {},
   "outputs": [],
   "source": [
    "# setup optimizer\n",
    "optimizer = keras.optimizers.SGD(momentum=0.8)\n",
    "\n",
    "# compile\n",
    "model.compile(\n",
    "    loss=\"sparse_categorical_crossentropy\", # sparse labels\n",
    "    optimizer=optimizer,\n",
    "    metrics=[\"accuracy\"]\n",
    ")"
   ]
  },
  {
   "cell_type": "code",
   "execution_count": 72,
   "id": "6fdf9ea2",
   "metadata": {},
   "outputs": [
    {
     "name": "stdout",
     "output_type": "stream",
     "text": [
      "\n",
      "Epoch 1: LearningRateScheduler setting learning rate to 0.10000000149011612.\n",
      "Epoch 1/50\n",
      "1719/1719 [==============================] - 42s 24ms/step - loss: 0.7660 - accuracy: 0.7162 - val_loss: 0.4861 - val_accuracy: 0.8142 - lr: 0.1000\n",
      "\n",
      "Epoch 2: LearningRateScheduler setting learning rate to 0.10000000149011612.\n",
      "Epoch 2/50\n",
      "1719/1719 [==============================] - 41s 24ms/step - loss: 0.6176 - accuracy: 0.7749 - val_loss: 0.4713 - val_accuracy: 0.8212 - lr: 0.1000\n",
      "\n",
      "Epoch 3: LearningRateScheduler setting learning rate to 0.10000000149011612.\n",
      "Epoch 3/50\n",
      "1719/1719 [==============================] - 48s 28ms/step - loss: 0.5935 - accuracy: 0.7841 - val_loss: 0.4642 - val_accuracy: 0.8226 - lr: 0.1000\n",
      "\n",
      "Epoch 4: LearningRateScheduler setting learning rate to 0.10000000149011612.\n",
      "Epoch 4/50\n",
      " 200/1719 [==>...........................] - ETA: 49s - loss: 0.5821 - accuracy: 0.7808"
     ]
    },
    {
     "ename": "KeyboardInterrupt",
     "evalue": "",
     "output_type": "error",
     "traceback": [
      "\u001b[0;31m---------------------------------------------------------------------------\u001b[0m",
      "\u001b[0;31mKeyboardInterrupt\u001b[0m                         Traceback (most recent call last)",
      "\u001b[0;32m/var/folders/m8/33r7dt1137z8gq570nf7jt6m0000gn/T/ipykernel_2972/3584043544.py\u001b[0m in \u001b[0;36m<module>\u001b[0;34m\u001b[0m\n\u001b[1;32m      4\u001b[0m     \u001b[0mepochs\u001b[0m\u001b[0;34m=\u001b[0m\u001b[0;36m50\u001b[0m\u001b[0;34m,\u001b[0m\u001b[0;34m\u001b[0m\u001b[0;34m\u001b[0m\u001b[0m\n\u001b[1;32m      5\u001b[0m     \u001b[0mvalidation_data\u001b[0m\u001b[0;34m=\u001b[0m\u001b[0;34m(\u001b[0m\u001b[0mX_valid\u001b[0m\u001b[0;34m,\u001b[0m \u001b[0my_valid\u001b[0m\u001b[0;34m)\u001b[0m\u001b[0;34m,\u001b[0m\u001b[0;34m\u001b[0m\u001b[0;34m\u001b[0m\u001b[0m\n\u001b[0;32m----> 6\u001b[0;31m     \u001b[0mcallbacks\u001b[0m\u001b[0;34m=\u001b[0m\u001b[0;34m[\u001b[0m\u001b[0mlr_scheduler\u001b[0m\u001b[0;34m,\u001b[0m \u001b[0mearly_stopping\u001b[0m\u001b[0;34m,\u001b[0m \u001b[0mtensorboard_cb\u001b[0m\u001b[0;34m]\u001b[0m\u001b[0;34m,\u001b[0m\u001b[0;34m\u001b[0m\u001b[0;34m\u001b[0m\u001b[0m\n\u001b[0m\u001b[1;32m      7\u001b[0m )\n",
      "\u001b[0;32m~/Documents/Documents - Nathan’s MacBook Pro/data-science/oreilly-hands-on-machine-learning/venv/lib/python3.7/site-packages/keras/utils/traceback_utils.py\u001b[0m in \u001b[0;36merror_handler\u001b[0;34m(*args, **kwargs)\u001b[0m\n\u001b[1;32m     62\u001b[0m     \u001b[0mfiltered_tb\u001b[0m \u001b[0;34m=\u001b[0m \u001b[0;32mNone\u001b[0m\u001b[0;34m\u001b[0m\u001b[0;34m\u001b[0m\u001b[0m\n\u001b[1;32m     63\u001b[0m     \u001b[0;32mtry\u001b[0m\u001b[0;34m:\u001b[0m\u001b[0;34m\u001b[0m\u001b[0;34m\u001b[0m\u001b[0m\n\u001b[0;32m---> 64\u001b[0;31m       \u001b[0;32mreturn\u001b[0m \u001b[0mfn\u001b[0m\u001b[0;34m(\u001b[0m\u001b[0;34m*\u001b[0m\u001b[0margs\u001b[0m\u001b[0;34m,\u001b[0m \u001b[0;34m**\u001b[0m\u001b[0mkwargs\u001b[0m\u001b[0;34m)\u001b[0m\u001b[0;34m\u001b[0m\u001b[0;34m\u001b[0m\u001b[0m\n\u001b[0m\u001b[1;32m     65\u001b[0m     \u001b[0;32mexcept\u001b[0m \u001b[0mException\u001b[0m \u001b[0;32mas\u001b[0m \u001b[0me\u001b[0m\u001b[0;34m:\u001b[0m  \u001b[0;31m# pylint: disable=broad-except\u001b[0m\u001b[0;34m\u001b[0m\u001b[0;34m\u001b[0m\u001b[0m\n\u001b[1;32m     66\u001b[0m       \u001b[0mfiltered_tb\u001b[0m \u001b[0;34m=\u001b[0m \u001b[0m_process_traceback_frames\u001b[0m\u001b[0;34m(\u001b[0m\u001b[0me\u001b[0m\u001b[0;34m.\u001b[0m\u001b[0m__traceback__\u001b[0m\u001b[0;34m)\u001b[0m\u001b[0;34m\u001b[0m\u001b[0;34m\u001b[0m\u001b[0m\n",
      "\u001b[0;32m~/Documents/Documents - Nathan’s MacBook Pro/data-science/oreilly-hands-on-machine-learning/venv/lib/python3.7/site-packages/keras/engine/training.py\u001b[0m in \u001b[0;36mfit\u001b[0;34m(self, x, y, batch_size, epochs, verbose, callbacks, validation_split, validation_data, shuffle, class_weight, sample_weight, initial_epoch, steps_per_epoch, validation_steps, validation_batch_size, validation_freq, max_queue_size, workers, use_multiprocessing)\u001b[0m\n\u001b[1;32m   1407\u001b[0m                 _r=1):\n\u001b[1;32m   1408\u001b[0m               \u001b[0mcallbacks\u001b[0m\u001b[0;34m.\u001b[0m\u001b[0mon_train_batch_begin\u001b[0m\u001b[0;34m(\u001b[0m\u001b[0mstep\u001b[0m\u001b[0;34m)\u001b[0m\u001b[0;34m\u001b[0m\u001b[0;34m\u001b[0m\u001b[0m\n\u001b[0;32m-> 1409\u001b[0;31m               \u001b[0mtmp_logs\u001b[0m \u001b[0;34m=\u001b[0m \u001b[0mself\u001b[0m\u001b[0;34m.\u001b[0m\u001b[0mtrain_function\u001b[0m\u001b[0;34m(\u001b[0m\u001b[0miterator\u001b[0m\u001b[0;34m)\u001b[0m\u001b[0;34m\u001b[0m\u001b[0;34m\u001b[0m\u001b[0m\n\u001b[0m\u001b[1;32m   1410\u001b[0m               \u001b[0;32mif\u001b[0m \u001b[0mdata_handler\u001b[0m\u001b[0;34m.\u001b[0m\u001b[0mshould_sync\u001b[0m\u001b[0;34m:\u001b[0m\u001b[0;34m\u001b[0m\u001b[0;34m\u001b[0m\u001b[0m\n\u001b[1;32m   1411\u001b[0m                 \u001b[0mcontext\u001b[0m\u001b[0;34m.\u001b[0m\u001b[0masync_wait\u001b[0m\u001b[0;34m(\u001b[0m\u001b[0;34m)\u001b[0m\u001b[0;34m\u001b[0m\u001b[0;34m\u001b[0m\u001b[0m\n",
      "\u001b[0;32m~/Documents/Documents - Nathan’s MacBook Pro/data-science/oreilly-hands-on-machine-learning/venv/lib/python3.7/site-packages/tensorflow/python/util/traceback_utils.py\u001b[0m in \u001b[0;36merror_handler\u001b[0;34m(*args, **kwargs)\u001b[0m\n\u001b[1;32m    148\u001b[0m     \u001b[0mfiltered_tb\u001b[0m \u001b[0;34m=\u001b[0m \u001b[0;32mNone\u001b[0m\u001b[0;34m\u001b[0m\u001b[0;34m\u001b[0m\u001b[0m\n\u001b[1;32m    149\u001b[0m     \u001b[0;32mtry\u001b[0m\u001b[0;34m:\u001b[0m\u001b[0;34m\u001b[0m\u001b[0;34m\u001b[0m\u001b[0m\n\u001b[0;32m--> 150\u001b[0;31m       \u001b[0;32mreturn\u001b[0m \u001b[0mfn\u001b[0m\u001b[0;34m(\u001b[0m\u001b[0;34m*\u001b[0m\u001b[0margs\u001b[0m\u001b[0;34m,\u001b[0m \u001b[0;34m**\u001b[0m\u001b[0mkwargs\u001b[0m\u001b[0;34m)\u001b[0m\u001b[0;34m\u001b[0m\u001b[0;34m\u001b[0m\u001b[0m\n\u001b[0m\u001b[1;32m    151\u001b[0m     \u001b[0;32mexcept\u001b[0m \u001b[0mException\u001b[0m \u001b[0;32mas\u001b[0m \u001b[0me\u001b[0m\u001b[0;34m:\u001b[0m\u001b[0;34m\u001b[0m\u001b[0;34m\u001b[0m\u001b[0m\n\u001b[1;32m    152\u001b[0m       \u001b[0mfiltered_tb\u001b[0m \u001b[0;34m=\u001b[0m \u001b[0m_process_traceback_frames\u001b[0m\u001b[0;34m(\u001b[0m\u001b[0me\u001b[0m\u001b[0;34m.\u001b[0m\u001b[0m__traceback__\u001b[0m\u001b[0;34m)\u001b[0m\u001b[0;34m\u001b[0m\u001b[0;34m\u001b[0m\u001b[0m\n",
      "\u001b[0;32m~/Documents/Documents - Nathan’s MacBook Pro/data-science/oreilly-hands-on-machine-learning/venv/lib/python3.7/site-packages/tensorflow/python/eager/def_function.py\u001b[0m in \u001b[0;36m__call__\u001b[0;34m(self, *args, **kwds)\u001b[0m\n\u001b[1;32m    913\u001b[0m \u001b[0;34m\u001b[0m\u001b[0m\n\u001b[1;32m    914\u001b[0m       \u001b[0;32mwith\u001b[0m \u001b[0mOptionalXlaContext\u001b[0m\u001b[0;34m(\u001b[0m\u001b[0mself\u001b[0m\u001b[0;34m.\u001b[0m\u001b[0m_jit_compile\u001b[0m\u001b[0;34m)\u001b[0m\u001b[0;34m:\u001b[0m\u001b[0;34m\u001b[0m\u001b[0;34m\u001b[0m\u001b[0m\n\u001b[0;32m--> 915\u001b[0;31m         \u001b[0mresult\u001b[0m \u001b[0;34m=\u001b[0m \u001b[0mself\u001b[0m\u001b[0;34m.\u001b[0m\u001b[0m_call\u001b[0m\u001b[0;34m(\u001b[0m\u001b[0;34m*\u001b[0m\u001b[0margs\u001b[0m\u001b[0;34m,\u001b[0m \u001b[0;34m**\u001b[0m\u001b[0mkwds\u001b[0m\u001b[0;34m)\u001b[0m\u001b[0;34m\u001b[0m\u001b[0;34m\u001b[0m\u001b[0m\n\u001b[0m\u001b[1;32m    916\u001b[0m \u001b[0;34m\u001b[0m\u001b[0m\n\u001b[1;32m    917\u001b[0m       \u001b[0mnew_tracing_count\u001b[0m \u001b[0;34m=\u001b[0m \u001b[0mself\u001b[0m\u001b[0;34m.\u001b[0m\u001b[0mexperimental_get_tracing_count\u001b[0m\u001b[0;34m(\u001b[0m\u001b[0;34m)\u001b[0m\u001b[0;34m\u001b[0m\u001b[0;34m\u001b[0m\u001b[0m\n",
      "\u001b[0;32m~/Documents/Documents - Nathan’s MacBook Pro/data-science/oreilly-hands-on-machine-learning/venv/lib/python3.7/site-packages/tensorflow/python/eager/def_function.py\u001b[0m in \u001b[0;36m_call\u001b[0;34m(self, *args, **kwds)\u001b[0m\n\u001b[1;32m    945\u001b[0m       \u001b[0;31m# In this case we have created variables on the first call, so we run the\u001b[0m\u001b[0;34m\u001b[0m\u001b[0;34m\u001b[0m\u001b[0;34m\u001b[0m\u001b[0m\n\u001b[1;32m    946\u001b[0m       \u001b[0;31m# defunned version which is guaranteed to never create variables.\u001b[0m\u001b[0;34m\u001b[0m\u001b[0;34m\u001b[0m\u001b[0;34m\u001b[0m\u001b[0m\n\u001b[0;32m--> 947\u001b[0;31m       \u001b[0;32mreturn\u001b[0m \u001b[0mself\u001b[0m\u001b[0;34m.\u001b[0m\u001b[0m_stateless_fn\u001b[0m\u001b[0;34m(\u001b[0m\u001b[0;34m*\u001b[0m\u001b[0margs\u001b[0m\u001b[0;34m,\u001b[0m \u001b[0;34m**\u001b[0m\u001b[0mkwds\u001b[0m\u001b[0;34m)\u001b[0m  \u001b[0;31m# pylint: disable=not-callable\u001b[0m\u001b[0;34m\u001b[0m\u001b[0;34m\u001b[0m\u001b[0m\n\u001b[0m\u001b[1;32m    948\u001b[0m     \u001b[0;32melif\u001b[0m \u001b[0mself\u001b[0m\u001b[0;34m.\u001b[0m\u001b[0m_stateful_fn\u001b[0m \u001b[0;32mis\u001b[0m \u001b[0;32mnot\u001b[0m \u001b[0;32mNone\u001b[0m\u001b[0;34m:\u001b[0m\u001b[0;34m\u001b[0m\u001b[0;34m\u001b[0m\u001b[0m\n\u001b[1;32m    949\u001b[0m       \u001b[0;31m# Release the lock early so that multiple threads can perform the call\u001b[0m\u001b[0;34m\u001b[0m\u001b[0;34m\u001b[0m\u001b[0;34m\u001b[0m\u001b[0m\n",
      "\u001b[0;32m~/Documents/Documents - Nathan’s MacBook Pro/data-science/oreilly-hands-on-machine-learning/venv/lib/python3.7/site-packages/tensorflow/python/eager/function.py\u001b[0m in \u001b[0;36m__call__\u001b[0;34m(self, *args, **kwargs)\u001b[0m\n\u001b[1;32m   2452\u001b[0m        filtered_flat_args) = self._maybe_define_function(args, kwargs)\n\u001b[1;32m   2453\u001b[0m     return graph_function._call_flat(\n\u001b[0;32m-> 2454\u001b[0;31m         filtered_flat_args, captured_inputs=graph_function.captured_inputs)  # pylint: disable=protected-access\n\u001b[0m\u001b[1;32m   2455\u001b[0m \u001b[0;34m\u001b[0m\u001b[0m\n\u001b[1;32m   2456\u001b[0m   \u001b[0;34m@\u001b[0m\u001b[0mproperty\u001b[0m\u001b[0;34m\u001b[0m\u001b[0;34m\u001b[0m\u001b[0m\n",
      "\u001b[0;32m~/Documents/Documents - Nathan’s MacBook Pro/data-science/oreilly-hands-on-machine-learning/venv/lib/python3.7/site-packages/tensorflow/python/eager/function.py\u001b[0m in \u001b[0;36m_call_flat\u001b[0;34m(self, args, captured_inputs, cancellation_manager)\u001b[0m\n\u001b[1;32m   1859\u001b[0m       \u001b[0;31m# No tape is watching; skip to running the function.\u001b[0m\u001b[0;34m\u001b[0m\u001b[0;34m\u001b[0m\u001b[0;34m\u001b[0m\u001b[0m\n\u001b[1;32m   1860\u001b[0m       return self._build_call_outputs(self._inference_function.call(\n\u001b[0;32m-> 1861\u001b[0;31m           ctx, args, cancellation_manager=cancellation_manager))\n\u001b[0m\u001b[1;32m   1862\u001b[0m     forward_backward = self._select_forward_and_backward_functions(\n\u001b[1;32m   1863\u001b[0m         \u001b[0margs\u001b[0m\u001b[0;34m,\u001b[0m\u001b[0;34m\u001b[0m\u001b[0;34m\u001b[0m\u001b[0m\n",
      "\u001b[0;32m~/Documents/Documents - Nathan’s MacBook Pro/data-science/oreilly-hands-on-machine-learning/venv/lib/python3.7/site-packages/tensorflow/python/eager/function.py\u001b[0m in \u001b[0;36mcall\u001b[0;34m(self, ctx, args, cancellation_manager)\u001b[0m\n\u001b[1;32m    500\u001b[0m               \u001b[0minputs\u001b[0m\u001b[0;34m=\u001b[0m\u001b[0margs\u001b[0m\u001b[0;34m,\u001b[0m\u001b[0;34m\u001b[0m\u001b[0;34m\u001b[0m\u001b[0m\n\u001b[1;32m    501\u001b[0m               \u001b[0mattrs\u001b[0m\u001b[0;34m=\u001b[0m\u001b[0mattrs\u001b[0m\u001b[0;34m,\u001b[0m\u001b[0;34m\u001b[0m\u001b[0;34m\u001b[0m\u001b[0m\n\u001b[0;32m--> 502\u001b[0;31m               ctx=ctx)\n\u001b[0m\u001b[1;32m    503\u001b[0m         \u001b[0;32melse\u001b[0m\u001b[0;34m:\u001b[0m\u001b[0;34m\u001b[0m\u001b[0;34m\u001b[0m\u001b[0m\n\u001b[1;32m    504\u001b[0m           outputs = execute.execute_with_cancellation(\n",
      "\u001b[0;32m~/Documents/Documents - Nathan’s MacBook Pro/data-science/oreilly-hands-on-machine-learning/venv/lib/python3.7/site-packages/tensorflow/python/eager/execute.py\u001b[0m in \u001b[0;36mquick_execute\u001b[0;34m(op_name, num_outputs, inputs, attrs, ctx, name)\u001b[0m\n\u001b[1;32m     53\u001b[0m     \u001b[0mctx\u001b[0m\u001b[0;34m.\u001b[0m\u001b[0mensure_initialized\u001b[0m\u001b[0;34m(\u001b[0m\u001b[0;34m)\u001b[0m\u001b[0;34m\u001b[0m\u001b[0;34m\u001b[0m\u001b[0m\n\u001b[1;32m     54\u001b[0m     tensors = pywrap_tfe.TFE_Py_Execute(ctx._handle, device_name, op_name,\n\u001b[0;32m---> 55\u001b[0;31m                                         inputs, attrs, num_outputs)\n\u001b[0m\u001b[1;32m     56\u001b[0m   \u001b[0;32mexcept\u001b[0m \u001b[0mcore\u001b[0m\u001b[0;34m.\u001b[0m\u001b[0m_NotOkStatusException\u001b[0m \u001b[0;32mas\u001b[0m \u001b[0me\u001b[0m\u001b[0;34m:\u001b[0m\u001b[0;34m\u001b[0m\u001b[0;34m\u001b[0m\u001b[0m\n\u001b[1;32m     57\u001b[0m     \u001b[0;32mif\u001b[0m \u001b[0mname\u001b[0m \u001b[0;32mis\u001b[0m \u001b[0;32mnot\u001b[0m \u001b[0;32mNone\u001b[0m\u001b[0;34m:\u001b[0m\u001b[0;34m\u001b[0m\u001b[0;34m\u001b[0m\u001b[0m\n",
      "\u001b[0;31mKeyboardInterrupt\u001b[0m: "
     ]
    }
   ],
   "source": [
    "history = model.fit(\n",
    "    X_train, \n",
    "    y_train, \n",
    "    epochs=50, \n",
    "    validation_data=(X_valid, y_valid),\n",
    "    callbacks=[lr_scheduler, early_stopping, tensorboard_cb],\n",
    ")"
   ]
  },
  {
   "cell_type": "code",
   "execution_count": null,
   "id": "f4938e74",
   "metadata": {},
   "outputs": [],
   "source": []
  }
 ],
 "metadata": {
  "kernelspec": {
   "display_name": "Python 3 (ipykernel)",
   "language": "python",
   "name": "python3"
  },
  "language_info": {
   "codemirror_mode": {
    "name": "ipython",
    "version": 3
   },
   "file_extension": ".py",
   "mimetype": "text/x-python",
   "name": "python",
   "nbconvert_exporter": "python",
   "pygments_lexer": "ipython3",
   "version": "3.7.12"
  }
 },
 "nbformat": 4,
 "nbformat_minor": 5
}
